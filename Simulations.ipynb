{
 "cells": [
  {
   "cell_type": "code",
   "execution_count": 17,
   "metadata": {},
   "outputs": [],
   "source": [
    "\"\"\"\n",
    "Statistical estimates and inference of Rayleigh distribution in gun target data\n",
    "\"\"\"\n",
    "import numpy as np\n",
    "import math\n",
    "from scipy.stats.distributions import chi2"
   ]
  },
  {
   "cell_type": "code",
   "execution_count": 146,
   "metadata": {},
   "outputs": [],
   "source": [
    "class group:\n",
    "    \"\"\"Estimators of Rayleigh sigma and confidence from shot groups\"\"\"\n",
    "    cG = {}  # Memoize cG correction factor\n",
    "\n",
    "    def __init__(self, n: int, shots: list[list[float]]=[], runOrderStatistics: bool=False):\n",
    "        \"\"\"\n",
    "        :param n: Number of shots\n",
    "        :param shots: List of (x,y) coordinates of center of each shot\n",
    "            If no data provided then all simulation samples will be drawn from X,Y~N(0,1)\n",
    "            in which case we know the true parameter we're estimating is sigma=1        \n",
    "        \"\"\"\n",
    "        g = 1\n",
    "        self.n = n\n",
    "        self.degrees = 2*(n-g)\n",
    "        if n not in group.cG:\n",
    "            d = self.degrees + 1\n",
    "            group.cG[n] = 1/math.exp(math.log(math.sqrt(2/(d-1)))+math.lgamma(d/2)-math.lgamma((d-1)/2))\n",
    "\n",
    "        if len(shots) > 0:\n",
    "            self.shots = shots\n",
    "        else:  # If we didn't receive a group of shots then create one from standard normal\n",
    "            self.shots = [np.random.normal(size=2) for i in range(0,n)]\n",
    "\n",
    "        self.sampleCenter = np.mean(self.shots, axis=0)\n",
    "        self.centeredShots = np.add(self.shots, -self.sampleCenter)  # Shots adjusted so their centroid = (0,0)\n",
    "        self.radii = np.linalg.norm(self.centeredShots, axis=-1)  # List of radii from sample center\n",
    "        self.sumR2 = np.dot(self.radii, self.radii)\n",
    "        self.sigmaEstimate = group.cG[n] * math.sqrt(self.sumR2 / self.degrees)  # Unbiased Rayleigh parameter estimate\n",
    "        self.sigmaUpperConfidence = math.sqrt(self.sumR2 / chi2.ppf(0.05, self.degrees))  # Upper bound of 90% confidence interval\n",
    "\n",
    "        if runOrderStatistics: self.sigmaFromOrderStatistics()\n",
    "\n",
    "    def sigmaFromOrderStatistics(self):\n",
    "        # Ref http://ballistipedia.com/index.php?title=File:Order_Statistics_of_Exponential_Distribution_in_Censored_Samples.pdf\n",
    "        self.sortedShots = np.argsort(self.radii)  # Index of shot by radius, small to large\n",
    "        if self.n == 3:\n",
    "            self.orderSampleR2 = 0.5455 * self.Rstat(3)**2\n",
    "        elif self.n == 5:\n",
    "            self.orderSampleR2 = 0.7792 * self.Rstat(4)**2\n",
    "        elif self.n == 10:\n",
    "            self.orderSampleR2 = 0.4913 * self.Rstat(6)**2 + 0.3030 * self.Rstat(9)**2\n",
    "        else:\n",
    "            raise Exception(f\"No order statistics defined for n={self.n}\")\n",
    "        self.orderSampleSumR2 = self.n * self.orderSampleR2\n",
    "        self.sigmaOrderStatEstimate = group.cG[self.n] * math.sqrt(self.orderSampleSumR2 / self.degrees)\n",
    "        self.sigmaOrderStatUpperConfidence = math.sqrt(self.orderSampleSumR2 / chi2.ppf(0.05, self.degrees))  # Upper bound of 90% confidence interval -- OS estimate is 85% efficient\n",
    "        return self.sigmaOrderStatEstimate\n",
    "\n",
    "    def Rstat(self, m: int):\n",
    "        \"\"\"Return mth smallest radii -- i.e., order statistic R(m)\"\"\"\n",
    "        if m > self.n:\n",
    "            raise Exception(f\"Tried to access order statistic {m} on group size {self.n}\")\n",
    "        return self.radii[self.sortedShots][m-1]"
   ]
  },
  {
   "attachments": {},
   "cell_type": "markdown",
   "metadata": {},
   "source": [
    "# Simulation"
   ]
  },
  {
   "cell_type": "code",
   "execution_count": 147,
   "metadata": {},
   "outputs": [],
   "source": [
    "sim = [group(5, runOrderStatistics=True) for i in range(0,100000)]"
   ]
  },
  {
   "cell_type": "code",
   "execution_count": 148,
   "metadata": {},
   "outputs": [],
   "source": [
    "sigmaEstimates = [s.sigmaEstimate for s in sim]\n",
    "sigmaUppers = [s.sigmaUpperConfidence for s in sim]\n",
    "sigmaOSestimates = [s.sigmaOrderStatEstimate for s in sim]\n",
    "sigmaOSuppers = [s.sigmaOrderStatUpperConfidence for s in sim]"
   ]
  },
  {
   "cell_type": "code",
   "execution_count": 149,
   "metadata": {},
   "outputs": [
    {
     "name": "stdout",
     "output_type": "stream",
     "text": [
      "Sigma   mean=1.001\tmedian=0.989\tVar=0.064\t90%Confidence<Parameter=5%\n",
      "SigmaOS mean=1.012\tmedian=0.990\tVar=0.082\t90%Confidence<Parameter=6%\n",
      "\tOrder Stat Efficiency = 0.786\n"
     ]
    }
   ],
   "source": [
    "print(f\"Sigma   mean={np.mean(sigmaEstimates):.3f}\\tmedian={np.median(sigmaEstimates):.3f}\\tVar={np.var(sigmaEstimates):.3f}\\t90%Confidence<Parameter={sum(1 for x in sigmaUppers if x < 1)/len(sigmaUppers):.0%}\")\n",
    "print(f\"SigmaOS mean={np.mean(sigmaOSestimates):.3f}\\tmedian={np.median(sigmaOSestimates):.3f}\\tVar={np.var(sigmaOSestimates):.3f}\\t90%Confidence<Parameter={sum(1 for x in sigmaOSuppers if x < 1)/len(sigmaOSuppers):.0%}\")\n",
    "print(f\"\\tOrder Stat Efficiency = {(np.var(sigmaEstimates)/np.var(sigmaOSestimates)):.3f}\")"
   ]
  },
  {
   "attachments": {},
   "cell_type": "markdown",
   "metadata": {},
   "source": [
    "# Tests"
   ]
  },
  {
   "cell_type": "code",
   "execution_count": 76,
   "metadata": {},
   "outputs": [],
   "source": [
    "testData = [[ 0.40,  0.09],\n",
    "[  0.46,  0.19],\n",
    "[ -0.07, -0.30],\n",
    "[  0.60,  0.32],\n",
    "[ -0.07, -0.07],\n",
    "[  0.69, -0.14],\n",
    "[  0.22, -0.03],\n",
    "[ -0.05, -0.37],\n",
    "[  0.63, -0.23],\n",
    "[  0.32,  0.32],\n",
    "[ -0.06, -0.25],\n",
    "[  0.59, -0.29],\n",
    "[  0.36,  0.02],\n",
    "[  0.11,  0.19],\n",
    "[  0.34, -0.29],\n",
    "[  0.20, -0.66],\n",
    "[  0.13, -0.01],\n",
    "[  0.47, -0.23],\n",
    "[  0.14, -0.15],\n",
    "[  0.16, -0.32],\n",
    "]"
   ]
  },
  {
   "cell_type": "code",
   "execution_count": 150,
   "metadata": {},
   "outputs": [
    {
     "name": "stdout",
     "output_type": "stream",
     "text": [
      "[ 0.313 -0.022]\n",
      "0.27638744568795726\n",
      "0.37738311822923054\n",
      "0.2838577421986046\n",
      "0.38758316108670493\n"
     ]
    }
   ],
   "source": [
    "g1 = group(10, testData[0:10])\n",
    "g1.sigmaFromOrderStatistics()\n",
    "print(g1.sampleCenter)\n",
    "print(g1.sigmaEstimate)\n",
    "print(g1.sigmaUpperConfidence)\n",
    "print(g1.sigmaOrderStatEstimate)\n",
    "print(g1.sigmaOrderStatUpperConfidence)"
   ]
  },
  {
   "cell_type": "code",
   "execution_count": 152,
   "metadata": {},
   "outputs": [
    {
     "name": "stdout",
     "output_type": "stream",
     "text": [
      "0.2497434511422087\n",
      "0.3065983223591547\n"
     ]
    }
   ],
   "source": [
    "t = group(20, shots=testData)\n",
    "print(t.sigmaEstimate)\n",
    "print(t.sigmaUpperConfidence)"
   ]
  }
 ],
 "metadata": {
  "kernelspec": {
   "display_name": "Python 3",
   "language": "python",
   "name": "python3"
  },
  "language_info": {
   "codemirror_mode": {
    "name": "ipython",
    "version": 3
   },
   "file_extension": ".py",
   "mimetype": "text/x-python",
   "name": "python",
   "nbconvert_exporter": "python",
   "pygments_lexer": "ipython3",
   "version": "3.9.2"
  },
  "orig_nbformat": 4
 },
 "nbformat": 4,
 "nbformat_minor": 2
}
