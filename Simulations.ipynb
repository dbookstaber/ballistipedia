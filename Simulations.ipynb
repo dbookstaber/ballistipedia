{
 "cells": [
  {
   "attachments": {},
   "cell_type": "markdown",
   "metadata": {},
   "source": [
    "Monte Carlo simulations of [ballistic precision estimates](http://ballistipedia.com/index.php?title=Closed_Form_Precision) from sample targets"
   ]
  },
  {
   "cell_type": "code",
   "execution_count": 3,
   "metadata": {},
   "outputs": [],
   "source": [
    "\"\"\"\n",
    "Statistical estimates and inference of Rayleigh distribution in ballistic target data\n",
    "\"\"\"\n",
    "import numpy as np\n",
    "import math\n",
    "from scipy.stats.distributions import chi2"
   ]
  },
  {
   "cell_type": "code",
   "execution_count": 133,
   "metadata": {},
   "outputs": [],
   "source": [
    "class group:\n",
    "    \"\"\"Estimators of Rayleigh sigma, center, and confidence from shot groups\"\"\"\n",
    "    cG = {}  # Memoize cG correction factor\n",
    "    cR = {}  # center correction factor\n",
    "\n",
    "    def __init__(self, n: int, shots: list[list[float]]=[], sigma: float=1.0, runOrderStatistics: bool=False):\n",
    "        \"\"\"\n",
    "        :param n: Number of shots\n",
    "        :param shots: List of (x,y) coordinates of center of each shot\n",
    "            If no data provided then all simulation samples will be drawn from X,Y~N(0,1)\n",
    "            in which case we know the true parameter we're estimating is sigma=1 with center at the origin\n",
    "        \"\"\"\n",
    "        g = 1\n",
    "        self.n = n\n",
    "        self.degrees = 2*(n-g)  # Degrees of freedom of sigma estimate as chi^2-variate\n",
    "        self.sigma = sigma\n",
    "        if n not in group.cG:\n",
    "            d = self.degrees + 1\n",
    "            group.cG[n] = 1/math.exp(math.log(math.sqrt(2/(d-1)))+math.lgamma(d/2)-math.lgamma((d-1)/2))\n",
    "            group.cR[n] = math.exp(math.log(math.sqrt(d/math.pi)) + d * math.log(4) + math.lgamma(d+1) + math.lgamma(d) - math.lgamma(2*d+1))\n",
    "\n",
    "        if len(shots) > 0:\n",
    "            self.shots = shots\n",
    "        else:  # If we didn't receive a group of shots then create one from standard normal\n",
    "            self.shots = [np.random.normal(scale=sigma, size=2) for i in range(0,n)]\n",
    "\n",
    "        self.sampleCenter = np.mean(self.shots, axis=0)\n",
    "        self.centeredShots = np.add(self.shots, -self.sampleCenter) # Shots adjusted so their centroid = (0,0)\n",
    "        self.radii = np.linalg.norm(self.centeredShots, axis=-1)    # List of radii from sample center\n",
    "        self.sumR2 = np.dot(self.radii, self.radii)\n",
    "        self.sigmaEstimate = group.cG[n] * math.sqrt(self.sumR2 / self.degrees)  # Unbiased Rayleigh parameter estimate\n",
    "        self.sigmaUpperConfidence = math.sqrt(self.sumR2 / chi2.ppf(0.05, self.degrees))  # Upper bound of 90% confidence interval on estimate\n",
    "\n",
    "        # Sample distance to center\n",
    "        self.d2c = math.sqrt(np.dot(self.sampleCenter, self.sampleCenter))\n",
    "        # Median expected distance from sample center to true center = cR * sqrt(2*math.log(2)) * sigmaEstimate / sqrt(n)\n",
    "        self.d2cMedian = group.cR[n] * 1.177410022515474 * self.sigmaEstimate / math.sqrt(n)\n",
    "\n",
    "        if runOrderStatistics: self.sigmaFromOrderStatistics()\n",
    "\n",
    "    def sigmaFromOrderStatistics(self):\n",
    "        # Ref http://ballistipedia.com/index.php?title=File:Order_Statistics_of_Exponential_Distribution_in_Censored_Samples.pdf\n",
    "        def Rstat(m: int):\n",
    "            \"\"\"Return mth smallest radii -- i.e., order statistic R(m)\"\"\"\n",
    "            if m > self.n:\n",
    "                raise Exception(f\"Tried to access order statistic {m} on group size {self.n}\")\n",
    "            return self.radii[self.sortedShots][m-1]\n",
    "        \n",
    "        self.sortedShots = np.argsort(self.radii)  # Index of shot by radius, small to large\n",
    "        if self.n == 3:\n",
    "            self.orderSampleR2 = 0.66 * Rstat(3)**2\n",
    "        elif self.n == 5:\n",
    "            self.orderSampleR2 = 0.7792 * Rstat(4)**2\n",
    "        elif self.n == 10:\n",
    "            self.orderSampleR2 = 0.4913 * Rstat(6)**2 + 0.3030 * Rstat(9)**2\n",
    "        else:\n",
    "            raise Exception(f\"No order statistics defined for n={self.n}\")\n",
    "        self.orderSampleSumR2 = self.n * self.orderSampleR2\n",
    "        self.sigmaOrderStatEstimate = group.cG[self.n] * math.sqrt(self.orderSampleSumR2 / self.degrees)\n",
    "        self.sigmaOrderStatUpperConfidence = math.sqrt(self.orderSampleSumR2 / (chi2.ppf(0.05, self.degrees)))\n",
    "        return self.sigmaOrderStatEstimate\n"
   ]
  },
  {
   "attachments": {},
   "cell_type": "markdown",
   "metadata": {},
   "source": [
    "# Simulations\n",
    "For validation.  Note that the Upper limit of the 90% confidence interval should be < true parameter 5% of the time."
   ]
  },
  {
   "attachments": {},
   "cell_type": "markdown",
   "metadata": {},
   "source": [
    "### Sample center distance from true center"
   ]
  },
  {
   "cell_type": "code",
   "execution_count": 118,
   "metadata": {},
   "outputs": [
    {
     "name": "stdout",
     "output_type": "stream",
     "text": [
      "Sigma   mean=0.9981297366       \t90%Conf<Sigma=5.18%       \tMeanR =0.399       \tR<Ed2c=50.33%\n"
     ]
    }
   ],
   "source": [
    "sim10 = [group(10) for i in range(0,10000)]\n",
    "sigmaEstimates = [s.sigmaEstimate for s in sim10]\n",
    "sigmaUppers = [s.sigmaUpperConfidence for s in sim10]\n",
    "d2c = [s.d2c for s in sim10]\n",
    "Ed2c = [s.d2cMedian for s in sim10]\n",
    "print(f\"Sigma   mean={np.mean(sigmaEstimates):.10f} \\\n",
    "      \\t90%Conf<Sigma={sum(1 for x in sigmaUppers if x < sim10[0].sigma)/len(sigmaUppers):.2%} \\\n",
    "      \\tMeanR ={np.mean(d2c):.3f} \\\n",
    "      \\tR<Median={sum(1 for i in range(0, len(sigmaEstimates)) if d2c[i] > Ed2c[i])/len(sigmaEstimates):.2%}\")\n"
   ]
  },
  {
   "cell_type": "code",
   "execution_count": 119,
   "metadata": {},
   "outputs": [
    {
     "name": "stdout",
     "output_type": "stream",
     "text": [
      "Sigma   mean=1.000       \t90%Conf<Sigma=5.01%       \tMeanR =0.722       \tR<Ed2c=50.38%\n"
     ]
    }
   ],
   "source": [
    "sim3 = [group(3) for i in range(0,10000)]\n",
    "sigmaEstimates = [s.sigmaEstimate for s in sim3]\n",
    "sigmaUppers = [s.sigmaUpperConfidence for s in sim3]\n",
    "d2c = [s.d2c for s in sim3]\n",
    "Ed2c = [s.d2cMedian for s in sim3]\n",
    "print(f\"Sigma   mean={np.mean(sigmaEstimates):.3f} \\\n",
    "      \\t90%Conf<Sigma={sum(1 for x in sigmaUppers if x < sim10[0].sigma)/len(sigmaUppers):.2%} \\\n",
    "      \\tMeanR ={np.mean(d2c):.3f} \\\n",
    "      \\tR<Ed2c={sum(1 for i in range(0, len(sigmaEstimates)) if d2c[i] > Ed2c[i])/len(sigmaEstimates):.2%}\")\n"
   ]
  },
  {
   "attachments": {},
   "cell_type": "markdown",
   "metadata": {},
   "source": [
    "### Order Statistics"
   ]
  },
  {
   "cell_type": "code",
   "execution_count": 136,
   "metadata": {},
   "outputs": [
    {
     "name": "stdout",
     "output_type": "stream",
     "text": [
      "Sigma   mean=1.001\tVar=0.028\t90%Confidence<Parameter=4.89%\n",
      "SigmaOS mean=1.001\tVar=0.033\t90%OSConfidence<Parameter=5.95%\n",
      "\t\tOrder Stat Efficiency = 0.860\n"
     ]
    }
   ],
   "source": [
    "# n = 10\n",
    "sim = [group(10, runOrderStatistics=True) for i in range(0,10000)]\n",
    "sigmaEstimates = [s.sigmaEstimate for s in sim]\n",
    "sigmaUppers = [s.sigmaUpperConfidence for s in sim]\n",
    "sigmaOSestimates = [s.sigmaOrderStatEstimate for s in sim]\n",
    "sigmaOSuppers = [s.sigmaOrderStatUpperConfidence for s in sim]\n",
    "print(f\"Sigma   mean={np.mean(sigmaEstimates):.3f}\\tVar={np.var(sigmaEstimates):.3f}\\t90%Confidence<Parameter={sum(1 for x in sigmaUppers if x < 1)/len(sigmaUppers):.2%}\")\n",
    "print(f\"SigmaOS mean={np.mean(sigmaOSestimates):.3f}\\tVar={np.var(sigmaOSestimates):.3f}\\t90%OSConfidence<Parameter={sum(1 for x in sigmaOSuppers if x < 1)/len(sigmaOSuppers):.2%}\")\n",
    "print(f\"\\t\\tOrder Stat Efficiency = {(np.var(sigmaEstimates)/np.var(sigmaOSestimates)):.3f}\")"
   ]
  },
  {
   "cell_type": "code",
   "execution_count": 123,
   "metadata": {},
   "outputs": [
    {
     "name": "stdout",
     "output_type": "stream",
     "text": [
      "Sigma   mean=0.999\tmedian=0.993\tVar=0.032\t90%Confidence<Parameter=5.10%\n"
     ]
    }
   ],
   "source": [
    "# Verify that variance matches the order-statistic variance when we use Efficiency*n = 86% * 10 ≈ 9 samples for the best sigma estimator\n",
    "sim = [group(9) for i in range(0,10000)]\n",
    "sigmaEstimates = [s.sigmaEstimate for s in sim]\n",
    "sigmaUppers = [s.sigmaUpperConfidence for s in sim]\n",
    "print(f\"Sigma   mean={np.mean(sigmaEstimates):.3f}\\tVar={np.var(sigmaEstimates):.3f}\\t90%Confidence<Parameter={sum(1 for x in sigmaUppers if x < 1)/len(sigmaUppers):.2%}\")"
   ]
  },
  {
   "cell_type": "code",
   "execution_count": 138,
   "metadata": {},
   "outputs": [
    {
     "name": "stdout",
     "output_type": "stream",
     "text": [
      "Sigma   mean=1.002\tVar=0.064\t90%Confidence<Parameter=4.79%\n",
      "SigmaOS mean=1.014\tVar=0.081\t90%OSConfidence<Parameter=6.10%\n",
      "\t\tOrder Stat Efficiency = 0.791\n"
     ]
    }
   ],
   "source": [
    "# n = 5\n",
    "sim = [group(5, runOrderStatistics=True) for i in range(0,10000)]\n",
    "sigmaEstimates = [s.sigmaEstimate for s in sim]\n",
    "sigmaUppers = [s.sigmaUpperConfidence for s in sim]\n",
    "sigmaOSestimates = [s.sigmaOrderStatEstimate for s in sim]\n",
    "sigmaOSuppers = [s.sigmaOrderStatUpperConfidence for s in sim]\n",
    "print(f\"Sigma   mean={np.mean(sigmaEstimates):.3f}\\tVar={np.var(sigmaEstimates):.3f}\\t90%Confidence<Parameter={sum(1 for x in sigmaUppers if x < 1)/len(sigmaUppers):.2%}\")\n",
    "print(f\"SigmaOS mean={np.mean(sigmaOSestimates):.3f}\\tVar={np.var(sigmaOSestimates):.3f}\\t90%OSConfidence<Parameter={sum(1 for x in sigmaOSuppers if x < 1)/len(sigmaOSuppers):.2%}\")\n",
    "print(f\"\\t\\tOrder Stat Efficiency = {(np.var(sigmaEstimates)/np.var(sigmaOSestimates)):.3f}\")"
   ]
  },
  {
   "cell_type": "code",
   "execution_count": 139,
   "metadata": {},
   "outputs": [
    {
     "name": "stdout",
     "output_type": "stream",
     "text": [
      "Sigma   mean=1.000\tVar=0.132\t90%Confidence<Parameter=5.06%\n",
      "SigmaOS mean=1.041\tVar=0.149\t90%OSConfidence<Parameter=4.55%\n",
      "\t\tOrder Stat Efficiency = 0.884\n"
     ]
    }
   ],
   "source": [
    "# n = 3 ... at this size a single order statistic is a very coarse estimator\n",
    "sim = [group(3, runOrderStatistics=True) for i in range(0,50000)]\n",
    "sigmaEstimates = [s.sigmaEstimate for s in sim]\n",
    "sigmaUppers = [s.sigmaUpperConfidence for s in sim]\n",
    "sigmaOSestimates = [s.sigmaOrderStatEstimate for s in sim]\n",
    "sigmaOSuppers = [s.sigmaOrderStatUpperConfidence for s in sim]\n",
    "print(f\"Sigma   mean={np.mean(sigmaEstimates):.3f}\\tVar={np.var(sigmaEstimates):.3f}\\t90%Confidence<Parameter={sum(1 for x in sigmaUppers if x < 1)/len(sigmaUppers):.2%}\")\n",
    "print(f\"SigmaOS mean={np.mean(sigmaOSestimates):.3f}\\tVar={np.var(sigmaOSestimates):.3f}\\t90%OSConfidence<Parameter={sum(1 for x in sigmaOSuppers if x < 1)/len(sigmaOSuppers):.2%}\")\n",
    "print(f\"\\t\\tOrder Stat Efficiency = {(np.var(sigmaEstimates)/np.var(sigmaOSestimates)):.3f}\")"
   ]
  }
 ],
 "metadata": {
  "kernelspec": {
   "display_name": "Python 3",
   "language": "python",
   "name": "python3"
  },
  "language_info": {
   "codemirror_mode": {
    "name": "ipython",
    "version": 3
   },
   "file_extension": ".py",
   "mimetype": "text/x-python",
   "name": "python",
   "nbconvert_exporter": "python",
   "pygments_lexer": "ipython3",
   "version": "3.9.2"
  },
  "orig_nbformat": 4
 },
 "nbformat": 4,
 "nbformat_minor": 2
}
