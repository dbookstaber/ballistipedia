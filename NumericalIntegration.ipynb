{
 "cells": [
  {
   "cell_type": "code",
   "execution_count": 1,
   "metadata": {},
   "outputs": [
    {
     "name": "stdout",
     "output_type": "stream",
     "text": [
      "Scipy numerical integration gives probability 32.0%\n",
      "Numpy numerical integration gives probability 32.0%\n",
      "Monte Carlo simulation gives probability 31.9%\n"
     ]
    }
   ],
   "source": [
    "# Demo of 3 ways of doing integration over a bivariate normal distribution\n",
    "import numpy as np\n",
    "from scipy import integrate\n",
    "from scipy.stats import multivariate_normal\n",
    "\n",
    "(sigmaX, sigmaY) = (0.5, 0.8)  # Bivariate parameters. (We'll center at origin and have no correlation.)\n",
    "region = 1.0  # Region of interest is a unit square centered at the mean (0,0)\n",
    "\n",
    "# Method 1: Scipy numerical integration:\n",
    "def scipy_integration():\n",
    "    global sigmaX, sigmaY, region\n",
    "    def pdf(x,y):\n",
    "        return multivariate_normal.pdf([x,y], mean=[0,0], cov=[[sigmaX**2, 0], [0, sigmaY**2]])\n",
    "    probability, err = integrate.nquad(pdf, [[-region/2.0, region/2.0], [-region/2.0, region/2.0]])\n",
    "    return probability\n",
    "\n",
    "# Method 2: Numpy numerical integration:\n",
    "def numpy_integration():\n",
    "    global sigmaX, sigmaY, region\n",
    "    INTEGRATION_STEPS = 1_500  # Sample steps along each axis. More points = more precision but longer compute time.\n",
    "    # Create a grid of points over the target.  We assume shot group is centered on target – i.e., no sighting error.\n",
    "    x = np.linspace(-region/2.0, region/2.0, INTEGRATION_STEPS)\n",
    "    y = np.linspace(-region/2.0, region/2.0, INTEGRATION_STEPS)\n",
    "    XY = np.stack(np.meshgrid(x, y), axis=-1)\n",
    "    cov = np.array([[sigmaX**2, 0], [0, sigmaY**2]])\n",
    "    Z = multivariate_normal.pdf(XY, cov=cov)\n",
    "    return np.trapz(np.trapz(Z, x), y)\n",
    "\n",
    "# Method 3: Monte Carlo simulation:\n",
    "def monte_carlo_integration():\n",
    "    global sigmaX, sigmaY, region\n",
    "    simulations = 1_000_000\n",
    "    X = np.random.normal(scale=sigmaX, size=simulations)\n",
    "    Y = np.random.normal(scale=sigmaY, size=simulations)\n",
    "    return sum(1 for s in range(simulations) if ((abs(X[s]) < region/2.0) and (abs(Y[s]) < region/2.0)))/simulations\n",
    "\n",
    "print(f'Scipy numerical integration gives probability {scipy_integration():.1%}\\n'\n",
    "      f'Numpy numerical integration gives probability {numpy_integration():.1%}\\n'\n",
    "      f'Monte Carlo simulation gives probability {monte_carlo_integration():.1%}')\n"
   ]
  },
  {
   "cell_type": "code",
   "execution_count": 4,
   "metadata": {},
   "outputs": [
    {
     "name": "stdout",
     "output_type": "stream",
     "text": [
      "67.1 ms ± 4.57 ms per loop (mean ± std. dev. of 7 runs, 10 loops each)\n",
      "199 ms ± 21.9 ms per loop (mean ± std. dev. of 7 runs, 10 loops each)\n",
      "367 ms ± 8.42 ms per loop (mean ± std. dev. of 7 runs, 1 loop each)\n"
     ]
    }
   ],
   "source": [
    "%timeit scipy_integration()\n",
    "%timeit numpy_integration()\n",
    "%timeit monte_carlo_integration()"
   ]
  }
 ],
 "metadata": {
  "kernelspec": {
   "display_name": "Python 3",
   "language": "python",
   "name": "python3"
  },
  "language_info": {
   "codemirror_mode": {
    "name": "ipython",
    "version": 3
   },
   "file_extension": ".py",
   "mimetype": "text/x-python",
   "name": "python",
   "nbconvert_exporter": "python",
   "pygments_lexer": "ipython3",
   "version": "3.10.9"
  }
 },
 "nbformat": 4,
 "nbformat_minor": 2
}
