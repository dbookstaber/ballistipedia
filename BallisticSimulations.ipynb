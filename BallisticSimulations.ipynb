{
 "cells": [
  {
   "cell_type": "markdown",
   "metadata": {},
   "source": [
    "# Ballistic Precision & Accuracy\n",
    "\n",
    "We want to describe the accuracy of guns in ways that are rigorous and useful.  A gun is any system that launches a projectile (e.g., a bullet or missile) into ballistic flight.  Typically, the purpose of the gun is to cause the projectile to follow a specific trajectory that intersects a target at some distance.  A lot of the science of ballistics is devoted to maximizing the precision with which a gun can hit a target.\n",
    "\n",
    "Here we will study statistical models of ballistic precision.  The models will give us a detailed understanding of what we can say about any particular gun's ability to hit targets.  At each step, we will use \"Monte Carlo\" simulation techniques to validate the mathematics."
   ]
  },
  {
   "cell_type": "markdown",
   "metadata": {},
   "source": [
    "## Normal Distribution in 1 dimension\n",
    "\n",
    "When we look at the ballistic trajectory of many bullets fired from the same gun at the same point, we find that they have some dispersion.  We can stick a target in the path of the trajectory and look at where on the target each bullet crosses.  We'll record the coordinates of where each shot hits the target, and discover that when we look at the horizontal and vertical coordinates they are precisely modelled by the normal distribution.\n",
    "\n",
    "The normal distribution also models another variable of interest in ballistics: Muzzle velocity.\n",
    "\n",
    "The normal distribution depends on two parameters: mean ($\\mu$) and variance ($\\sigma^2$).  In order to use the normal distribution to model a specific process of interest – say, the muzzle velocity of a batch of ammunition fired from a particular rifle; or the x-coordinates of bullet holes in a target – we have to determine the mean and variance that apply to that rifle and ammunition.\n",
    "\n",
    "### Determining mean and variance\n",
    "We determine the parameters based on samples of the values actually produced by the process.\n",
    "\n",
    "Let's consider the muzzle velocity *V* of a particular gun shooting a particular lot of ammunition.  We assume (based on general arguments of physics and statistics that we won't get into here) that $V \\sim N(\\mu_V, \\sigma_V)$.  At the outset we don't know the value of those parameters, $\\mu_V$ and $\\sigma_V$.  To find them we begin to collect data: We have a chronograph to measure the muzzle velocity of each shot, so we can keep shooting to collect sample muzzle velocity values ${v_i}$.\n",
    "\n",
    "#### Estimating mean\n",
    "Our best guess of the true mean value is just the mean value of the samples.  I.e., given *n* samples we estimate that $\\mu_V = \\bar{v}= \\frac{\\sum{v_i}}{n}$.\n",
    "\n",
    "#### Estimating variance\n",
    "An unbiased guess of the true variance is $\\hat{\\sigma}^2 = s^2 = \\frac{1}{n-1}\\sum{(v_i - \\bar{v})^2}$.  (For clarity it is common to use the letter *s* to denote an estimate of the true value $\\sigma$, or to adorn the parameter with a \"hat\" as $\\hat{\\sigma}$.)\n",
    "\n",
    "#### Estimating standard deviation\n",
    "Given the true value of the variance, the standard deviation $\\sigma$ is just the square root of variance $\\sigma^2$: i.e.,  $\\sigma = \\sqrt{\\sigma^2}$.  But when estimating these parameters based on samples there is some bias produced by taking the square root, and it can be significant when the number of samples available is small (like single-digit small).  To remove that bias we need a correction factor: The Gaussian correction term $c_G(n)$, which depends on the number of samples used to compute the estimate, is defined as:\n",
    "$$\\frac{1}{c_G(n)} = c_4(n) = \\sqrt{\\frac{2}{n-1}}\\,\\,\\,\\frac{\\Gamma\\left(\\frac{n}{2}\\right)}{\\Gamma\\left(\\frac{n-1}{2}\\right)}$$\n",
    "\n",
    "and our unbiased estimate of standard deviation is:\n",
    "$$\\hat{\\sigma} = s = c_G(n)\\sqrt{s^2}$$\n",
    "\n",
    "\n",
    "#### Confidence in the estimates\n",
    "\n",
    "How good is our estimate?  In statistics we talk about \"Confidence Intervals,\" which are a good expression of our confidence (or, conversely, *uncertainty*) in our estimate.  We can calculate the Confidence Interval for a particular level of significance $p \\in (0,1)$.  (It is common in the literature to see confidence defined for the complement of p: $\\alpha = 1-p$.)\n",
    "\n",
    "But the term \"confidence\" is often misused, so to be precise in our definition of a Confidence Interval: Let *X* be a random variable with some unknown parameter.  Now do an experiment:\n",
    "* Collect *n* samples of *X*\n",
    "* Compute the parameter estimate.  (For example, estimated mean $\\bar{X} = \\frac{\\sum{x_i}}{n}$.)\n",
    "* Compute the Confidence Interval at level *p%* of that estimate: [$\\bar{X}_L, \\bar{X}_U$].\n",
    "We can do this experiment many times.  We will find that the Confidence Interval covers the true value of the parameter in exactly *p%* of such experiments.\n",
    "\n",
    "How do we know the *true* value of the parameter we're estimating?  In practice we often do not, which is the whole point of doing experiments and making estimates.  But we can verify that this math is correct by doing controlled experiments in which we do know the true value.  We will do that in the next section **Validation by Simulation**.\n",
    "\n",
    "##### Confidence Interval for Mean\n",
    "First, here's the formula for the Confidence Interval of the estimated mean:\n",
    "$$[\\bar{X}-\\frac{s}{\\sqrt{n}}t_{\\frac{\\alpha}{2},n-1}, \\bar{X}+\\frac{s}{\\sqrt{n}}t_{1-\\frac{\\alpha}{2},n-1}]$$\n",
    "The key terms here come from:\n",
    "* The *t*-distribution with *n*-1 degrees of freedom.\n",
    "* The *standard error of the mean*, which is $\\frac{s}{\\sqrt{n}}$.  An important consequence of this term is that, holding all else equal, **the error in estimating the mean scales with the square root of the number of samples**.  So, for example: to cut the error around an estimated mean by a factor of 2, we need to collect 4 times as many sample points.\n",
    "\n",
    "##### Confidence Interval for Variance\n",
    "$$[\\frac{(n-1)s^2}{\\chi^2_{\\frac{\\alpha}{2},n-1}},\\frac{(n-1)s^2}{\\chi^2_{1-\\frac{\\alpha}{2},n-1}}]$$\n",
    "The key term here comes from the $\\chi^2$-distribution with *n*-1 degrees of freedom."
   ]
  },
  {
   "cell_type": "markdown",
   "metadata": {},
   "source": [
    "### Example"
   ]
  },
  {
   "cell_type": "code",
   "execution_count": 19,
   "metadata": {},
   "outputs": [
    {
     "name": "stdout",
     "output_type": "stream",
     "text": [
      "Sample mean=3005.9 with 90% confidence interval [2992.6, 3019.2]\n",
      "Sample var=524.4 with 90% confidence interval [279, 1419]\n",
      "Sample stdev=23.54 with 90% confidence interval [17.2, 38.7]\n"
     ]
    }
   ],
   "source": [
    "import math\n",
    "import numpy as np\n",
    "from scipy.stats.distributions import chi2, t\n",
    "\n",
    "def cGauss(d: int) -> float:\n",
    "    \"\"\"Gaussian correction factor with d degrees of freedom\"\"\"\n",
    "    return 1/math.exp(math.log(math.sqrt(2/(d-1))) + math.lgamma(d/2) - math.lgamma((d-1)/2))\n",
    "\n",
    "# Simulation of muzzle velocity inference\n",
    "mean = 3000\n",
    "stdev = 20\n",
    "n = 10      # Number of samples to take\n",
    "p = 0.9     # Confidence level for which we want Confidence Intervals\n",
    "samples = np.random.normal(loc=mean, scale=stdev, size=n)\n",
    "sampleMean = np.mean(samples)\n",
    "sampleVariance = np.var(samples, ddof=1)\n",
    "sampleStdevBiased = math.sqrt(sampleVariance)\n",
    "sampleStdev = cGauss(n) * sampleStdevBiased\n",
    "stdErr = sampleStdevBiased/math.sqrt(n)\n",
    "confidenceMean = np.array(t.interval(p, df=n-1, loc=sampleMean, scale=stdErr))\n",
    "confidenceVar = np.divide((n-1)*sampleVariance, chi2.interval(p, df=n-1))[::-1]\n",
    "confidenceStdev=cGauss(n)*np.sqrt(confidenceVar)\n",
    "print(f'Sample mean={sampleMean:.1f} with {p:.0%} confidence interval {np.array2string(confidenceMean, formatter={\"float\": lambda x: f\"{x:.1f}\"}, separator=\", \")}\\n'\n",
    "      f'Sample var={sampleVariance:.1f} with {p:.0%} confidence interval {np.array2string(confidenceVar, formatter={\"float\": lambda x: f\"{x:.0f}\"}, separator=\", \")}\\n'\n",
    "      f'Sample stdev={sampleStdev:.2f} with {p:.0%} confidence interval {np.array2string(confidenceStdev, formatter={\"float\": lambda x: f\"{x:.1f}\"}, separator=\", \")}')\n",
    "# Optionally copy the samples to clipboard:\n",
    "import pandas as pd\n",
    "pd.DataFrame(samples).to_clipboard()"
   ]
  },
  {
   "cell_type": "code",
   "execution_count": 46,
   "metadata": {},
   "outputs": [
    {
     "data": {
      "text/plain": [
       "(3.3251128430668144, 16.918977604620448)"
      ]
     },
     "execution_count": 46,
     "metadata": {},
     "output_type": "execute_result"
    }
   ],
   "source": [
    "chi2.interval(p, df=n-1)"
   ]
  },
  {
   "cell_type": "markdown",
   "metadata": {},
   "source": [
    "### Validation by Simulation"
   ]
  },
  {
   "cell_type": "code",
   "execution_count": 18,
   "metadata": {},
   "outputs": [
    {
     "name": "stdout",
     "output_type": "stream",
     "text": [
      "Over 50,000 simulations of 5-sample groups from N(3000, 20), with 90% confidence ranges:\n",
      "\tAvg sample mean = 2999.9.  True mean in confidence range 90.2% of the time\n",
      "\tAvg sample var = 397.8.  True variance in confidence range 90.0% of the time\n",
      "\tAvg biased stdev = 18.76.  Avg unbiased stdev = 19.96\n"
     ]
    }
   ],
   "source": [
    "mean = 3000\n",
    "stdev = 20\n",
    "numSims = 50_000\n",
    "n = 5      # Number of samples per simulation\n",
    "p = 0.9     # Confidence level for which we want Confidence Intervals\n",
    "variance = stdev**2\n",
    "cG = cGauss(n)\n",
    "chi2Interval = np.divide((n-1), chi2.interval(p, df=n-1))[::-1]\n",
    "samples = np.random.normal(loc=mean, scale=stdev, size=(numSims, n))\n",
    "sampleMean = np.zeros(numSims)\n",
    "sampleVariance = np.zeros(numSims)\n",
    "sampleStdevBiased = np.zeros(numSims)\n",
    "sampleStdev = np.zeros(numSims)\n",
    "countMeanInInterval = 0  # Count number of times the true mean is in the mean confidence interval\n",
    "countVarInInterval = 0  # Count number of times the true variance is in the var confidence interval\n",
    "\n",
    "for i in range(numSims):\n",
    "    sampleMean[i] = np.mean(samples[i])\n",
    "    sampleVariance[i] = np.var(samples[i], ddof=1)\n",
    "    sampleStdevBiased[i] = math.sqrt(sampleVariance[i])\n",
    "    sampleStdev[i] = cG * sampleStdevBiased[i]\n",
    "    stdErr = sampleStdevBiased[i]/math.sqrt(n)\n",
    "    confidenceMean = np.array(t.interval(p, df=n-1, loc=sampleMean[i], scale=stdErr))\n",
    "    if confidenceMean[0] < mean < confidenceMean[1]:\n",
    "        countMeanInInterval += 1\n",
    "    confidenceVar = sampleVariance[i] * chi2Interval\n",
    "    if confidenceVar[0] < variance < confidenceVar[1]:\n",
    "        countVarInInterval += 1\n",
    "\n",
    "print(f'Over {numSims:,} simulations of {n}-sample groups from N({mean}, {stdev}), with {p:.0%} confidence ranges:\\n'\n",
    "      f'\\tAvg sample mean = {np.mean(sampleMean):.1f}.  True mean in confidence range {countMeanInInterval/numSims:.1%} of the time\\n'\n",
    "      f'\\tAvg sample var = {np.mean(sampleVariance):.1f}.  True variance in confidence range {countVarInInterval/numSims:.1%} of the time\\n'\n",
    "      f'\\tAvg biased stdev = {np.mean(sampleStdevBiased):.2f}.  Avg unbiased stdev = {np.mean(sampleStdev):.2f}')"
   ]
  },
  {
   "cell_type": "markdown",
   "metadata": {},
   "source": [
    "## Normal Distribution in 2 dimensions\n",
    "\n",
    "When looking at shots on a target, there are two variables that follow a normal distribution: The location of each shot on the horizontal \"x\" axis (the *x coordinate*), and the location of each shot on the vertical \"y\" axis (the *y coordinate*).\n",
    "\n",
    "(In ballistics we do not see correlation between the x- and y- coordinates, so correlation and covariances between these two variables are always zero.)\n",
    "\n",
    "Though we often find that $\\sigma_x = \\sigma_y$, this is not necesssarily the case.  So how do we determine whether $\\sigma_x = \\sigma_y$?\n",
    "\n",
    "There are statistical tests for this, but they are not very powerful on the sample sizes typically available to shooters.  When it comes to ballistics, we know what phenomena can cause asymmetric variance: variable crosswind causes excess horizontal variance, and variations in muzzle velocity cause asymmetric vertical variance longer ranges.  Using a ballistic calculator we can check whether the variation in crosswind or muzzle velocity are large enough to show up as excess variance on a target for the gun and distance we are shooting.  (We can even use a calculator to remove those factors.)  I prefer to assume that $\\sigma_x = \\sigma_y$ unless these physics tell us that we should expect them to be significantly unequal.\n",
    "\n",
    "### Test for equal variances\n",
    "Following code shows two standard tests for homoscedasticity (i.e., equal variances): The F-test and Bartlett's test."
   ]
  },
  {
   "cell_type": "code",
   "execution_count": 13,
   "metadata": {},
   "outputs": [
    {
     "name": "stdout",
     "output_type": "stream",
     "text": [
      "Sample VarX=0.92 with 90% confidence interval [0.49, 2.49]\n",
      "Sample VarY=6.06 with 90% confidence interval [3.22, 16.39]\n",
      "F-test has p_value=0.010, therefore at 90% confidence we REJECT that VarX = VarY\n",
      "Bartlett test has p_value=0.010, therefore at 90% confidence we REJECT that VarX = VarY\n"
     ]
    }
   ],
   "source": [
    "# Tests for equality of variances\n",
    "import numpy as np\n",
    "from scipy.stats import chi2, f, bartlett\n",
    "n = 10  # Number of samples to draw from each random variable\n",
    "p = .9\n",
    "chi2Interval = np.divide((n-1), chi2.interval(p, df=n-1))[::-1]\n",
    "a = 1-p\n",
    "sigmaX = 1\n",
    "sigmaY = 2\n",
    "X = np.random.normal(scale=sigmaX, size=n)\n",
    "Y = np.random.normal(scale=sigmaY, size=n)\n",
    "varX = np.var(X, ddof=1)\n",
    "varY = np.var(Y, ddof=1)\n",
    "confidenceVarX = varX * chi2Interval\n",
    "confidenceVarY = varY * chi2Interval\n",
    "F = varX / varY\n",
    "p_valueF = 2 * f.cdf(F, n-1, n-1)  # Two-tailed F-test\n",
    "bstat, p_valueB = bartlett(X, Y)\n",
    "print(f'Sample VarX={varX:.2f} with {p:.0%} confidence interval {np.array2string(confidenceVarX, formatter={\"float\": lambda x: f\"{x:.2f}\"}, separator=\", \")}\\n'\n",
    "      f'Sample VarY={varY:.2f} with {p:.0%} confidence interval {np.array2string(confidenceVarY, formatter={\"float\": lambda x: f\"{x:.2f}\"}, separator=\", \")}\\n'\n",
    "      f'F-test has p_value={p_valueF:0.3f}, therefore at {p:.0%} confidence we {\"REJECT\" if p_valueF<a/2 else \"ACCEPT\"} that VarX = VarY\\n'\n",
    "      f'Bartlett test has p_value={p_valueB:0.3f}, therefore at {p:.0%} confidence we {\"REJECT\" if p_valueB<a/2 else \"ACCEPT\"} that VarX = VarY')\n",
    "\n"
   ]
  },
  {
   "cell_type": "markdown",
   "metadata": {},
   "source": [
    "The advantage of assuming $\\sigma_x = \\sigma_y$ is that we only have to work with a single parameter, $\\sigma$, when measuring and describing precision.  With fewer parameters to estimate, we use our sample data more efficiently and our model becomes more powerful.\n",
    "\n",
    "### If we erroneously assume equal variances\n",
    "\n",
    "If we incorrectly assume $\\sigma_x = \\sigma_y$, then our predictions will have some error.  Turns out that the error is small when the difference in the variances is small.  See §\"Error from single sigma estimate\" below."
   ]
  },
  {
   "attachments": {},
   "cell_type": "markdown",
   "metadata": {},
   "source": [
    "# [Ballistic precision](http://ballistipedia.com/index.php?title=Closed_Form_Precision) from sample targets.\n",
    "\n",
    "We define a class `Group` that holds data on a group of shots on a target.  The shot data can be provided as a collection of (x, y) coordinates of each shot as recorded on a real target.  Or the class can generate a group by simulating random shots from a gun with a specified precision (using parameter `sigma`).\n",
    "\n",
    "Using the shot data, `Group` calculates statistics and estimates of precision:\n",
    "* Sigma, the Rayleigh distribution parameter (which also corresponds to the bivariate normal distribution with standard deviation = sigma)\n",
    "* The confidence interval on the estimate of sigma\n",
    "* Extreme Spread\n",
    "* If the group was simulated, then we can also calculate the distance from the sample center to the true (known) center\n",
    "\n",
    "A `plotGroup` class provides a more detailed plot of a Group than the `.plot()` method provided in the `Group` class.\n",
    "\n",
    "We later define an `OrderStatistics` subclass of `Group` that uses Order Statistics to estimate sigma.  This is a less efficient estimator, but can be easier to calculate because it doesn't require measuring the coordinates of every shot in the group.  However we have only derived Order Statistic estimators for groups of size 3, 5, or 10 shots.\n",
    "\n",
    "We use \"Monte Carlo\" simulation to validate the statistical estimators.  Here's how that technique works: we generate large numbers of random groups using a particular parameter value, and then look at the calculated statistics to verify that they match that parameter's value.  For example, we could ask: *Is our estimator of sigma correct?*  Let's check by simulating a million groups, where each shot in each group is generated from a random variable with sigma = 1.  Calculate our sigma estimate on each group, and then look at the average of those estimates.  If our estimator is correct then its average over a large number of samples should match the parameter used to construct the samples.  So, in this example, if the average estimate of sigma is 1 then we can be confident that our estimator is correct."
   ]
  },
  {
   "cell_type": "code",
   "execution_count": 10,
   "metadata": {},
   "outputs": [],
   "source": [
    "import math\n",
    "import numpy as np\n",
    "import matplotlib.pyplot as plt\n",
    "from scipy.stats.distributions import chi2"
   ]
  },
  {
   "cell_type": "code",
   "execution_count": 63,
   "metadata": {},
   "outputs": [],
   "source": [
    "class Group:\n",
    "    \"\"\"\n",
    "    Data on a group of shots.\n",
    "    Computes statistical estimates of precision based on the shot data.\n",
    "    \"\"\"\n",
    "    n: int                              # Number of shots in group\n",
    "    sigma: float                        # Standard deviation to use if simulating shots with random variables\n",
    "    degrees: int                        # Degrees of freedom (for estimators)\n",
    "    shots: list[list[float]]            # Coordinates of shots [[x, y], [x, y], ...]\n",
    "    sampleCenter: [float, float]        # Coordinates of centroid of group\n",
    "    centeredShots: list[list[float]]    # Shots shifted so that their centroid coordinates = (0,0)\n",
    "    radii: list[float]                  # Radius (distance) of each shot from centroid\n",
    "    sumR2: float                        # Sum of radii squared\n",
    "    sigmaEstimate: float                # Unbiased Rayleigh parameter estimate\n",
    "    confidenceInterval: float           # Confidence region to calculate; default is 90%\n",
    "    sigmaUpperConfidence: float         # Upper bound of confidenceInterval on sigmaEstimate\n",
    "    varianceX: float                    # Sample estimate of variance along x axis\n",
    "    varianceY: float                    # Sample estimate of variance along y axis\n",
    "    stdevX: float                       # Unbiased estimate of x-axis stdev = sqrt(varianceX)*cG(n)\n",
    "    stdevY: float                       # Unbiased estimate of y-axis stdev = sqrt(varianceY)*cG(n)\n",
    "\n",
    "    def __init__(self, n: int, shots: list[list[float]]=[], sigma: float=1.0, confidenceInterval: float=0.9):\n",
    "        \"\"\"\n",
    "        If no shot data provided then all simulation samples will be drawn from X,Y ~ N(0,sigma)\n",
    "        in which case we know the true parameter we're estimating is sigma (with center at the origin)       \n",
    "\n",
    "        :param n: Number of shots\n",
    "        :param shots: List of (x,y) coordinates of each shot impact on target.\n",
    "        :param sigma: standard deviation to use if simulating shots.\n",
    "        :param confidenceInterval: Confidence region to calculate. Allowed range is (0,1). Default is 90%.\n",
    "        \"\"\"\n",
    "        self.sigma = sigma\n",
    "        if len(shots) > 0:\n",
    "            self.shots = shots\n",
    "            self.n = len(shots)\n",
    "        else:  # If we didn't receive a group of shots then create random shots from bivariate normal distribution\n",
    "            self.shots = np.random.normal(scale=sigma, size=(n,2))\n",
    "            self.n = n\n",
    "\n",
    "        #region Univariate measures\n",
    "        a = np.array(self.shots)\n",
    "        self.varianceX = np.var(a[:,0], ddof=1)\n",
    "        self.varianceY = np.var(a[:,1], ddof=1)\n",
    "        cG = Group.cGauss(self.n)\n",
    "        self.stdevX = math.sqrt(self.varianceX) * cG\n",
    "        self.stdevY = math.sqrt(self.varianceY) * cG\n",
    "        #endregion\n",
    "\n",
    "        g = 1  # Number of groups\n",
    "        self.degrees = 2*(self.n-g)  # Degrees of freedom (for estimators)\n",
    "        self.sampleCenter = np.mean(self.shots, axis=0)\n",
    "        self.centeredShots = np.add(self.shots, -self.sampleCenter) # Shots adjusted so their centroid = (0,0)\n",
    "        self.radii = np.linalg.norm(self.centeredShots, axis=-1)    # List of radii from sample center\n",
    "        self.sumR2 = np.dot(self.radii, self.radii)\n",
    "        self.sigmaEstimate = Group.cGauss(self.degrees+1) * math.sqrt(self.sumR2 / self.degrees)  # Unbiased Rayleigh parameter estimate\n",
    "        self.confidenceInterval = confidenceInterval\n",
    "        self.sigmaUpperConfidence = math.sqrt(self.sumR2 / chi2.ppf((1-confidenceInterval)/2, self.degrees))  # Upper bound of confidence interval on estimate\n",
    "\n",
    "        # Distance from sample center to origin (0,0)\n",
    "        # CAVEAT: The origin is only known to be the *true center* if the shots were generated from Normal variables with mean = 0\n",
    "        self.d2c = math.sqrt(np.dot(self.sampleCenter, self.sampleCenter))\n",
    "        # Median expected distance from sample center to true center = cR * sqrt(2*math.log(2)) * sigmaEstimate / sqrt(n)\n",
    "        self.d2cMedian = Group.cRayleigh(self.degrees+1) * 1.177410022515474 * self.sigmaEstimate / math.sqrt(self.n)\n",
    "\n",
    "    cGmem = {}  # Memoized Gaussian correction factor\n",
    "    def cGauss(d: int) -> float:\n",
    "        \"\"\"Gaussian correction factor with d degrees of freedom\"\"\"\n",
    "        if d not in Group.cGmem:\n",
    "            Group.cGmem[d] = 1/math.exp(math.log(math.sqrt(2/(d-1))) + math.lgamma(d/2) - math.lgamma((d-1)/2))\n",
    "        return Group.cGmem[d]\n",
    "    \n",
    "    cRmem = {}  # Memoized Rayleigh correction factor\n",
    "    def cRayleigh(d: int) -> float:\n",
    "        \"\"\"Rayleigh correction factor with d degrees of freedom\"\"\"\n",
    "        if d not in Group.cRmem:\n",
    "            Group.cRmem[d] = math.exp(math.log(math.sqrt(d/math.pi)) + d * math.log(4) + math.lgamma(d+1) + math.lgamma(d) - math.lgamma(2*d+1))\n",
    "        return Group.cRmem[d]\n",
    "\n",
    "    def plot(self):\n",
    "        \"\"\"Display plot of shots.  Can call .savefig() on return value to output to file.\"\"\"\n",
    "        range = 1.1 * np.max(np.abs(self.shots))  # Make plot range large enough to show all shots\n",
    "        plt.scatter(*zip(*self.shots))\n",
    "        plt.xlim(-range, range)\n",
    "        plt.ylim(-range, range)\n",
    "        plt.gca().set_aspect('equal')\n",
    "        plt.show()\n",
    "\n",
    "    #region Group Measures\n",
    "    # Compute Extreme Spread of Group – max Euclidean distance between any two points\n",
    "    # This is a brute-force algorithm. (Fastest algorithm: Find convex hull, then use Shamos's Rotating Calipers algorithm.)\n",
    "    def extremeSpread(self) -> float:\n",
    "        maxSpread = 0\n",
    "        for i in range(0, self.n):\n",
    "            for j in range(i+1, self.n):\n",
    "                spread = sum(np.square(self.shots[i] - self.shots[j]))  # Sum squared distance\n",
    "                if spread > maxSpread:\n",
    "                    maxSpread = spread\n",
    "        return math.sqrt(maxSpread)\n",
    "    #endregion"
   ]
  },
  {
   "cell_type": "code",
   "execution_count": 64,
   "metadata": {},
   "outputs": [
    {
     "data": {
      "text/plain": [
       "array([0.4666843 , 0.19488336])"
      ]
     },
     "execution_count": 64,
     "metadata": {},
     "output_type": "execute_result"
    }
   ],
   "source": [
    "g = Group(10)\n",
    "np.mean(g.shots, axis=0)"
   ]
  },
  {
   "cell_type": "markdown",
   "metadata": {},
   "source": [
    "### Generate and plot random group"
   ]
  },
  {
   "cell_type": "code",
   "execution_count": 65,
   "metadata": {},
   "outputs": [
    {
     "data": {
      "image/png": "[encoded data removed]",
      "text/plain": [
       "<Figure size 640x480 with 1 Axes>"
      ]
     },
     "metadata": {},
     "output_type": "display_data"
    }
   ],
   "source": [
    "g = Group(10)\n",
    "plt.title(f\"{g.n} shots:  \\u03C3\\u0302 = {g.sigmaEstimate:.2f}   Extreme Spread = {g.extremeSpread():.2f}\")\n",
    "g.plot()"
   ]
  },
  {
   "cell_type": "markdown",
   "metadata": {},
   "source": [
    "### Fancy Plot"
   ]
  },
  {
   "cell_type": "code",
   "execution_count": 18,
   "metadata": {},
   "outputs": [],
   "source": [
    "import matplotlib.ticker as plticker\n",
    "\n",
    "class plotGroup():\n",
    "    def __init__(self, g: Group, CEP: float=0.5, figSize: float=1, fixedWidth: float=0):\n",
    "        shots = g.shots\n",
    "        center = g.sampleCenter\n",
    "\n",
    "        self.fig = plt.figure(figsize=[figSize, figSize])\n",
    "\n",
    "        # CEP(F) = sigma sqrt(-2 ln(1-F))\n",
    "        CEPradius = math.sqrt(-2.0 * math.log(1.0-CEP)) * g.sigmaEstimate\n",
    "\n",
    "        if fixedWidth > 0:\n",
    "            width = fixedWidth\n",
    "        else:\n",
    "            outside = max(abs(center[0]), abs(center[1])) + CEPradius  # Range needed to fit full CEP circle on plot\n",
    "            width = 1.1*max(np.max(np.abs(shots)), math.ceil(outside))  # Fit all shots as well as CEP circle\n",
    "        ax = plt.axes([-width, -width, 2*width, 2*width], xlim=(-width, width), ylim=(-width, width))\n",
    "        for s in ax.spines.values():\n",
    "            s.set_color([0,0,0,.5])\n",
    "        ax.axhline(0, color='k', lw=0.75, zorder=1)\n",
    "        ax.axvline(0, color='k', lw=0.75, zorder=1)\n",
    "        # Set grid frequency to integers\n",
    "        gridFreq = plticker.MultipleLocator(base=1.0)\n",
    "        ax.xaxis.set_major_locator(gridFreq)\n",
    "        ax.yaxis.set_major_locator(gridFreq)\n",
    "        ax.set_axisbelow(True)  # Grid lines behind other elements        \n",
    "        ax.tick_params(labelbottom=False, labelleft=False, length=0)  # Don't show tick labels\n",
    "        plt.grid()\n",
    "\n",
    "        # Size for bullet holes\n",
    "        points_whole_ax = figSize * 72 * width    # 1 point = dpi / 72 pixels\n",
    "        bulletRadius = 0.04\n",
    "        points_radius = 2 * bulletRadius * points_whole_ax\n",
    "        # Plot Shots:\n",
    "        ax.scatter(*zip(*shots), s=points_radius**2, color=[1,0,0,1], zorder=2)\n",
    "        # Mark center of group:\n",
    "        ax.scatter(*center, s=points_radius**2, color='b', marker='+', zorder=3)\n",
    "        # Plot CEP:\n",
    "        ax.add_patch(plt.Circle(center, CEPradius, facecolor=[0,0,0,0], edgecolor=[0,0,0,1], zorder=1))\n",
    "\n",
    "        plt.figtext(0, -width, f\"\\nCircle shows estimated CEP({CEP:.0%}) around sample center\",\n",
    "                    ha='center', va='top')\n",
    "\n",
    "        self.ax = ax"
   ]
  },
  {
   "cell_type": "code",
   "execution_count": 19,
   "metadata": {},
   "outputs": [
    {
     "data": {
      "image/png": "[encoded data removed]",
      "text/plain": [
       "<Figure size 100x100 with 1 Axes>"
      ]
     },
     "metadata": {},
     "output_type": "display_data"
    }
   ],
   "source": [
    "p = plotGroup(g)"
   ]
  },
  {
   "attachments": {},
   "cell_type": "markdown",
   "metadata": {},
   "source": [
    "## Simulations to Validate Statistics"
   ]
  },
  {
   "cell_type": "code",
   "execution_count": 21,
   "metadata": {},
   "outputs": [
    {
     "name": "stdout",
     "output_type": "stream",
     "text": [
      " *** Based on 100,000 simulated 5-shot groups: ***\n",
      "Mean estimated sigma = 0.9994 vs true sigma = 1.0   <-- Mean estimate should converge to true as #simulations increases\n",
      "True sigma was above the upper 5% Confidence Interval on estimated sigma 5.0% of the time.\t<-- Should match\n",
      "Sample center distance from true center exceeded estimated median distance 49.9% of the time.\t<-- Should be 50%\n"
     ]
    }
   ],
   "source": [
    "# We can do this with the Python Group class defined above, but it's slow:\n",
    "groupSize = 5           # Number of shots per group\n",
    "simulations = 100_000    # Number of groups to simulate\n",
    "simulationSigma = 1.0   # Sigma to use when generating random shots\n",
    "\n",
    "sim = [Group(groupSize, sigma=simulationSigma) for i in range(0, simulations)]  # Run simulations\n",
    "print(f\" *** Based on {simulations:,} simulated {groupSize}-shot groups: ***\"\n",
    "    f\"\\nMean estimated sigma = {np.mean([s.sigmaEstimate for s in sim]):.4f} vs true sigma = {simulationSigma}   <-- Mean estimate should converge to true as #simulations increases\"\n",
    "    f\"\\nTrue sigma was above the upper {(1-sim[0].confidenceInterval)/2:.0%} Confidence Interval on estimated sigma \"\n",
    "    f\"{sum(1 for s in sim if s.sigmaUpperConfidence < simulationSigma)/len(sim):.1%} of the time.\\t<-- Should match\"\n",
    "    f\"\\nSample center distance from true center exceeded estimated median distance {sum(1 for s in sim if s.d2c > s.d2cMedian)/len(sim):.1%} of the time.\\t<-- Should be 50%\")"
   ]
  },
  {
   "cell_type": "markdown",
   "metadata": {},
   "source": [
    "### Fast Simulations (Cython)"
   ]
  },
  {
   "cell_type": "code",
   "execution_count": 24,
   "metadata": {},
   "outputs": [],
   "source": [
    "%load_ext cython"
   ]
  },
  {
   "cell_type": "code",
   "execution_count": 30,
   "metadata": {},
   "outputs": [
    {
     "name": "stdout",
     "output_type": "stream",
     "text": [
      "Content of stdout:\n",
      "_cython_magic_f7fe038c6e3ec3797e41dfb145a026ac4a387f92.c\n",
      "C:\\Users\\David\\.ipython\\cython\\_cython_magic_f7fe038c6e3ec3797e41dfb145a026ac4a387f92.c(1470): warning C4005: '__pyx_nonatomic_int_type': macro redefinition\n",
      "C:\\Users\\David\\.ipython\\cython\\_cython_magic_f7fe038c6e3ec3797e41dfb145a026ac4a387f92.c(1421): note: see previous definition of '__pyx_nonatomic_int_type'\n",
      "   Creating library C:\\Users\\David\\.ipython\\cython\\Users\\David\\.ipython\\cython\\_cython_magic_f7fe038c6e3ec3797e41dfb145a026ac4a387f92.cp310-win_amd64.lib and object C:\\Users\\David\\.ipython\\cython\\Users\\David\\.ipython\\cython\\_cython_magic_f7fe038c6e3ec3797e41dfb145a026ac4a387f92.cp310-win_amd64.exp\n",
      "Generating code\n",
      "Finished generating code"
     ]
    }
   ],
   "source": [
    "%%cython\n",
    "import numpy as np\n",
    "import math\n",
    "from scipy.stats.distributions import chi2\n",
    "from libc.math cimport sqrt\n",
    "cimport cython\n",
    "\n",
    "@cython.boundscheck(False)  # Doesn't check array bounds\n",
    "@cython.wraparound(False)  # Doesn't allow negative indexing\n",
    "@cython.cdivision(True)  # Doesn't spend time checking for zero divisors\n",
    "def runSim(int numShots, Py_ssize_t numSims, double sigma = 1.0, double confidenceInterval = 0.9):\n",
    "    cdef double[:] sigmaEstimate = np.zeros(numSims, np.double)\n",
    "    cdef double[:] sigmaUpperConfidence = np.zeros(numSims, np.double)\n",
    "\n",
    "    # Index: [Simulation#, Shot#, Axis]\n",
    "    cdef double[:,:,:] shots = np.random.normal(scale=sigma, size=(numSims, numShots, 2)).astype(np.double)\n",
    "\n",
    "    cdef int degrees = 2*(numShots-1)  # Degrees of freedom (for estimators)\n",
    "    cdef double d = degrees+1\n",
    "    cdef double cG = 1/math.exp(math.log(math.sqrt(2/(d-1))) + math.lgamma(d/2) - math.lgamma((d-1)/2))\n",
    "    cdef double chiNorm = 1/chi2.ppf((1-confidenceInterval)/2, degrees)\n",
    "\n",
    "    cdef double sumR2                   # Sum of radii squared\n",
    "    cdef double xbar, ybar\n",
    "    cdef Py_ssize_t i, s\n",
    "    for s in range(numSims):\n",
    "        # Compute sampleCenter = [xbar, ybar]\n",
    "        xbar = ybar = 0\n",
    "        for i in range(numShots):\n",
    "            xbar += shots[s, i, 0]\n",
    "            ybar += shots[s, i, 1]\n",
    "        xbar /= numShots\n",
    "        ybar /= numShots\n",
    "        sumR2 = 0\n",
    "        for i in range(numShots):\n",
    "            sumR2 += (shots[s, i, 0] - xbar)**2 + (shots[s, i, 1] - ybar)**2\n",
    "        sigmaEstimate[s] = cG * sqrt(sumR2 / degrees)    # Unbiased Rayleigh parameter estimate\n",
    "        sigmaUpperConfidence[s] = sqrt(sumR2 * chiNorm)  # Upper bound of confidence interval on estimate\n",
    "        \n",
    "    return sigmaEstimate, sigmaUpperConfidence\n"
   ]
  },
  {
   "cell_type": "code",
   "execution_count": 31,
   "metadata": {},
   "outputs": [
    {
     "name": "stdout",
     "output_type": "stream",
     "text": [
      " *** Based on 10,000,000 simulated 5-shot groups: ***\n",
      "Mean estimated sigma = 1.0001 vs true sigma = 1.0   <-- Mean estimate should converge to true as #simulations increases\n",
      "True sigma was above the upper 5% Confidence Interval on estimated sigma 5.0% of the time.\t<-- Should match\n"
     ]
    }
   ],
   "source": [
    "groupSize = 5           # Number of shots per group\n",
    "simulations = 10_000_000    # Number of groups to simulate\n",
    "simulationSigma = 1.0   # Sigma to use when generating random shots\n",
    "simConfidence = 0.9\n",
    "\n",
    "sigmaEstimate, sigmaUpperConfidence = runSim(groupSize, simulations,\n",
    "                                              sigma=simulationSigma, confidenceInterval=simConfidence)\n",
    "\n",
    "print(f\" *** Based on {simulations:,} simulated {groupSize}-shot groups: ***\"\n",
    "    f\"\\nMean estimated sigma = {np.mean(sigmaEstimate):.4f} vs true sigma = {simulationSigma}   <-- Mean estimate should converge to true as #simulations increases\"\n",
    "    f\"\\nTrue sigma was above the upper {(1-simConfidence)/2:.0%} Confidence Interval on estimated sigma \"\n",
    "    f\"{sum(1 for s in sigmaUpperConfidence if s < simulationSigma)/simulations:.1%} of the time.\\t<-- Should match\")"
   ]
  },
  {
   "cell_type": "markdown",
   "metadata": {},
   "source": [
    "### Faster Multi-threaded Cython"
   ]
  },
  {
   "cell_type": "code",
   "execution_count": null,
   "metadata": {},
   "outputs": [],
   "source": [
    "%%cython\n",
    "# distutils: extra_compile_args=/openmp\n",
    "import numpy as np\n",
    "import math\n",
    "from scipy.stats.distributions import chi2\n",
    "from libc.math cimport sqrt\n",
    "cimport cython\n",
    "from cython.parallel import prange\n",
    "\n",
    "@cython.boundscheck(False)  # Doesn't check array bounds\n",
    "@cython.wraparound(False)\n",
    "@cython.cdivision(True)  # Doesn't spend time checking for zero divisors\n",
    "def runSimMP(int numShots, Py_ssize_t numSims, double sigma = 1.0, double confidenceInterval = 0.9):\n",
    "    cdef double[:] sigmaEstimate = np.zeros(numSims, np.double)\n",
    "    cdef double[:] sigmaUpperConfidence = np.zeros(numSims, np.double)\n",
    "\n",
    "    cdef double[:,:,:] shots = np.random.normal(scale=sigma, size=(numSims, numShots, 2)).astype(np.double)\n",
    "\n",
    "    cdef int degrees = 2*(numShots-1)  # Degrees of freedom (for estimators)\n",
    "    cdef double d = degrees+1\n",
    "    cdef double cG = 1/math.exp(math.log(math.sqrt(2/(d-1))) + math.lgamma(d/2) - math.lgamma((d-1)/2))\n",
    "    cdef double chiNorm = 1/chi2.ppf((1-confidenceInterval)/2, degrees)\n",
    "\n",
    "    cdef double [:, :] centeredShots    # Shots shifted so that their centroid coordinates = (0,0)\n",
    "    cdef double [:] radii = np.zeros(numShots, np.double)  # Radius (distance) of each shot from centroid\n",
    "    cdef double sumR2                   # Sum of radii squared\n",
    "    cdef double xbar, ybar\n",
    "    cdef Py_ssize_t s, i\n",
    "    for s in prange(numSims, nogil=True):#, schedule='static'):#, num_threads=4):\n",
    "        # Compute sampleCenter = [xbar, ybar]\n",
    "        xbar = ybar = 0\n",
    "        for i in range(numShots):\n",
    "            xbar = xbar+ shots[s, i, 0]\n",
    "            ybar = ybar+ shots[s, i, 1]\n",
    "        xbar = xbar/numShots\n",
    "        ybar = ybar/numShots\n",
    "        sumR2 = 0\n",
    "        for i in range(numShots):\n",
    "            sumR2 = sumR2+ (shots[s, i, 0] - xbar)**2 + (shots[s, i, 1] - ybar)**2\n",
    "        sigmaEstimate[s] = cG * sqrt(sumR2 / degrees)    # Unbiased Rayleigh parameter estimate\n",
    "        sigmaUpperConfidence[s] = sqrt(sumR2 * chiNorm)  # Upper bound of confidence interval on estimate\n",
    "        \n",
    "    return sigmaEstimate, sigmaUpperConfidence\n"
   ]
  },
  {
   "cell_type": "code",
   "execution_count": null,
   "metadata": {},
   "outputs": [
    {
     "name": "stdout",
     "output_type": "stream",
     "text": [
      " *** Based on 10,000,000 simulated 5-shot groups: ***\n",
      "Mean estimated sigma = 1.0001 vs true sigma = 1.0   <-- Mean estimate should converge to true as #simulations increases\n",
      "True sigma was above the upper 5% Confidence Interval on estimated sigma 5.0% of the time.\t<-- Should match\n"
     ]
    }
   ],
   "source": [
    "groupSize = 5           # Number of shots per group\n",
    "simulations = 10_000_000    # Number of groups to simulate\n",
    "simulationSigma = 1.0   # Sigma to use when generating random shots\n",
    "simConfidence = 0.9\n",
    "\n",
    "sigmaEstimate, sigmaUpperConfidence = runSimMP(groupSize, simulations,\n",
    "                                              sigma=simulationSigma, confidenceInterval=simConfidence)\n",
    "\n",
    "print(f\" *** Based on {simulations:,} simulated {groupSize}-shot groups: ***\"\n",
    "    f\"\\nMean estimated sigma = {np.mean(sigmaEstimate):.4f} vs true sigma = {simulationSigma}   <-- Mean estimate should converge to true as #simulations increases\"\n",
    "    f\"\\nTrue sigma was above the upper {(1-simConfidence)/2:.0%} Confidence Interval on estimated sigma \"\n",
    "    f\"{sum(1 for s in sigmaUpperConfidence if s < simulationSigma)/simulations:.1%} of the time.\\t<-- Should match\")"
   ]
  },
  {
   "cell_type": "markdown",
   "metadata": {},
   "source": [
    "# Hit Probability – Rectangular Targets\n",
    "\n",
    "Given sigma, we can use numerical integration to find the probability of hitting a particular target.  Here we'll compute the probability of hitting a rectangular target that is 2MOA high and 1MOA wide, with a gun that shoots $\\sigma_x=1.5\\text{MOA}$, $\\sigma_y=0.6\\text{MOA}$."
   ]
  },
  {
   "cell_type": "code",
   "execution_count": 31,
   "metadata": {},
   "outputs": [
    {
     "name": "stdout",
     "output_type": "stream",
     "text": [
      "Hit probability is 23.6%\n"
     ]
    }
   ],
   "source": [
    "import numpy as np\n",
    "from scipy.stats import multivariate_normal\n",
    "from scipy import integrate\n",
    "\n",
    "sigmaX = 1.5\n",
    "sigmaY = 0.6\n",
    "targetX = 1.0\n",
    "targetY = 2.0\n",
    "\n",
    "def pdf(x,y):\n",
    "    return multivariate_normal.pdf([x,y], mean=[0,0], cov=[[sigmaX**2, 0], [0, sigmaY**2]])\n",
    "\n",
    "hit_probability, err = integrate.nquad(pdf, [[-targetX/2.0, targetX/2.0], [-targetY/2.0, targetY/2.0]])\n",
    "print(f'Hit probability is {hit_probability:.1%}')"
   ]
  },
  {
   "cell_type": "code",
   "execution_count": 32,
   "metadata": {},
   "outputs": [
    {
     "name": "stdout",
     "output_type": "stream",
     "text": [
      "Simulation target hit rate is 23.6%\n"
     ]
    }
   ],
   "source": [
    "# Simulation to verify:\n",
    "numShots = 1_000_000\n",
    "shotsX = np.random.normal(scale=sigmaX, size=numShots)\n",
    "shotsY = np.random.normal(scale=sigmaY, size=numShots)\n",
    "hits = sum(1 for s in range(numShots) if ((abs(shotsX[s]) < targetX/2.0) and (abs(shotsY[s]) < targetY/2.0)))/numShots\n",
    "print(f'Simulation target hit rate is {hits:.1%}')"
   ]
  },
  {
   "cell_type": "markdown",
   "metadata": {},
   "source": [
    "## Visualization\n",
    "\n",
    "Here's a simulation and plot of shots from a gun with that precision against that target."
   ]
  },
  {
   "cell_type": "code",
   "execution_count": 33,
   "metadata": {},
   "outputs": [
    {
     "data": {
      "image/png": "[encoded data removed]",
      "text/plain": [
       "<Figure size 640x480 with 1 Axes>"
      ]
     },
     "metadata": {},
     "output_type": "display_data"
    }
   ],
   "source": [
    "from matplotlib.patches import Polygon\n",
    "numShots = 1800\n",
    "shotsX = np.random.normal(scale=sigmaX, size=numShots)\n",
    "shotsY = np.random.normal(scale=sigmaY, size=numShots)\n",
    "\n",
    "ax = plt.gca()\n",
    "ax.set_aspect('equal')\n",
    "ax.scatter(shotsX, shotsY, s=0.4, color=[0,0,.5,.5])\n",
    "target_vertices = ((-targetX/2,-targetY/2), (targetX/2,-targetY/2), (targetX/2,targetY/2), (-targetX/2,targetY/2))\n",
    "ax.add_patch(Polygon(target_vertices, closed=True, edgecolor=[0,0,0,.6], facecolor=[1,0,0,.3]))\n",
    "plt.show()\n",
    "#plt.savefig('TargetSim', dpi=500, bbox_inches='tight')"
   ]
  },
  {
   "cell_type": "markdown",
   "metadata": {},
   "source": [
    "# Simulations to Validate CEP\n",
    "\n",
    "Given sigma ($\\sigma$), CEP(p) = $\\sigma \\sqrt{-2 \\ln(1-p)}$ is the radius of circle that should cover proportion *p* of shots (when centered at the true center of the distribution)."
   ]
  },
  {
   "cell_type": "code",
   "execution_count": 15,
   "metadata": {},
   "outputs": [
    {
     "name": "stdout",
     "output_type": "stream",
     "text": [
      "CEP(30%) formula for sigma 2.0 gives covering circle radius 1.689.\n",
      "Simulation confirms that circle covers 30.1% of 100,000 sample shots.\n"
     ]
    }
   ],
   "source": [
    "import math\n",
    "import numpy as np\n",
    "\n",
    "# Simulation, known sigma and known center, to check circular CEP(p) formula\n",
    "numShots = 100_000\n",
    "sigma = 2.0 # Sigma to use to generate random shots\n",
    "p = 0.3     # Proportion of shots to cover with circle\n",
    "CEPradius = sigma * math.sqrt(-2 * math.log(1-p))\n",
    "shots = np.random.normal(scale=sigma, size=[numShots, 2])\n",
    "print(f'CEP({p:.0%}) formula for sigma {sigma} gives covering circle radius {CEPradius:.3f}.\\n'\n",
    "      f'Simulation confirms that circle covers {sum(1 for s in shots if (s[0]**2/(CEPradius**2) + s[1]**2/(CEPradius**2) < 1)) / numShots:.1%} of {numShots:,} sample shots.')"
   ]
  },
  {
   "cell_type": "markdown",
   "metadata": {},
   "source": [
    "## Elliptic Groups\n",
    "\n",
    "This formula also works for elliptic shot groups (i.e., $\\sigma_X \\neq \\sigma_Y$) if we calculate the ellipse radii (*a, b*) as:\n",
    "* $a = \\sigma_X \\sqrt{-2 \\ln(1-p)}$\n",
    "* $b = \\sigma_Y \\sqrt{-2 \\ln(1-p)}$"
   ]
  },
  {
   "cell_type": "code",
   "execution_count": 16,
   "metadata": {},
   "outputs": [
    {
     "name": "stdout",
     "output_type": "stream",
     "text": [
      "CEP(70%) for elliptic sigmas (10.0, 1.0) gives covering ellipse radii (15.518, 1.552).\n",
      "Simulation confirms that ellipse covers 70.1% of 1,000,000 sample shots.\n"
     ]
    }
   ],
   "source": [
    "# Simulation to check elliptic CEP(p) formula, known sigmas and known center\n",
    "numShots = 1_000_000\n",
    "sigmaX = 10.0\n",
    "sigmaY = 1.0\n",
    "p = 0.7     # Proportion of shots to cover with circle\n",
    "CEPradiusX = sigmaX * math.sqrt(-2 * math.log(1-p))\n",
    "CEPradiusY = sigmaY * math.sqrt(-2 * math.log(1-p))\n",
    "shotsX = np.random.normal(scale=sigmaX, size=numShots)\n",
    "shotsY = np.random.normal(scale=sigmaY, size=numShots)\n",
    "print(f'CEP({p:.0%}) for elliptic sigmas ({sigmaX}, {sigmaY}) gives covering ellipse radii ({CEPradiusX:.3f}, {CEPradiusY:.3f}).\\n'\n",
    "      f'Simulation confirms that ellipse covers {sum(1 for s in range(numShots) if (shotsX[s]**2/(CEPradiusX**2) + shotsY[s]**2/(CEPradiusY**2) < 1)) / numShots:.1%} of {numShots:,} sample shots.')"
   ]
  },
  {
   "cell_type": "markdown",
   "metadata": {},
   "source": [
    "## Covering Circle for Elliptic Groups\n",
    "\n",
    "If we want to find a circle to cover an elliptic group, we might start by looking at a circle with radius based on the mean variance:\n",
    "$$r^2 = \\frac{\\sigma_X^2+\\sigma_Y^2}{2}$$\n",
    "\n",
    "It turns out that this overestimates the size of the covering circle for p < 80%, and underestimates it for p > 80%, with the error increasing both (1) with the eccentricity of the ellipse, and (2) with the distance of the probability from 80%.  (Why 80%?  I haven't worked out the math, but I suspect that inflection point is actually $\\sqrt{2/\\pi}$, which is the mean of the half normal distribution.)"
   ]
  },
  {
   "cell_type": "code",
   "execution_count": 39,
   "metadata": {},
   "outputs": [
    {
     "name": "stdout",
     "output_type": "stream",
     "text": [
      "CEP(30%) for root mean variance 7.106 suggests covering circle radius 6.002.\n",
      "Simulation shows that circle covers 44.6% of 100,000 sample shots.\n"
     ]
    }
   ],
   "source": [
    "# Can we circularize the covering ellipse using the mean of varianceX and varianceY?\n",
    "p = 0.3     # Proportion of shots to cover with circle\n",
    "sigmaMean = math.sqrt((sigmaX**2 + sigmaY**2)/2.0)  # Root mean variance\n",
    "CEPradius = sigmaMean * math.sqrt(-2 * math.log(1-p))\n",
    "print(f'CEP({p:.0%}) for root mean variance {sigmaMean:.3f} suggests covering circle radius {CEPradius:.3f}.\\n'\n",
    "      f'Simulation shows that circle covers {sum(1 for s in range(numShots) if (shotsX[s]**2/(CEPradius**2) + shotsY[s]**2/(CEPradius**2) < 1)) / numShots:.1%} of {numShots:,} sample shots.')"
   ]
  },
  {
   "cell_type": "markdown",
   "metadata": {},
   "source": [
    "To get the covering circle radius exactly, we have to model the random variable $S = R^2 = X^2 + Y^2$.  In this case, $X^2 \\sim \\mathrm{Gamma}(1/2,\\frac{1}{2\\sigma^2_X})$, similarly for $Y^2$, and it turns out that to get the cumulative distribution we have to resort to numerical integration.  The derivation of this is esoteric, but here is the code:"
   ]
  },
  {
   "cell_type": "code",
   "execution_count": 41,
   "metadata": {},
   "outputs": [
    {
     "name": "stdout",
     "output_type": "stream",
     "text": [
      "30% covering circle for sigmas (10.0, 1.0) has radius 4.065.\n",
      "Simulation confirms that circle covers 30.6% of 1,000,000 sample shots.\n"
     ]
    }
   ],
   "source": [
    "from scipy.special import hyp1f1\n",
    "\n",
    "def radius_squared_pdf(sigmaX, sigmaY, S):\n",
    "    \"\"\"PDF for sum of squared normal variables\"\"\"\n",
    "    a = 1/(2*(sigmaX**2))\n",
    "    b = 1/(2*(sigmaY**2))\n",
    "    hyp1f1Res = hyp1f1(0.5, 1, (a-b)*S)  # Confluent hypergeometric function\n",
    "    pdf = (a**(0.5)) * (b**(0.5)) * np.exp(-S*a) * hyp1f1Res\n",
    "    return pdf\n",
    "\n",
    "def elliptic_covering_radius(sigmaX, sigmaY, p):\n",
    "    \"\"\"Use numerical integration of PDF to find radius of circle that should cover proportion p of samples.\"\"\"\n",
    "    Smax = 3 * max(sigmaX, sigmaY)  # We'll start looking out 3 sigmas\n",
    "    # The PDF here is monotonically decreasing, so we'll set Smax large enough to get density < 1e-6\n",
    "    while radius_squared_pdf(sigmaX, sigmaY, Smax) > 1e-6:\n",
    "        Smax = 3 * Smax\n",
    "    integration_steps = 10_000\n",
    "    dS = Smax / integration_steps\n",
    "    S = np.linspace(start=dS, stop=Smax, num=integration_steps) # squared radius to evaluate\n",
    "    pdf = radius_squared_pdf(sigmaX, sigmaY, S)     \n",
    "    cdf = np.cumsum(pdf*dS)  # Integrate PDF\n",
    "\n",
    "    idx = np.argmin(np.abs(cdf-p))\n",
    "    return np.sqrt(S[idx])\n",
    "\n",
    "p = 0.3\n",
    "CEPradius = elliptic_covering_radius(sigmaX, sigmaY, p)\n",
    "print(f'{p:.0%} covering circle for sigmas ({sigmaX}, {sigmaY}) has radius {CEPradius:.3f}.\\n'\n",
    "      f'Simulation confirms that circle covers {sum(1 for s in range(numShots) if (shotsX[s]**2/(CEPradius**2) + shotsY[s]**2/(CEPradius**2) < 1)) / numShots:.1%} of {numShots:,} sample shots.')"
   ]
  },
  {
   "cell_type": "code",
   "execution_count": 6,
   "metadata": {},
   "outputs": [
    {
     "data": {
      "image/png": "[encoded data removed]",
      "text/plain": [
       "<Figure size 640x480 with 1 Axes>"
      ]
     },
     "metadata": {},
     "output_type": "display_data"
    }
   ],
   "source": [
    "# Visualize PDF\n",
    "import matplotlib.pyplot as plt\n",
    "Smax = 100\n",
    "steps = 1_000\n",
    "dS = Smax / steps\n",
    "S = np.linspace(start=dS, stop=Smax, num=steps) # squared radius to evaluate\n",
    "pdf = radius_squared_pdf(sigmaX, sigmaY, S)\n",
    "plt.plot(S, pdf)\n",
    "plt.show()"
   ]
  },
  {
   "cell_type": "markdown",
   "metadata": {},
   "source": [
    "### Error from single sigma estimate\n",
    "\n",
    "If we have a truly asymmetric process (i.e., $\\sigma_x \\neq \\sigma_y$), but we estimate a single sigma using the Rayleigh estimator (which assumes that $\\sigma_x = \\sigma_y$), how far off will our CEP measures be?"
   ]
  },
  {
   "cell_type": "code",
   "execution_count": 102,
   "metadata": {},
   "outputs": [],
   "source": [
    "import pandas as pd\n",
    "numSims = 100_000\n",
    "ratios = []\n",
    "for varianceRatio in range(1, 12,3):\n",
    "    sigmaX = varianceRatio\n",
    "    sigmaY = 1.0\n",
    "    # Generate simulated shots\n",
    "    shotsX = np.random.normal(scale=sigmaX, size=numSims)\n",
    "    shotsY = np.random.normal(scale=sigmaY, size=numSims)\n",
    "    sigmaMean = math.sqrt((sigmaX**2 + sigmaY**2)/2.0)\n",
    "    #sampleSigma = math.sqrt((np.sum(np.square(shotsX))+np.sum(np.square(shotsY)))/(2*numSims))  # Approx Equal to sigmaMean\n",
    "    for p in np.arange(.2, 1, .1):\n",
    "        r = [varianceRatio, sigmaMean, p]\n",
    "        CEPradius = elliptic_covering_radius(sigmaX, sigmaY, p)  # Correct covering radius\n",
    "        r.append(CEPradius)\n",
    "        r.append(sum(1 for s in range(numSims) if (shotsX[s]**2/(CEPradius**2) + shotsY[s]**2/(CEPradius**2) < 1)) / numSims)  # Coverage\n",
    "        CEPradius = sigmaMean * math.sqrt(-2 * math.log(1-p))  # Covering radius assuming sigmaMean\n",
    "        r.append(CEPradius)\n",
    "        meanCoverage = sum(1 for s in range(numSims) if (shotsX[s]**2/(CEPradius**2) + shotsY[s]**2/(CEPradius**2) < 1)) / numSims\n",
    "        r.append(meanCoverage)\n",
    "        r.append(p-meanCoverage)  # Error\n",
    "        ratios.append(r)\n",
    "df = pd.DataFrame(ratios, columns=['VarianceRatio', 'sigmaMean', 'p', 'correctRadius', 'correctCoverage', 'meanRadius', 'meanCoverage', 'Error'])\n",
    "df.to_clipboard()"
   ]
  },
  {
   "cell_type": "markdown",
   "metadata": {},
   "source": [
    "#### Plot Error"
   ]
  },
  {
   "cell_type": "code",
   "execution_count": 62,
   "metadata": {},
   "outputs": [],
   "source": [
    "%load_ext cython"
   ]
  },
  {
   "cell_type": "code",
   "execution_count": 73,
   "metadata": {},
   "outputs": [
    {
     "name": "stdout",
     "output_type": "stream",
     "text": [
      "Content of stdout:\n",
      "_cython_magic_7d336e699c3b789e61f727386c1d25d227e83541.c\n",
      "C:\\Users\\David\\.ipython\\cython\\_cython_magic_7d336e699c3b789e61f727386c1d25d227e83541.c(1473): warning C4005: '__pyx_nonatomic_int_type': macro redefinition\n",
      "C:\\Users\\David\\.ipython\\cython\\_cython_magic_7d336e699c3b789e61f727386c1d25d227e83541.c(1424): note: see previous definition of '__pyx_nonatomic_int_type'\n",
      "   Creating library C:\\Users\\David\\.ipython\\cython\\Users\\David\\.ipython\\cython\\_cython_magic_7d336e699c3b789e61f727386c1d25d227e83541.cp310-win_amd64.lib and object C:\\Users\\David\\.ipython\\cython\\Users\\David\\.ipython\\cython\\_cython_magic_7d336e699c3b789e61f727386c1d25d227e83541.cp310-win_amd64.exp\n",
      "Generating code\n",
      "Finished generating code"
     ]
    }
   ],
   "source": [
    "%%cython\n",
    "import numpy as np\n",
    "from libc.math cimport sqrt, log\n",
    "cimport cython\n",
    "\n",
    "@cython.boundscheck(False)  # Doesn't check array bounds\n",
    "@cython.wraparound(False)  # Doesn't allow negative indexing\n",
    "@cython.cdivision(True)  # Doesn't spend time checking for zero divisors\n",
    "def covering_error(double VarRatio, double p, Py_ssize_t numShots):\n",
    "    \"\"\"Difference between p and actual proportion of samples covered when using a circle based on the mean of variances\"\"\"\n",
    "    cdef double sigmaX = VarRatio\n",
    "    cdef double sigmaY = 1.0\n",
    "    cdef double sigmaMean = sqrt((sigmaX**2 + sigmaY**2)/2.0)\n",
    "    cdef double CEPradius = sigmaMean * sqrt(-2 * log(1-p))  # Covering radius assuming sigmaMean\n",
    "    cdef double CEPradSqs = CEPradius**2\n",
    "    # Generate simulated shots\n",
    "    cdef double[:] shotsX = np.random.normal(scale=sigmaX, size=numShots).astype(np.double)\n",
    "    cdef double[:] shotsY = np.random.normal(scale=sigmaY, size=numShots).astype(np.double)\n",
    "    cdef double covered = 0\n",
    "    cdef Py_ssize_t i\n",
    "    for i in range(numShots):\n",
    "        if (shotsX[i]**2/CEPradSqs + shotsY[i]**2/CEPradSqs) < 1:\n",
    "            covered = covered + 1\n",
    "    return p - covered / numShots"
   ]
  },
  {
   "cell_type": "code",
   "execution_count": 100,
   "metadata": {},
   "outputs": [],
   "source": [
    "numSims = 1_000_000\n",
    "# Compile error values over a range of Variance Ratios and p-values\n",
    "VarRatio, p = np.meshgrid(np.linspace(1, 10, 30), np.linspace(.2, .96, 30))\n",
    "v = np.vectorize(covering_error)\n",
    "error = v(VarRatio, p, numSims)"
   ]
  },
  {
   "cell_type": "code",
   "execution_count": 101,
   "metadata": {},
   "outputs": [
    {
     "data": {
      "image/png": "[encoded data removed]",
      "text/plain": [
       "<Figure size 640x480 with 2 Axes>"
      ]
     },
     "metadata": {},
     "output_type": "display_data"
    }
   ],
   "source": [
    "import matplotlib as mpl\n",
    "import matplotlib.colors\n",
    "\n",
    "colors = ['red', 'white', 'green']\n",
    "values = [-.18, 0, .18]\n",
    "norm = matplotlib.colors.Normalize(min(values), max(values))\n",
    "cmap = matplotlib.colors.LinearSegmentedColormap.from_list(\"\", list(zip(norm(values), colors)))\n",
    "fig, ax = plt.subplots()\n",
    "cs = ax.contourf(VarRatio, p, error, cmap=cmap, norm=norm)\n",
    "ax.set_xlabel(\"Variance Ratio\")\n",
    "ax.set_ylabel(\"Coverage Fraction\")\n",
    "ax.yaxis.set_major_formatter(mpl.ticker.StrMethodFormatter('{x:.0%}'))\n",
    "cbar = fig.colorbar(cs, format=lambda x, _: f'{x:.0%}')\n",
    "cbar.ax.set_ylabel('Coverage Error using Mean Variance')\n",
    "plt.show()"
   ]
  },
  {
   "cell_type": "markdown",
   "metadata": {},
   "source": [
    "## Illustration of Covering Ellipse and Circle"
   ]
  },
  {
   "cell_type": "code",
   "execution_count": null,
   "metadata": {},
   "outputs": [
    {
     "data": {
      "image/png": "[encoded data removed]",
      "text/plain": [
       "<Figure size 640x480 with 1 Axes>"
      ]
     },
     "metadata": {},
     "output_type": "display_data"
    }
   ],
   "source": [
    "from matplotlib.patches import Ellipse\n",
    "numShots = 1800\n",
    "sigmaX = 3.0\n",
    "sigmaY = 1.0\n",
    "p = 0.66     # Proportion of shots to cover with circle\n",
    "CEPradiusX = sigmaX * math.sqrt(-2 * math.log(1-p))\n",
    "CEPradiusY = sigmaY * math.sqrt(-2 * math.log(1-p))\n",
    "sigmaMean = math.sqrt((sigmaX**2 + sigmaY**2)/2.0)\n",
    "CEPradius = elliptic_covering_radius(sigmaX, sigmaY, p)\n",
    "shotsX = np.random.normal(scale=sigmaX, size=numShots)\n",
    "shotsY = np.random.normal(scale=sigmaY, size=numShots)\n",
    "\n",
    "ax = plt.gca()\n",
    "ax.set_aspect('equal')\n",
    "ax.scatter(shotsX, shotsY, s=0.4, color=[0,0,.5,.5])\n",
    "ax.add_patch(Ellipse([0,0], 2*CEPradiusX, 2*CEPradiusY, facecolor=[0,0,0,0], edgecolor=[0,0,0,1], lw=2))\n",
    "ax.add_patch(plt.Circle([0,0], CEPradius, facecolor=[0,0,0,0], edgecolor=[0.5,0,0,.8], zorder=3))\n",
    "plt.show()\n",
    "#plt.savefig('Ellipse', dpi=500, bbox_inches='tight')"
   ]
  },
  {
   "cell_type": "markdown",
   "metadata": {},
   "source": [
    "## Covering interval (CEP) in one dimension"
   ]
  },
  {
   "cell_type": "code",
   "execution_count": 42,
   "metadata": {},
   "outputs": [
    {
     "name": "stdout",
     "output_type": "stream",
     "text": [
      "To cover 60% of variable with sigma 2.0: Centered interval of length 1.683 covers 60.1%\n"
     ]
    }
   ],
   "source": [
    "# Covering interval in one dimension has a different functional form than in 2 dimensions:\n",
    "import math\n",
    "import numpy as np\n",
    "from scipy.special import erfinv\n",
    "numShots = 200_000\n",
    "sigmaX = 2.0\n",
    "p = 0.6     # Proportion of shots to cover with interval\n",
    "normInterval = sigmaX * math.sqrt(2) * erfinv(p)\n",
    "shotsX = np.random.normal(scale=sigmaX, size=numShots)\n",
    "print(f'To cover {p:.0%} of variable with sigma {sigmaX}: Centered interval of length {normInterval:.3f} covers {sum(1 for s in range(numShots) if abs(shotsX[s]) < normInterval)/numShots:.1%}')"
   ]
  },
  {
   "cell_type": "markdown",
   "metadata": {},
   "source": [
    "# Order Statistics"
   ]
  },
  {
   "cell_type": "code",
   "execution_count": 38,
   "metadata": {},
   "outputs": [],
   "source": [
    "class OrderStatistics(Group):\n",
    "    \"\"\"\n",
    "    Order statistics are an alternate way of estimating sigma.\n",
    "    This subclass implements the calculations so that we can validate them.\n",
    "    \"\"\"\n",
    "    sortedShots: list[int]                  # Index of shot by radius, small to large\n",
    "    orderSampleR2: float                    # Estimate of sum radii squared\n",
    "    sigmaOrderStatEstimate: float           # Rayleigh parameter estimate\n",
    "    sigmaOrderStatUpperConfidence: float    # Upper bound of confidenceInterval on sigmaOrderStatEstimate\n",
    "\n",
    "    def computeOrderStatistics(self) -> float:\n",
    "        \"\"\"\n",
    "        Compute sigma using Order Statistics approach.\n",
    "        Only defined here for n = 3, 5, or 10.\n",
    "        \"\"\"\n",
    "        def Rstat(m: int):\n",
    "            \"\"\"Return mth smallest radii -- i.e., order statistic R(m)\"\"\"\n",
    "            if m > self.n:\n",
    "                raise Exception(f\"Tried to access order statistic {m} on group size {self.n}\")\n",
    "            return self.radii[self.sortedShots][m-1]\n",
    "        \n",
    "        self.sortedShots = np.argsort(self.radii)  # Index of shot by radius, small to large\n",
    "        if self.n == 3:\n",
    "            self.orderSampleR2 = 0.66 * Rstat(3)**2\n",
    "        elif self.n == 5:\n",
    "            self.orderSampleR2 = 0.7792 * Rstat(4)**2\n",
    "        elif self.n == 10:\n",
    "            self.orderSampleR2 = 0.4913 * Rstat(6)**2 + 0.3030 * Rstat(9)**2\n",
    "        else:\n",
    "            raise Exception(f\"No order statistics defined for group size n={self.n}\\nOnly for n = 3, 5, or 10.\")\n",
    "        self.orderSampleSumR2 = self.n * self.orderSampleR2\n",
    "        self.sigmaOrderStatEstimate = Group.cGauss(self.degrees+1) * math.sqrt(self.orderSampleSumR2 / self.degrees)\n",
    "        self.sigmaOrderStatUpperConfidence = math.sqrt(self.orderSampleSumR2 / (chi2.ppf(0.05, self.degrees)))\n",
    "        return self.sigmaOrderStatEstimate"
   ]
  },
  {
   "cell_type": "code",
   "execution_count": 33,
   "metadata": {},
   "outputs": [
    {
     "name": "stdout",
     "output_type": "stream",
     "text": [
      "Sigma estimate using Rayleigh estimator: 1.0948265273926074\n",
      "Sigma estimate using Order Statistics:  1.1008539269973991\n"
     ]
    }
   ],
   "source": [
    "# Example estimating sigma using order statistics:\n",
    "gOS = OrderStatistics(10)\n",
    "print(f'Sigma estimate using Rayleigh estimator: {gOS.sigmaEstimate}\\n'\n",
    "      f'Sigma estimate using Order Statistics:  {gOS.computeOrderStatistics()}')"
   ]
  },
  {
   "cell_type": "markdown",
   "metadata": {},
   "source": [
    "## Simulations to Validate Order Statistics"
   ]
  },
  {
   "cell_type": "markdown",
   "metadata": {},
   "source": [
    "### 10-shot groups"
   ]
  },
  {
   "cell_type": "code",
   "execution_count": 54,
   "metadata": {},
   "outputs": [
    {
     "name": "stdout",
     "output_type": "stream",
     "text": [
      " *** Based on 100,000 simulated 10-shot groups, with true sigma 1.0: ***\n",
      "Max. Efficiency Estimator gives mean sigma = 1.000  with variance = 0.0281\tUpper 5% Confidence < Sigma 4.99%\n",
      "Order Statistic Estimator gives mean sigma = 1.000  with variance = 0.0324\tUpper 5% Confidence < Sigma 6.16%\n",
      "\tOrder Stat Efficiency is ratio of variances = 86.9%\n"
     ]
    }
   ],
   "source": [
    "# Simulation to validate OrderStatistics\n",
    "groupSize = 10          # Number of shots per group\n",
    "simulations = 100_000   # Number of groups to simulate\n",
    "simulationSigma = 1.0   # Sigma to use when generating random shots\n",
    "simConfidence = 0.9     # Confidence interval to compute\n",
    "\n",
    "simOrderStats = [OrderStatistics(groupSize, sigma=simulationSigma, confidenceInterval=simConfidence) for i in range(0, simulations)]  # Run simulations\n",
    "efficientEstimates = [s.sigmaEstimate for s in simOrderStats]\n",
    "efficientEstimateVariance = np.var(efficientEstimates)\n",
    "orderStatEstimates = [s.computeOrderStatistics() for s in simOrderStats]  # This causes each simulation to run orderStatistics\n",
    "orderStatEstimateVariance = np.var(orderStatEstimates)\n",
    "print(f\" *** Based on {simulations:,} simulated {groupSize}-shot groups, with true sigma {simulationSigma}: ***\"\n",
    "    f\"\\nMax. Efficiency Estimator gives mean sigma = {np.mean(efficientEstimates):.3f}  with variance = {efficientEstimateVariance:.4f}\"\n",
    "        f\"\\tUpper {(1-simConfidence)/2:.0%} Confidence < Sigma {sum(1 for s in simOrderStats if s.sigmaUpperConfidence < simulationSigma)/simulations:.2%}\"\n",
    "    f\"\\nOrder Statistic Estimator gives mean sigma = {np.mean(orderStatEstimates):.3f}  with variance = {orderStatEstimateVariance:.4f}\"\n",
    "        f\"\\tUpper {(1-simConfidence)/2:.0%} Confidence < Sigma {sum(1 for s in simOrderStats if s.sigmaOrderStatUpperConfidence < simulationSigma)/simulations:.2%}\"\n",
    "    f\"\\n\\tOrder Stat Efficiency is ratio of variances = {(efficientEstimateVariance/orderStatEstimateVariance):.1%}\")"
   ]
  },
  {
   "cell_type": "markdown",
   "metadata": {},
   "source": [
    "### 5-shot groups"
   ]
  },
  {
   "cell_type": "code",
   "execution_count": 53,
   "metadata": {},
   "outputs": [
    {
     "name": "stdout",
     "output_type": "stream",
     "text": [
      " *** Based on 100,000 simulated 5-shot groups, with true sigma 1.0: ***\n",
      "Max. Efficiency Estimator gives mean sigma = 0.998  with variance = 0.0645\tUpper 5% Confidence < Sigma 5.11%\n",
      "Order Statistic Estimator gives mean sigma = 1.008  with variance = 0.0815\tUpper 5% Confidence < Sigma 6.43%\n",
      "\tOrder Stat Efficiency is ratio of variances = 79.1%\n"
     ]
    }
   ],
   "source": [
    "# Simulation to validate OrderStatistics\n",
    "groupSize = 5           # Number of shots per group\n",
    "simulations = 100_000   # Number of groups to simulate\n",
    "simulationSigma = 1.0   # Sigma to use when generating random shots\n",
    "simConfidence = 0.9     # Confidence interval to compute\n",
    "\n",
    "simOrderStats = [OrderStatistics(groupSize, sigma=simulationSigma, confidenceInterval=simConfidence) for i in range(0, simulations)]  # Run simulations\n",
    "efficientEstimates = [s.sigmaEstimate for s in simOrderStats]\n",
    "efficientEstimateVariance = np.var(efficientEstimates)\n",
    "orderStatEstimates = [s.computeOrderStatistics() for s in simOrderStats]  # This causes each simulation to run orderStatistics\n",
    "orderStatEstimateVariance = np.var(orderStatEstimates)\n",
    "print(f\" *** Based on {simulations:,} simulated {groupSize}-shot groups, with true sigma {simulationSigma}: ***\"\n",
    "    f\"\\nMax. Efficiency Estimator gives mean sigma = {np.mean(efficientEstimates):.3f}  with variance = {efficientEstimateVariance:.4f}\"\n",
    "        f\"\\tUpper {(1-simConfidence)/2:.0%} Confidence < Sigma {sum(1 for s in simOrderStats if s.sigmaUpperConfidence < simulationSigma)/simulations:.2%}\"\n",
    "    f\"\\nOrder Statistic Estimator gives mean sigma = {np.mean(orderStatEstimates):.3f}  with variance = {orderStatEstimateVariance:.4f}\"\n",
    "        f\"\\tUpper {(1-simConfidence)/2:.0%} Confidence < Sigma {sum(1 for s in simOrderStats if s.sigmaOrderStatUpperConfidence < simulationSigma)/simulations:.2%}\"\n",
    "    f\"\\n\\tOrder Stat Efficiency is ratio of variances = {(efficientEstimateVariance/orderStatEstimateVariance):.1%}\")"
   ]
  },
  {
   "cell_type": "markdown",
   "metadata": {},
   "source": [
    "### 3-shot groups"
   ]
  },
  {
   "cell_type": "code",
   "execution_count": 52,
   "metadata": {},
   "outputs": [
    {
     "name": "stdout",
     "output_type": "stream",
     "text": [
      " *** Based on 100,000 simulated 3-shot groups, with true sigma 1.0: ***\n",
      "Max. Efficiency Estimator gives mean sigma = 1.000  with variance = 0.1322\tUpper 5% Confidence < Sigma 5.01%\n",
      "Order Statistic Estimator gives mean sigma = 1.040  with variance = 0.1490\tUpper 5% Confidence < Sigma 4.59%\n",
      "\tOrder Stat Efficiency is ratio of variances = 88.7%\n"
     ]
    }
   ],
   "source": [
    "# n = 3 ... at this size a single order statistic is a very coarse estimator\n",
    "groupSize = 3           # Number of shots per group\n",
    "simulations = 100_000   # Number of groups to simulate\n",
    "simulationSigma = 1.0   # Sigma to use when generating random shots\n",
    "simConfidence = 0.9     # Confidence interval to compute\n",
    "\n",
    "simOrderStats = [OrderStatistics(groupSize, sigma=simulationSigma, confidenceInterval=simConfidence) for i in range(0, simulations)]  # Run simulations\n",
    "efficientEstimates = [s.sigmaEstimate for s in simOrderStats]\n",
    "efficientEstimateVariance = np.var(efficientEstimates)\n",
    "orderStatEstimates = [s.computeOrderStatistics() for s in simOrderStats]  # This causes each simulation to run orderStatistics\n",
    "orderStatEstimateVariance = np.var(orderStatEstimates)\n",
    "print(f\" *** Based on {simulations:,} simulated {groupSize}-shot groups, with true sigma {simulationSigma}: ***\"\n",
    "    f\"\\nMax. Efficiency Estimator gives mean sigma = {np.mean(efficientEstimates):.3f}  with variance = {efficientEstimateVariance:.4f}\"\n",
    "        f\"\\tUpper {(1-simConfidence)/2:.0%} Confidence < Sigma {sum(1 for s in simOrderStats if s.sigmaUpperConfidence < simulationSigma)/simulations:.2%}\"\n",
    "    f\"\\nOrder Statistic Estimator gives mean sigma = {np.mean(orderStatEstimates):.3f}  with variance = {orderStatEstimateVariance:.4f}\"\n",
    "        f\"\\tUpper {(1-simConfidence)/2:.0%} Confidence < Sigma {sum(1 for s in simOrderStats if s.sigmaOrderStatUpperConfidence < simulationSigma)/simulations:.2%}\"\n",
    "    f\"\\n\\tOrder Stat Efficiency is ratio of variances = {(efficientEstimateVariance/orderStatEstimateVariance):.1%}\")"
   ]
  },
  {
   "cell_type": "markdown",
   "metadata": {},
   "source": [
    "## Fast order statistic simulations (Cython)"
   ]
  },
  {
   "cell_type": "code",
   "execution_count": 16,
   "metadata": {},
   "outputs": [],
   "source": [
    "%load_ext cython"
   ]
  },
  {
   "cell_type": "code",
   "execution_count": 45,
   "metadata": {},
   "outputs": [],
   "source": [
    "%%cython --cplus\n",
    "import numpy as np\n",
    "import math\n",
    "from scipy.stats.distributions import chi2\n",
    "from libcpp.algorithm cimport sort  # C++ sort seems to be fastest\n",
    "from libc.math cimport sqrt\n",
    "cimport cython\n",
    "\n",
    "@cython.boundscheck(False)  # Doesn't check array bounds\n",
    "@cython.wraparound(False)  # Doesn't allow negative indexing\n",
    "@cython.cdivision(True)  # Doesn't spend time checking for zero divisors\n",
    "def runSimOrderStats(int numShots, Py_ssize_t numSims, double sigma = 1.0, double confidenceInterval = 0.9):\n",
    "    if numShots not in [3, 5, 10]:\n",
    "        raise NotImplementedError(f\"No order statistics defined for group size n={numShots}\"\n",
    "                                  f\"\\nOnly for n = 3, 5, or 10.\")\n",
    "\n",
    "    cdef double[:] sigmaEstimate = np.zeros(numSims, np.double)\n",
    "    cdef double[:] sigmaUpperConfidence = np.zeros(numSims, np.double)\n",
    "\n",
    "    # Index: [Simulation#, Shot#, Axis]\n",
    "    cdef double[:,:,:] shots = np.random.normal(scale=sigma, size=(numSims, numShots, 2)).astype(np.double)\n",
    "\n",
    "    cdef int degrees = 2*(numShots-1)  # Degrees of freedom (for estimators)\n",
    "    cdef double d = degrees+1\n",
    "    cdef double cG = 1/math.exp(math.log(math.sqrt(2/(d-1))) + math.lgamma(d/2) - math.lgamma((d-1)/2))\n",
    "    cdef double chiNorm = 1/chi2.ppf((1-confidenceInterval)/2, degrees)\n",
    "\n",
    "    cdef double sumR2                  # Sample sum R^2 based on order statistics\n",
    "    cdef double xbar, ybar\n",
    "    cdef Py_ssize_t i, s\n",
    "    cdef double[:] radii2 = np.zeros(numShots, np.double)  # Radius squared of each shot\n",
    "    for s in range(numSims):\n",
    "        # Compute sampleCenter = [xbar, ybar]\n",
    "        xbar = ybar = 0\n",
    "        for i in range(numShots):\n",
    "            xbar += shots[s, i, 0]\n",
    "            ybar += shots[s, i, 1]\n",
    "        xbar /= numShots\n",
    "        ybar /= numShots\n",
    "        # Compute radius for each shot\n",
    "        for i in range(numShots):\n",
    "            radii2[i] = (shots[s, i, 0] - xbar)**2 + (shots[s, i, 1] - ybar)**2\n",
    "            sumR2 += radii2[i]\n",
    "        # Sort radii\n",
    "        sort(&radii2[0], (&radii2[0])+radii2.shape[0])\n",
    "        if numShots == 3:\n",
    "            sumR2 = 0.66 * radii2[3-1]\n",
    "        elif numShots == 5:\n",
    "            sumR2 = 0.7792 * radii2[4-1]\n",
    "        else: # numShots == 10:\n",
    "            sumR2 = 0.4913 * radii2[6-1] + 0.3030 * radii2[9-1]\n",
    "        sumR2 = sumR2 * numShots\n",
    "        sigmaEstimate[s] = cG * sqrt(sumR2 / degrees)\n",
    "\n",
    "    return sigmaEstimate"
   ]
  },
  {
   "cell_type": "code",
   "execution_count": 55,
   "metadata": {},
   "outputs": [
    {
     "name": "stdout",
     "output_type": "stream",
     "text": [
      " *** Based on 1,000,000 simulated 10-shot groups: ***\n",
      "Mean estimated sigma = 0.9995 vs true sigma = 1.0   <-- Mean estimate should converge to true as #simulations increases\n"
     ]
    }
   ],
   "source": [
    "groupSize = 10             # Number of shots per group\n",
    "simulations = 1_000_000    # Number of groups to simulate\n",
    "simulationSigma = 1.0      # Sigma to use when generating random shots\n",
    "\n",
    "sigmaEstimate = runSimOrderStats(groupSize, simulations, sigma=simulationSigma, confidenceInterval=simConfidence)\n",
    "\n",
    "print(f\" *** Based on {simulations:,} simulated {groupSize}-shot groups: ***\"\n",
    "    f\"\\nMean estimated sigma = {np.mean(sigmaEstimate):.4f} vs true sigma = {simulationSigma}   <-- Mean estimate should converge to true as #simulations increases\")"
   ]
  }
 ],
 "metadata": {
  "kernelspec": {
   "display_name": "Python 3",
   "language": "python",
   "name": "python3"
  },
  "language_info": {
   "codemirror_mode": {
    "name": "ipython",
    "version": 3
   },
   "file_extension": ".py",
   "mimetype": "text/x-python",
   "name": "python",
   "nbconvert_exporter": "python",
   "pygments_lexer": "ipython3",
   "version": "3.10.9"
  },
  "orig_nbformat": 4
 },
 "nbformat": 4,
 "nbformat_minor": 2
}
