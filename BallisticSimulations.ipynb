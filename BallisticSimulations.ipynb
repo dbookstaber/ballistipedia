{
 "cells": [
  {
   "attachments": {},
   "cell_type": "markdown",
   "metadata": {},
   "source": [
    "## [Ballistic precision](http://ballistipedia.com/index.php?title=Closed_Form_Precision) from sample targets.\n",
    "\n",
    "We define a class `Group` that holds data on a group of shots on a target.  The shot data can be provided as a collection of (x, y) coordinates of each shot as recorded on a real target.  Or the class can generate a group by simulating random shots from a gun with a specified precision (using parameter `sigma`).\n",
    "\n",
    "Using the shot data, `Group` calculates statistics and estimates of precision:\n",
    "* Sigma, the Rayleigh distribution parameter (which also corresponds to the bivariate normal distribution with standard deviation = sigma)\n",
    "* The confidence interval on the estimate of sigma\n",
    "* Extreme Spread\n",
    "* If the group was simulated, then we can also calculate the distance from the sample center to the true (known) center\n",
    "\n",
    "A `plotGroup` class provides a more detailed plot of a Group than the `.plot()` method provided in the `Group` class.\n",
    "\n",
    "We define a `OrderStatistics` subclass of `Group` that uses Order Statistics to estimate sigma.  This is a less efficient estimator, but can be easier to calculate because it doesn't require measuring the coordinates of every shot in the group.  However we have only derived Order Statistic estimators for groups of size 3, 5, or 10 shots.\n",
    "\n",
    "We can then use \"Monte Carlo\" simulation to validate the statistical estimators.  Here's how that technique works: we generate large numbers of random groups using a particular parameter value, and then look at the calculated statistics to verify that they match that parameter's value.  For example, we could ask: *Is our estimator of sigma correct?*  Let's check by simulating a million groups, where each shot in each group is generated from a random variable with sigma = 1.  Calculate our sigma estimate on each group, and then look at the average of those estimates.  If our estimator is correct then its average over a large number of samples should match the parameter used to construct the samples.  So, in this example, if the average estimate of sigma is 1 then we can be confident that our estimator is correct."
   ]
  },
  {
   "cell_type": "code",
   "execution_count": 1,
   "metadata": {},
   "outputs": [],
   "source": [
    "import math\n",
    "import numpy as np\n",
    "import matplotlib.pyplot as plt\n",
    "from scipy.stats.distributions import chi2"
   ]
  },
  {
   "cell_type": "code",
   "execution_count": 2,
   "metadata": {},
   "outputs": [],
   "source": [
    "class Group:\n",
    "    \"\"\"\n",
    "    Data on a group of shots.\n",
    "    Computes statistical estimates of precision based on the shot data.\n",
    "    \"\"\"\n",
    "    # Memoized values:\n",
    "    cG = {}  # Gaussian correction factor\n",
    "    cR = {}  # Rayleigh correction factor\n",
    "\n",
    "    n: int                              # Number of shots in group\n",
    "    sigma: float                        # Standard deviation to use if simulating shots with random variables\n",
    "    degrees: int                        # Degrees of freedom (for estimators)\n",
    "    shots: list[list[float]]            # Coordinates of shots [[x, y], [x, y], ...]\n",
    "    sampleCenter: [float, float]        # Coordinates of centroid of group\n",
    "    centeredShots: list[list[float]]    # Shots shifted so that their centroid coordinates = (0,0)\n",
    "    radii: list[float]                  # Radius (distance) of each shot from centroid\n",
    "    sumR2: float                        # Sum of radii squared\n",
    "    sigmaEstimate: float                # Unbiased Rayleigh parameter estimate\n",
    "    confidenceInterval: float           # Confidence region to calculate; default is 90%\n",
    "    sigmaUpperConfidence: float         # Upper bound of confidenceInterval on sigmaEstimate\n",
    "\n",
    "    def __init__(self, n: int, shots: list[list[float]]=[], sigma: float=1.0, confidenceInterval: float=0.9):\n",
    "        \"\"\"\n",
    "        If no shot data provided then all simulation samples will be drawn from X,Y~N(0,sigma)\n",
    "        in which case we know the true parameter we're estimating is sigma (with center at the origin)       \n",
    "\n",
    "        :param n: Number of shots\n",
    "        :param shots: List of (x,y) coordinates of each shot impact on target.\n",
    "        :param sigma: standard deviation to use if simulating shots.\n",
    "        :param confidenceInterval: Confidence region to calculate. Allowed range is (0,1). Default is 90%.\n",
    "        \"\"\"\n",
    "        self.sigma = sigma\n",
    "        if len(shots) > 0:\n",
    "            self.shots = shots\n",
    "            self.n = len(shots)\n",
    "        else:  # If we didn't receive a group of shots then create random shots from bivariate normal distribution\n",
    "            self.shots = [np.random.normal(scale=sigma, size=2) for i in range(0,n)]\n",
    "            self.n = n\n",
    "\n",
    "        g = 1  # Number of groups\n",
    "        self.degrees = 2*(self.n-g)  # Degrees of freedom (for estimators)\n",
    "        if self.n not in Group.cG:  # Compute correction factors\n",
    "            d = self.degrees + 1\n",
    "            Group.cG[self.n] = 1/math.exp(math.log(math.sqrt(2/(d-1))) + math.lgamma(d/2) - math.lgamma((d-1)/2))\n",
    "            Group.cR[self.n] = math.exp(math.log(math.sqrt(d/math.pi)) + d * math.log(4) + math.lgamma(d+1) + math.lgamma(d) - math.lgamma(2*d+1))\n",
    "\n",
    "        self.sampleCenter = np.mean(self.shots, axis=0)\n",
    "        self.centeredShots = np.add(self.shots, -self.sampleCenter) # Shots adjusted so their centroid = (0,0)\n",
    "        self.radii = np.linalg.norm(self.centeredShots, axis=-1)    # List of radii from sample center\n",
    "        self.sumR2 = np.dot(self.radii, self.radii)\n",
    "        self.sigmaEstimate = Group.cG[self.n] * math.sqrt(self.sumR2 / self.degrees)  # Unbiased Rayleigh parameter estimate\n",
    "        self.confidenceInterval = confidenceInterval\n",
    "        self.sigmaUpperConfidence = math.sqrt(self.sumR2 / chi2.ppf((1-confidenceInterval)/2, self.degrees))  # Upper bound of confidence interval on estimate\n",
    "\n",
    "        # Distance from sample center to origin (0,0).\n",
    "        # CAVEAT: The origin is only known to be the *true center* if the shots were generated from Normal variables with mean = 0\n",
    "        self.d2c = math.sqrt(np.dot(self.sampleCenter, self.sampleCenter))\n",
    "        # Median expected distance from sample center to true center = cR * sqrt(2*math.log(2)) * sigmaEstimate / sqrt(n)\n",
    "        self.d2cMedian = Group.cR[self.n] * 1.177410022515474 * self.sigmaEstimate / math.sqrt(self.n)\n",
    "\n",
    "    def plot(self):\n",
    "        \"\"\"Display plot of shots.  Can call .savefig() on return value to output to file.\"\"\"\n",
    "        range = 1.1* np.max(np.abs(self.shots))\n",
    "        plt.scatter(*zip(*self.shots))\n",
    "        plt.xlim(-range, range)\n",
    "        plt.ylim(-range, range)\n",
    "        plt.show()\n",
    "\n",
    "    #region Group Measures\n",
    "    # Compute Extreme Spread of Group – max Euclidean distance between any two points\n",
    "    # This is a brute-force algorithm. (Fastest algorithm: Find convex hull, then use Shamos's Rotating Calipers algorithm.)\n",
    "    def extremeSpread(self) -> float:\n",
    "        maxSpread = 0\n",
    "        for i in range(0, self.n):\n",
    "            for j in range(i+1, self.n):\n",
    "                spread = sum(np.square(self.shots[i] - self.shots[j]))  # Sum squared distance\n",
    "                if spread > maxSpread:\n",
    "                    maxSpread = spread\n",
    "        return math.sqrt(maxSpread)\n",
    "    #endregion\n"
   ]
  },
  {
   "cell_type": "markdown",
   "metadata": {},
   "source": [
    "### Generate and plot random group"
   ]
  },
  {
   "cell_type": "code",
   "execution_count": 162,
   "metadata": {},
   "outputs": [
    {
     "data": {
      "image/png": "[encoded data removed]",
      "text/plain": [
       "<Figure size 640x480 with 1 Axes>"
      ]
     },
     "metadata": {},
     "output_type": "display_data"
    }
   ],
   "source": [
    "g = Group(10)\n",
    "plt.title(f\"{g.n} shots:  \\u03C3\\u0302 = {g.sigmaEstimate:.2f}   Extreme Spread = {g.extremeSpread():.2f}\")\n",
    "g.plot()"
   ]
  },
  {
   "cell_type": "markdown",
   "metadata": {},
   "source": [
    "### Fancy Plot"
   ]
  },
  {
   "cell_type": "code",
   "execution_count": 158,
   "metadata": {},
   "outputs": [],
   "source": [
    "import matplotlib.ticker as plticker\n",
    "\n",
    "class plotGroup():\n",
    "    def __init__(self, g: Group, CEP: float=0.5, figSize: float=1, fixedWidth: float=0):\n",
    "        shots = g.shots\n",
    "        center = g.sampleCenter\n",
    "\n",
    "        self.fig = plt.figure(figsize=[figSize, figSize])\n",
    "\n",
    "        # CEP(F) = sigma sqrt(-2 ln(1-F))\n",
    "        CEPradius = math.sqrt(-2.0 * math.log(1.0-CEP)) * g.sigmaEstimate\n",
    "\n",
    "        if fixedWidth > 0:\n",
    "            width = fixedWidth\n",
    "        else:\n",
    "            outside = max(abs(center[0]), abs(center[1])) + CEPradius  # Range needed to fit full CEP circle on plot\n",
    "            width = 1.1*max(np.max(np.abs(shots)), math.ceil(outside))  # Fit all shots as well as CEP circle\n",
    "        ax = plt.axes([-width, -width, 2*width, 2*width], xlim=(-width, width), ylim=(-width, width))\n",
    "        for s in ax.spines.values():\n",
    "            s.set_color([0,0,0,.5])\n",
    "        ax.axhline(0, color='k', lw=0.75)\n",
    "        ax.axvline(0, color='k', lw=0.75)\n",
    "\n",
    "        # Size for bullet holes\n",
    "        points_whole_ax = figSize * 72 * width    # 1 point = dpi / 72 pixels\n",
    "        bulletRadius = 0.04\n",
    "        points_radius = 2 * bulletRadius * points_whole_ax\n",
    "\n",
    "        plt.grid()\n",
    "        # Plot Shots:\n",
    "        ax.scatter(*zip(*shots), s=points_radius**2, color=[1,0,0,1])\n",
    "        # Sample Center marker:\n",
    "        ax.scatter(*center, s=points_radius**2, color='b', marker='+', zorder=2)\n",
    "        # Plot CEP:\n",
    "        ax.add_patch(plt.Circle(center, CEPradius, facecolor=[0,0,0,0], edgecolor=[0,0,0,1], zorder=1))\n",
    "        # Set grid frequency to integers\n",
    "        gridFreq = plticker.MultipleLocator(base=1.0)\n",
    "        ax.xaxis.set_major_locator(gridFreq)\n",
    "        ax.yaxis.set_major_locator(gridFreq)\n",
    "        # Don't show tick labels\n",
    "        ax.tick_params(labelbottom=False, labelleft=False, length=0)\n",
    "\n",
    "        plt.figtext(0, -width, f\"\\nCircle shows estimated CEP({CEP:.0%}) around sample center\",\n",
    "                    ha='center', va='top')\n",
    "\n",
    "        self.ax = ax\n"
   ]
  },
  {
   "cell_type": "code",
   "execution_count": 163,
   "metadata": {},
   "outputs": [
    {
     "data": {
      "image/png": "[encoded data removed]",
      "text/plain": [
       "<Figure size 100x100 with 1 Axes>"
      ]
     },
     "metadata": {},
     "output_type": "display_data"
    }
   ],
   "source": [
    "p = plotGroup(g)"
   ]
  },
  {
   "attachments": {},
   "cell_type": "markdown",
   "metadata": {},
   "source": [
    "# Simulations"
   ]
  },
  {
   "cell_type": "code",
   "execution_count": 4,
   "metadata": {},
   "outputs": [],
   "source": [
    "groupSize = 5           # Number of shots per group\n",
    "simulations = 100_000    # Number of groups to simulate\n",
    "simulationSigma = 1.0   # Sigma to use when generating random shots\n",
    "\n",
    "sim = [Group(groupSize, sigma=simulationSigma) for i in range(0, simulations)]  # Run simulations"
   ]
  },
  {
   "cell_type": "markdown",
   "metadata": {},
   "source": [
    "### Validation of statistical estimators"
   ]
  },
  {
   "cell_type": "code",
   "execution_count": 100,
   "metadata": {},
   "outputs": [
    {
     "name": "stdout",
     "output_type": "stream",
     "text": [
      " *** Based on 100,000 simulated 5-shot groups: ***\n",
      "Mean estimated sigma = 1.0004 vs true sigma = 1.0   <-- Mean estimate should converge to true as #simulations increases\n",
      "True sigma was above the upper 5% Confidence Interval on estimated sigma 5.0% of the time.\t<-- Should match\n",
      "Sample center distance from true center exceeded estimated median distance 49.8% of the time.\t<-- Should be 50%\n"
     ]
    }
   ],
   "source": [
    "print(f\" *** Based on {simulations:,} simulated {groupSize}-shot groups: ***\"\n",
    "    f\"\\nMean estimated sigma = {np.mean([s.sigmaEstimate for s in sim]):.4f} vs true sigma = {simulationSigma}   <-- Mean estimate should converge to true as #simulations increases\"\n",
    "    f\"\\nTrue sigma was above the upper {(1-sim[0].confidenceInterval)/2:.0%} Confidence Interval on estimated sigma \"\n",
    "    f\"{sum(1 for s in sim if s.sigmaUpperConfidence < simulationSigma)/len(sim):.1%} of the time.\\t<-- Should match\"\n",
    "    f\"\\nSample center distance from true center exceeded estimated median distance {sum(1 for s in sim if s.d2c > s.d2cMedian)/len(sim):.1%} of the time.\\t<-- Should be 50%\")"
   ]
  },
  {
   "attachments": {},
   "cell_type": "markdown",
   "metadata": {},
   "source": [
    "### Validation of Order Statistics estimates"
   ]
  },
  {
   "cell_type": "code",
   "execution_count": null,
   "metadata": {},
   "outputs": [],
   "source": [
    "class OrderStatistics(Group):\n",
    "    \"\"\"\n",
    "    Order statistics are an alternate way of estimating sigma.\n",
    "    This subclass implements the calculations so that we can validate them.\n",
    "    \"\"\"\n",
    "    sortedShots: list[int]                  # Index of shot by radius, small to large\n",
    "    orderSampleR2: float                    # Estimate of sum radii squared\n",
    "    sigmaOrderStatEstimate: float           # Rayleigh parameter estimate\n",
    "    sigmaOrderStatUpperConfidence: float    # Upper bound of confidenceInterval on sigmaOrderStatEstimate\n",
    "\n",
    "    def computeOrderStatistics(self) -> float:\n",
    "        \"\"\"\n",
    "        Compute sigma using Order Statistics approach.\n",
    "        Only defined here for n = 3, 5, or 10.\n",
    "        \"\"\"\n",
    "        def Rstat(m: int):\n",
    "            \"\"\"Return mth smallest radii -- i.e., order statistic R(m)\"\"\"\n",
    "            if m > self.n:\n",
    "                raise Exception(f\"Tried to access order statistic {m} on group size {self.n}\")\n",
    "            return self.radii[self.sortedShots][m-1]\n",
    "        \n",
    "        self.sortedShots = np.argsort(self.radii)  # Index of shot by radius, small to large\n",
    "        if self.n == 3:\n",
    "            self.orderSampleR2 = 0.66 * Rstat(3)**2\n",
    "        elif self.n == 5:\n",
    "            self.orderSampleR2 = 0.7792 * Rstat(4)**2\n",
    "        elif self.n == 10:\n",
    "            self.orderSampleR2 = 0.4913 * Rstat(6)**2 + 0.3030 * Rstat(9)**2\n",
    "        else:\n",
    "            raise Exception(f\"No order statistics defined for group size n={self.n}\\nOnly for n = 3, 5, or 10.\")\n",
    "        self.orderSampleSumR2 = self.n * self.orderSampleR2\n",
    "        self.sigmaOrderStatEstimate = Group.cG[self.n] * math.sqrt(self.orderSampleSumR2 / self.degrees)\n",
    "        self.sigmaOrderStatUpperConfidence = math.sqrt(self.orderSampleSumR2 / (chi2.ppf(0.05, self.degrees)))\n",
    "        return self.sigmaOrderStatEstimate"
   ]
  },
  {
   "cell_type": "code",
   "execution_count": 164,
   "metadata": {},
   "outputs": [
    {
     "name": "stdout",
     "output_type": "stream",
     "text": [
      " *** Based on 100,000 simulated 5-shot groups, with true sigma 1.0: ***\n",
      "Max. Efficiency Estimator gives mean sigma = 1.000  with variance = 0.0647\n",
      "Order Statistic Estimator gives mean sigma = 1.010  with variance = 0.0822\n",
      "\tOrder Stat Efficiency is ratio of variances = 78.7%\n"
     ]
    }
   ],
   "source": [
    "simOrderStats = [OrderStatistics(groupSize, sigma=simulationSigma) for i in range(0, simulations)]  # Run simulations\n",
    "efficientEstimates = [s.sigmaEstimate for s in simOrderStats]\n",
    "efficientEstimateVariance = np.var(efficientEstimates)\n",
    "orderStatEstimates = [s.computeOrderStatistics() for s in simOrderStats]  # This causes each simulation to run orderStatistics\n",
    "orderStatEstimateVariance = np.var(orderStatEstimates)\n",
    "print(f\" *** Based on {simulations:,} simulated {groupSize}-shot groups, with true sigma {simulationSigma}: ***\"\n",
    "    f\"\\nMax. Efficiency Estimator gives mean sigma = {np.mean(efficientEstimates):.3f}  with variance = {efficientEstimateVariance:.4f}\"\n",
    "    f\"\\nOrder Statistic Estimator gives mean sigma = {np.mean(orderStatEstimates):.3f}  with variance = {orderStatEstimateVariance:.4f}\"\n",
    "    f\"\\n\\tOrder Stat Efficiency is ratio of variances = {(efficientEstimateVariance/orderStatEstimateVariance):.1%}\")"
   ]
  },
  {
   "cell_type": "code",
   "execution_count": 136,
   "metadata": {},
   "outputs": [
    {
     "name": "stdout",
     "output_type": "stream",
     "text": [
      "Sigma   mean=1.001\tVar=0.028\t90%Confidence<Parameter=4.89%\n",
      "SigmaOS mean=1.001\tVar=0.033\t90%OSConfidence<Parameter=5.95%\n",
      "\t\tOrder Stat Efficiency = 0.860\n"
     ]
    }
   ],
   "source": [
    "# n = 10\n",
    "sim = [group(10, runOrderStatistics=True) for i in range(0,10000)]\n",
    "sigmaEstimates = [s.sigmaEstimate for s in sim]\n",
    "sigmaUppers = [s.sigmaUpperConfidence for s in sim]\n",
    "sigmaOSestimates = [s.sigmaOrderStatEstimate for s in sim]\n",
    "sigmaOSuppers = [s.sigmaOrderStatUpperConfidence for s in sim]\n",
    "print(f\"Sigma   mean={np.mean(sigmaEstimates):.3f}\\tVar={np.var(sigmaEstimates):.3f}\\t90%Confidence<Parameter={sum(1 for x in sigmaUppers if x < 1)/len(sigmaUppers):.2%}\")\n",
    "print(f\"SigmaOS mean={np.mean(sigmaOSestimates):.3f}\\tVar={np.var(sigmaOSestimates):.3f}\\t90%OSConfidence<Parameter={sum(1 for x in sigmaOSuppers if x < 1)/len(sigmaOSuppers):.2%}\")\n",
    "print(f\"\\t\\tOrder Stat Efficiency = {(np.var(sigmaEstimates)/np.var(sigmaOSestimates)):.3f}\")"
   ]
  },
  {
   "cell_type": "code",
   "execution_count": 138,
   "metadata": {},
   "outputs": [
    {
     "name": "stdout",
     "output_type": "stream",
     "text": [
      "Sigma   mean=1.002\tVar=0.064\t90%Confidence<Parameter=4.79%\n",
      "SigmaOS mean=1.014\tVar=0.081\t90%OSConfidence<Parameter=6.10%\n",
      "\t\tOrder Stat Efficiency = 0.791\n"
     ]
    }
   ],
   "source": [
    "# n = 5\n",
    "sim = [group(5, runOrderStatistics=True) for i in range(0,10000)]\n",
    "sigmaEstimates = [s.sigmaEstimate for s in sim]\n",
    "sigmaUppers = [s.sigmaUpperConfidence for s in sim]\n",
    "sigmaOSestimates = [s.sigmaOrderStatEstimate for s in sim]\n",
    "sigmaOSuppers = [s.sigmaOrderStatUpperConfidence for s in sim]\n",
    "print(f\"Sigma   mean={np.mean(sigmaEstimates):.3f}\\tVar={np.var(sigmaEstimates):.3f}\\t90%Confidence<Parameter={sum(1 for x in sigmaUppers if x < 1)/len(sigmaUppers):.2%}\")\n",
    "print(f\"SigmaOS mean={np.mean(sigmaOSestimates):.3f}\\tVar={np.var(sigmaOSestimates):.3f}\\t90%OSConfidence<Parameter={sum(1 for x in sigmaOSuppers if x < 1)/len(sigmaOSuppers):.2%}\")\n",
    "print(f\"\\t\\tOrder Stat Efficiency = {(np.var(sigmaEstimates)/np.var(sigmaOSestimates)):.3f}\")"
   ]
  },
  {
   "cell_type": "code",
   "execution_count": 139,
   "metadata": {},
   "outputs": [
    {
     "name": "stdout",
     "output_type": "stream",
     "text": [
      "Sigma   mean=1.000\tVar=0.132\t90%Confidence<Parameter=5.06%\n",
      "SigmaOS mean=1.041\tVar=0.149\t90%OSConfidence<Parameter=4.55%\n",
      "\t\tOrder Stat Efficiency = 0.884\n"
     ]
    }
   ],
   "source": [
    "# n = 3 ... at this size a single order statistic is a very coarse estimator\n",
    "sim = [group(3, runOrderStatistics=True) for i in range(0,50000)]\n",
    "sigmaEstimates = [s.sigmaEstimate for s in sim]\n",
    "sigmaUppers = [s.sigmaUpperConfidence for s in sim]\n",
    "sigmaOSestimates = [s.sigmaOrderStatEstimate for s in sim]\n",
    "sigmaOSuppers = [s.sigmaOrderStatUpperConfidence for s in sim]\n",
    "print(f\"Sigma   mean={np.mean(sigmaEstimates):.3f}\\tVar={np.var(sigmaEstimates):.3f}\\t90%Confidence<Parameter={sum(1 for x in sigmaUppers if x < 1)/len(sigmaUppers):.2%}\")\n",
    "print(f\"SigmaOS mean={np.mean(sigmaOSestimates):.3f}\\tVar={np.var(sigmaOSestimates):.3f}\\t90%OSConfidence<Parameter={sum(1 for x in sigmaOSuppers if x < 1)/len(sigmaOSuppers):.2%}\")\n",
    "print(f\"\\t\\tOrder Stat Efficiency = {(np.var(sigmaEstimates)/np.var(sigmaOSestimates)):.3f}\")"
   ]
  },
  {
   "cell_type": "markdown",
   "metadata": {},
   "source": [
    "# Fast Simulations (Cython)"
   ]
  },
  {
   "cell_type": "code",
   "execution_count": 2,
   "metadata": {},
   "outputs": [],
   "source": [
    "%load_ext cython"
   ]
  },
  {
   "cell_type": "code",
   "execution_count": 3,
   "metadata": {},
   "outputs": [],
   "source": [
    "%%cython\n",
    "import numpy as np\n",
    "import math\n",
    "from scipy.stats.distributions import chi2\n",
    "from libc.math cimport sqrt\n",
    "cimport cython\n",
    "\n",
    "@cython.boundscheck(False)  # Doesn't check array bounds\n",
    "@cython.cdivision(True)  # Doesn't spend time checking for zero divisors\n",
    "def runSim(int numShots, Py_ssize_t numSims, double sigma = 1.0, double confidenceInterval = 0.9):\n",
    "    cdef double[:] sigmaEstimate = np.zeros(numSims, np.double)\n",
    "    cdef double[:] sigmaUpperConfidence = np.zeros(numSims, np.double)\n",
    "\n",
    "    cdef double[:,:,:] shots = np.random.normal(scale=sigma, size=(numSims, numShots, 2)).astype(np.double)\n",
    "\n",
    "    cdef int degrees = 2*(numShots-1)  # Degrees of freedom (for estimators)\n",
    "    cdef double d = degrees+1\n",
    "    cdef double cG = 1/math.exp(math.log(math.sqrt(2/(d-1))) + math.lgamma(d/2) - math.lgamma((d-1)/2))\n",
    "    cdef double chiNorm = 1/chi2.ppf((1-confidenceInterval)/2, degrees)\n",
    "\n",
    "    cdef double [:, :] centeredShots    # Shots shifted so that their centroid coordinates = (0,0)\n",
    "    cdef double [:] radii = np.zeros(numShots, np.double)  # Radius (distance) of each shot from centroid\n",
    "    cdef double sumR2                   # Sum of radii squared\n",
    "    cdef double xbar, ybar\n",
    "    cdef Py_ssize_t i, s\n",
    "    for s in range(numSims):\n",
    "        #sampleCenter = np.mean(shots[s], axis=0)\n",
    "        xbar = ybar = 0\n",
    "        for i in range(numShots):\n",
    "            xbar += shots[s, i, 0]\n",
    "            ybar += shots[s, i, 1]\n",
    "        xbar /= numShots\n",
    "        ybar /= numShots\n",
    "        sumR2 = 0\n",
    "        for i in range(numShots):\n",
    "            sumR2 += (shots[s, i, 0] - xbar)**2 + (shots[s, i, 1] - ybar)**2\n",
    "        sigmaEstimate[s] = cG * sqrt(sumR2 / degrees)    # Unbiased Rayleigh parameter estimate\n",
    "        sigmaUpperConfidence[s] = sqrt(sumR2 * chiNorm)  # Upper bound of confidence interval on estimate\n",
    "        \n",
    "    return sigmaEstimate, sigmaUpperConfidence\n"
   ]
  },
  {
   "cell_type": "code",
   "execution_count": 5,
   "metadata": {},
   "outputs": [
    {
     "name": "stdout",
     "output_type": "stream",
     "text": [
      " *** Based on 10,000,000 simulated 5-shot groups: ***\n",
      "Mean estimated sigma = 1.0001 vs true sigma = 1.0   <-- Mean estimate should converge to true as #simulations increases\n",
      "True sigma was above the upper 5% Confidence Interval on estimated sigma 5.0% of the time.\t<-- Should match\n"
     ]
    }
   ],
   "source": [
    "groupSize = 5           # Number of shots per group\n",
    "simulations = 10_000_000    # Number of groups to simulate\n",
    "simulationSigma = 1.0   # Sigma to use when generating random shots\n",
    "simConfidence = 0.9\n",
    "\n",
    "sigmaEstimate, sigmaUpperConfidence = runSim(groupSize, simulations,\n",
    "                                              sigma=simulationSigma, confidenceInterval=simConfidence)\n",
    "\n",
    "print(f\" *** Based on {simulations:,} simulated {groupSize}-shot groups: ***\"\n",
    "    f\"\\nMean estimated sigma = {np.mean(sigmaEstimate):.4f} vs true sigma = {simulationSigma}   <-- Mean estimate should converge to true as #simulations increases\"\n",
    "    f\"\\nTrue sigma was above the upper {(1-simConfidence)/2:.0%} Confidence Interval on estimated sigma \"\n",
    "    f\"{sum(1 for s in sigmaUpperConfidence if s < simulationSigma)/simulations:.1%} of the time.\\t<-- Should match\")"
   ]
  },
  {
   "cell_type": "markdown",
   "metadata": {},
   "source": [
    "# Faster Multi-threaded Cython"
   ]
  },
  {
   "cell_type": "code",
   "execution_count": 6,
   "metadata": {},
   "outputs": [],
   "source": [
    "%%cython\n",
    "# distutils: extra_compile_args=/openmp\n",
    "import numpy as np\n",
    "import math\n",
    "from scipy.stats.distributions import chi2\n",
    "from libc.math cimport sqrt\n",
    "cimport cython\n",
    "from cython.parallel import prange\n",
    "\n",
    "@cython.boundscheck(False)  # Doesn't check array bounds\n",
    "@cython.wraparound(False)\n",
    "@cython.cdivision(True)  # Doesn't spend time checking for zero divisors\n",
    "def runSimMP(int numShots, Py_ssize_t numSims, double sigma = 1.0, double confidenceInterval = 0.9):\n",
    "    cdef double[:] sigmaEstimate = np.zeros(numSims, np.double)\n",
    "    cdef double[:] sigmaUpperConfidence = np.zeros(numSims, np.double)\n",
    "\n",
    "    cdef double[:,:,:] shots = np.random.normal(scale=sigma, size=(numSims, numShots, 2)).astype(np.double)\n",
    "\n",
    "    cdef int degrees = 2*(numShots-1)  # Degrees of freedom (for estimators)\n",
    "    cdef double d = degrees+1\n",
    "    cdef double cG = 1/math.exp(math.log(math.sqrt(2/(d-1))) + math.lgamma(d/2) - math.lgamma((d-1)/2))\n",
    "    cdef double chiNorm = 1/chi2.ppf((1-confidenceInterval)/2, degrees)\n",
    "\n",
    "    cdef double [:, :] centeredShots    # Shots shifted so that their centroid coordinates = (0,0)\n",
    "    cdef double [:] radii = np.zeros(numShots, np.double)  # Radius (distance) of each shot from centroid\n",
    "    cdef double sumR2                   # Sum of radii squared\n",
    "    cdef double xbar, ybar\n",
    "    cdef Py_ssize_t s, i\n",
    "    for s in prange(numSims, nogil=True):#, schedule='static'):#, num_threads=4):\n",
    "        #sampleCenter = np.mean(shots[s], axis=0)\n",
    "        xbar = ybar = 0\n",
    "        for i in range(numShots):\n",
    "            xbar = xbar+ shots[s, i, 0]\n",
    "            ybar = ybar+ shots[s, i, 1]\n",
    "        xbar = xbar/numShots\n",
    "        ybar = ybar/numShots\n",
    "        sumR2 = 0\n",
    "        for i in range(numShots):\n",
    "            sumR2 = sumR2+ (shots[s, i, 0] - xbar)**2 + (shots[s, i, 1] - ybar)**2\n",
    "        sigmaEstimate[s] = cG * sqrt(sumR2 / degrees)    # Unbiased Rayleigh parameter estimate\n",
    "        sigmaUpperConfidence[s] = sqrt(sumR2 * chiNorm)  # Upper bound of confidence interval on estimate\n",
    "        \n",
    "    return sigmaEstimate, sigmaUpperConfidence\n"
   ]
  },
  {
   "cell_type": "code",
   "execution_count": 7,
   "metadata": {},
   "outputs": [
    {
     "name": "stdout",
     "output_type": "stream",
     "text": [
      " *** Based on 10,000,000 simulated 5-shot groups: ***\n",
      "Mean estimated sigma = 1.0001 vs true sigma = 1.0   <-- Mean estimate should converge to true as #simulations increases\n",
      "True sigma was above the upper 5% Confidence Interval on estimated sigma 5.0% of the time.\t<-- Should match\n"
     ]
    }
   ],
   "source": [
    "groupSize = 5           # Number of shots per group\n",
    "simulations = 10_000_000    # Number of groups to simulate\n",
    "simulationSigma = 1.0   # Sigma to use when generating random shots\n",
    "simConfidence = 0.9\n",
    "\n",
    "sigmaEstimate, sigmaUpperConfidence = runSimMP(groupSize, simulations,\n",
    "                                              sigma=simulationSigma, confidenceInterval=simConfidence)\n",
    "\n",
    "print(f\" *** Based on {simulations:,} simulated {groupSize}-shot groups: ***\"\n",
    "    f\"\\nMean estimated sigma = {np.mean(sigmaEstimate):.4f} vs true sigma = {simulationSigma}   <-- Mean estimate should converge to true as #simulations increases\"\n",
    "    f\"\\nTrue sigma was above the upper {(1-simConfidence)/2:.0%} Confidence Interval on estimated sigma \"\n",
    "    f\"{sum(1 for s in sigmaUpperConfidence if s < simulationSigma)/simulations:.1%} of the time.\\t<-- Should match\")"
   ]
  }
 ],
 "metadata": {
  "kernelspec": {
   "display_name": "Python 3",
   "language": "python",
   "name": "python3"
  },
  "language_info": {
   "codemirror_mode": {
    "name": "ipython",
    "version": 3
   },
   "file_extension": ".py",
   "mimetype": "text/x-python",
   "name": "python",
   "nbconvert_exporter": "python",
   "pygments_lexer": "ipython3",
   "version": "3.10.9"
  },
  "orig_nbformat": 4
 },
 "nbformat": 4,
 "nbformat_minor": 2
}
