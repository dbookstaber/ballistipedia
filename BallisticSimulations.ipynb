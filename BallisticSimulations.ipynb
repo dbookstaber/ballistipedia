{
 "cells": [
  {
   "attachments": {},
   "cell_type": "markdown",
   "metadata": {},
   "source": [
    "## [Ballistic precision](http://ballistipedia.com/index.php?title=Closed_Form_Precision) from sample targets.\n",
    "\n",
    "We define a class `Group` that holds data on a group of shots on a target.  The shot data can be provided as a collection of (x, y) coordinates of each shot as recorded on a real target.  Or the class can generate a group by simulating random shots from a gun with a specified precision (using parameter `sigma`).\n",
    "\n",
    "Using the shot data, `Group` calculates statistics and estimates of precision:\n",
    "* Sigma, the Rayleigh distribution parameter (which also corresponds to the bivariate normal distribution with standard deviation = sigma)\n",
    "* The confidence interval on the estimate of sigma\n",
    "* Extreme Spread\n",
    "* If the group was simulated, then we can also calculate the distance from the sample center to the true (known) center\n",
    "\n",
    "A `plotGroup` class provides a more detailed plot of a Group than the `.plot()` method provided in the `Group` class.\n",
    "\n",
    "We define a `OrderStatistics` subclass of `Group` that uses Order Statistics to estimate sigma.  This is a less efficient estimator, but can be easier to calculate because it doesn't require measuring the coordinates of every shot in the group.  However we have only derived Order Statistic estimators for groups of size 3, 5, or 10 shots.\n",
    "\n",
    "We can then use \"Monte Carlo\" simulation to validate the statistical estimators.  Here's how that technique works: we generate large numbers of random groups using a particular parameter value, and then look at the calculated statistics to verify that they match that parameter's value.  For example, we could ask: *Is our estimator of sigma correct?*  Let's check by simulating a million groups, where each shot in each group is generated from a random variable with sigma = 1.  Calculate our sigma estimate on each group, and then look at the average of those estimates.  If our estimator is correct then its average over a large number of samples should match the parameter used to construct the samples.  So, in this example, if the average estimate of sigma is 1 then we can be confident that our estimator is correct."
   ]
  },
  {
   "cell_type": "code",
   "execution_count": 1,
   "metadata": {},
   "outputs": [],
   "source": [
    "import math\n",
    "import numpy as np\n",
    "import matplotlib.pyplot as plt\n",
    "from scipy.stats.distributions import chi2"
   ]
  },
  {
   "cell_type": "code",
   "execution_count": 5,
   "metadata": {},
   "outputs": [],
   "source": [
    "class Group:\n",
    "    \"\"\"\n",
    "    Data on a group of shots.\n",
    "    Computes statistical estimates of precision based on the shot data.\n",
    "    \"\"\"\n",
    "    n: int                              # Number of shots in group\n",
    "    sigma: float                        # Standard deviation to use if simulating shots with random variables\n",
    "    degrees: int                        # Degrees of freedom (for estimators)\n",
    "    shots: list[list[float]]            # Coordinates of shots [[x, y], [x, y], ...]\n",
    "    sampleCenter: [float, float]        # Coordinates of centroid of group\n",
    "    centeredShots: list[list[float]]    # Shots shifted so that their centroid coordinates = (0,0)\n",
    "    radii: list[float]                  # Radius (distance) of each shot from centroid\n",
    "    sumR2: float                        # Sum of radii squared\n",
    "    sigmaEstimate: float                # Unbiased Rayleigh parameter estimate\n",
    "    confidenceInterval: float           # Confidence region to calculate; default is 90%\n",
    "    sigmaUpperConfidence: float         # Upper bound of confidenceInterval on sigmaEstimate\n",
    "    varianceX: float                    # Sample estimate of variance along x axis\n",
    "    varianceY: float                    # Sample estimate of variance along y axis\n",
    "    stdevX: float                       # Unbiased estimate of x-axis stdev = sqrt(varianceX)*cG(n)\n",
    "    stdevY: float                       # Unbiased estimate of y-axis stdev = sqrt(varianceY)*cG(n)\n",
    "\n",
    "    def __init__(self, n: int, shots: list[list[float]]=[], sigma: float=1.0, confidenceInterval: float=0.9):\n",
    "        \"\"\"\n",
    "        If no shot data provided then all simulation samples will be drawn from X,Y ~ N(0,sigma)\n",
    "        in which case we know the true parameter we're estimating is sigma (with center at the origin)       \n",
    "\n",
    "        :param n: Number of shots\n",
    "        :param shots: List of (x,y) coordinates of each shot impact on target.\n",
    "        :param sigma: standard deviation to use if simulating shots.\n",
    "        :param confidenceInterval: Confidence region to calculate. Allowed range is (0,1). Default is 90%.\n",
    "        \"\"\"\n",
    "        self.sigma = sigma\n",
    "        if len(shots) > 0:\n",
    "            self.shots = shots\n",
    "            self.n = len(shots)\n",
    "        else:  # If we didn't receive a group of shots then create random shots from bivariate normal distribution\n",
    "            self.shots = [np.random.normal(scale=sigma, size=2) for i in range(0,n)]\n",
    "            self.n = n\n",
    "\n",
    "        #region Univariate measures\n",
    "        a = np.array(self.shots)\n",
    "        self.varianceX = np.var(a[:,0], ddof=1)\n",
    "        self.varianceY = np.var(a[:,1], ddof=1)\n",
    "        cG = Group.cGauss(self.n)\n",
    "        self.stdevX = math.sqrt(self.varianceX) * cG\n",
    "        self.stdevY = math.sqrt(self.varianceY) * cG\n",
    "        #endregion\n",
    "\n",
    "        g = 1  # Number of groups\n",
    "        self.degrees = 2*(self.n-g)  # Degrees of freedom (for estimators)\n",
    "        self.sampleCenter = np.mean(self.shots, axis=0)\n",
    "        self.centeredShots = np.add(self.shots, -self.sampleCenter) # Shots adjusted so their centroid = (0,0)\n",
    "        self.radii = np.linalg.norm(self.centeredShots, axis=-1)    # List of radii from sample center\n",
    "        self.sumR2 = np.dot(self.radii, self.radii)\n",
    "        self.sigmaEstimate = Group.cGauss(self.degrees+1) * math.sqrt(self.sumR2 / self.degrees)  # Unbiased Rayleigh parameter estimate\n",
    "        self.confidenceInterval = confidenceInterval\n",
    "        self.sigmaUpperConfidence = math.sqrt(self.sumR2 / chi2.ppf((1-confidenceInterval)/2, self.degrees))  # Upper bound of confidence interval on estimate\n",
    "\n",
    "        # Distance from sample center to origin (0,0)\n",
    "        # CAVEAT: The origin is only known to be the *true center* if the shots were generated from Normal variables with mean = 0\n",
    "        self.d2c = math.sqrt(np.dot(self.sampleCenter, self.sampleCenter))\n",
    "        # Median expected distance from sample center to true center = cR * sqrt(2*math.log(2)) * sigmaEstimate / sqrt(n)\n",
    "        self.d2cMedian = Group.cRayleigh(self.degrees+1) * 1.177410022515474 * self.sigmaEstimate / math.sqrt(self.n)\n",
    "\n",
    "    cGmem = {}  # Memoized Gaussian correction factor\n",
    "    def cGauss(d: int) -> float:\n",
    "        \"\"\"Gaussian correction factor with d degrees of freedom\"\"\"\n",
    "        if d not in Group.cGmem:\n",
    "            Group.cGmem[d] = 1/math.exp(math.log(math.sqrt(2/(d-1))) + math.lgamma(d/2) - math.lgamma((d-1)/2))\n",
    "        return Group.cGmem[d]\n",
    "    \n",
    "    cRmem = {}  # Memoized Rayleigh correction factor\n",
    "    def cRayleigh(d: int) -> float:\n",
    "        \"\"\"Rayleigh correction factor with d degrees of freedom\"\"\"\n",
    "        if d not in Group.cRmem:\n",
    "            Group.cRmem[d] = math.exp(math.log(math.sqrt(d/math.pi)) + d * math.log(4) + math.lgamma(d+1) + math.lgamma(d) - math.lgamma(2*d+1))\n",
    "        return Group.cRmem[d]\n",
    "\n",
    "    def plot(self):\n",
    "        \"\"\"Display plot of shots.  Can call .savefig() on return value to output to file.\"\"\"\n",
    "        range = 1.1 * np.max(np.abs(self.shots))  # Make plot range large enough to show all shots\n",
    "        plt.scatter(*zip(*self.shots))\n",
    "        plt.xlim(-range, range)\n",
    "        plt.ylim(-range, range)\n",
    "        plt.gca().set_aspect('equal')\n",
    "        plt.show()\n",
    "\n",
    "    #region Group Measures\n",
    "    # Compute Extreme Spread of Group – max Euclidean distance between any two points\n",
    "    # This is a brute-force algorithm. (Fastest algorithm: Find convex hull, then use Shamos's Rotating Calipers algorithm.)\n",
    "    def extremeSpread(self) -> float:\n",
    "        maxSpread = 0\n",
    "        for i in range(0, self.n):\n",
    "            for j in range(i+1, self.n):\n",
    "                spread = sum(np.square(self.shots[i] - self.shots[j]))  # Sum squared distance\n",
    "                if spread > maxSpread:\n",
    "                    maxSpread = spread\n",
    "        return math.sqrt(maxSpread)\n",
    "    #endregion\n"
   ]
  },
  {
   "cell_type": "code",
   "execution_count": 8,
   "metadata": {},
   "outputs": [
    {
     "data": {
      "text/plain": [
       "array([-0.0107108 ,  0.47430327])"
      ]
     },
     "execution_count": 8,
     "metadata": {},
     "output_type": "execute_result"
    }
   ],
   "source": [
    "g = Group(10)\n",
    "np.mean(g.shots, axis=0)"
   ]
  },
  {
   "cell_type": "markdown",
   "metadata": {},
   "source": [
    "### Generate and plot random group"
   ]
  },
  {
   "cell_type": "code",
   "execution_count": 17,
   "metadata": {},
   "outputs": [
    {
     "data": {
      "image/png": "[encoded data removed]",
      "text/plain": [
       "<Figure size 640x480 with 1 Axes>"
      ]
     },
     "metadata": {},
     "output_type": "display_data"
    }
   ],
   "source": [
    "g = Group(10)\n",
    "plt.title(f\"{g.n} shots:  \\u03C3\\u0302 = {g.sigmaEstimate:.2f}   Extreme Spread = {g.extremeSpread():.2f}\")\n",
    "g.plot()"
   ]
  },
  {
   "cell_type": "markdown",
   "metadata": {},
   "source": [
    "### Fancy Plot"
   ]
  },
  {
   "cell_type": "code",
   "execution_count": 18,
   "metadata": {},
   "outputs": [],
   "source": [
    "import matplotlib.ticker as plticker\n",
    "\n",
    "class plotGroup():\n",
    "    def __init__(self, g: Group, CEP: float=0.5, figSize: float=1, fixedWidth: float=0):\n",
    "        shots = g.shots\n",
    "        center = g.sampleCenter\n",
    "\n",
    "        self.fig = plt.figure(figsize=[figSize, figSize])\n",
    "\n",
    "        # CEP(F) = sigma sqrt(-2 ln(1-F))\n",
    "        CEPradius = math.sqrt(-2.0 * math.log(1.0-CEP)) * g.sigmaEstimate\n",
    "\n",
    "        if fixedWidth > 0:\n",
    "            width = fixedWidth\n",
    "        else:\n",
    "            outside = max(abs(center[0]), abs(center[1])) + CEPradius  # Range needed to fit full CEP circle on plot\n",
    "            width = 1.1*max(np.max(np.abs(shots)), math.ceil(outside))  # Fit all shots as well as CEP circle\n",
    "        ax = plt.axes([-width, -width, 2*width, 2*width], xlim=(-width, width), ylim=(-width, width))\n",
    "        for s in ax.spines.values():\n",
    "            s.set_color([0,0,0,.5])\n",
    "        ax.axhline(0, color='k', lw=0.75, zorder=1)\n",
    "        ax.axvline(0, color='k', lw=0.75, zorder=1)\n",
    "        # Set grid frequency to integers\n",
    "        gridFreq = plticker.MultipleLocator(base=1.0)\n",
    "        ax.xaxis.set_major_locator(gridFreq)\n",
    "        ax.yaxis.set_major_locator(gridFreq)\n",
    "        ax.set_axisbelow(True)  # Grid lines behind other elements        \n",
    "        ax.tick_params(labelbottom=False, labelleft=False, length=0)  # Don't show tick labels\n",
    "        plt.grid()\n",
    "\n",
    "        # Size for bullet holes\n",
    "        points_whole_ax = figSize * 72 * width    # 1 point = dpi / 72 pixels\n",
    "        bulletRadius = 0.04\n",
    "        points_radius = 2 * bulletRadius * points_whole_ax\n",
    "        # Plot Shots:\n",
    "        ax.scatter(*zip(*shots), s=points_radius**2, color=[1,0,0,1], zorder=2)\n",
    "        # Mark center of group:\n",
    "        ax.scatter(*center, s=points_radius**2, color='b', marker='+', zorder=3)\n",
    "        # Plot CEP:\n",
    "        ax.add_patch(plt.Circle(center, CEPradius, facecolor=[0,0,0,0], edgecolor=[0,0,0,1], zorder=1))\n",
    "\n",
    "        plt.figtext(0, -width, f\"\\nCircle shows estimated CEP({CEP:.0%}) around sample center\",\n",
    "                    ha='center', va='top')\n",
    "\n",
    "        self.ax = ax"
   ]
  },
  {
   "cell_type": "code",
   "execution_count": 19,
   "metadata": {},
   "outputs": [
    {
     "data": {
      "image/png": "[encoded data removed]",
      "text/plain": [
       "<Figure size 100x100 with 1 Axes>"
      ]
     },
     "metadata": {},
     "output_type": "display_data"
    }
   ],
   "source": [
    "p = plotGroup(g)"
   ]
  },
  {
   "attachments": {},
   "cell_type": "markdown",
   "metadata": {},
   "source": [
    "# Simulations to Validate Statistics"
   ]
  },
  {
   "cell_type": "code",
   "execution_count": 21,
   "metadata": {},
   "outputs": [
    {
     "name": "stdout",
     "output_type": "stream",
     "text": [
      " *** Based on 100,000 simulated 5-shot groups: ***\n",
      "Mean estimated sigma = 0.9994 vs true sigma = 1.0   <-- Mean estimate should converge to true as #simulations increases\n",
      "True sigma was above the upper 5% Confidence Interval on estimated sigma 5.0% of the time.\t<-- Should match\n",
      "Sample center distance from true center exceeded estimated median distance 49.9% of the time.\t<-- Should be 50%\n"
     ]
    }
   ],
   "source": [
    "# We can do this with the Python Group class defined above, but it's slow:\n",
    "groupSize = 5           # Number of shots per group\n",
    "simulations = 100_000    # Number of groups to simulate\n",
    "simulationSigma = 1.0   # Sigma to use when generating random shots\n",
    "\n",
    "sim = [Group(groupSize, sigma=simulationSigma) for i in range(0, simulations)]  # Run simulations\n",
    "print(f\" *** Based on {simulations:,} simulated {groupSize}-shot groups: ***\"\n",
    "    f\"\\nMean estimated sigma = {np.mean([s.sigmaEstimate for s in sim]):.4f} vs true sigma = {simulationSigma}   <-- Mean estimate should converge to true as #simulations increases\"\n",
    "    f\"\\nTrue sigma was above the upper {(1-sim[0].confidenceInterval)/2:.0%} Confidence Interval on estimated sigma \"\n",
    "    f\"{sum(1 for s in sim if s.sigmaUpperConfidence < simulationSigma)/len(sim):.1%} of the time.\\t<-- Should match\"\n",
    "    f\"\\nSample center distance from true center exceeded estimated median distance {sum(1 for s in sim if s.d2c > s.d2cMedian)/len(sim):.1%} of the time.\\t<-- Should be 50%\")"
   ]
  },
  {
   "cell_type": "markdown",
   "metadata": {},
   "source": [
    "## Fast Simulations (Cython)"
   ]
  },
  {
   "cell_type": "code",
   "execution_count": 24,
   "metadata": {},
   "outputs": [],
   "source": [
    "%load_ext cython"
   ]
  },
  {
   "cell_type": "code",
   "execution_count": 30,
   "metadata": {},
   "outputs": [
    {
     "name": "stdout",
     "output_type": "stream",
     "text": [
      "Content of stdout:\n",
      "_cython_magic_f7fe038c6e3ec3797e41dfb145a026ac4a387f92.c\n",
      "C:\\Users\\David\\.ipython\\cython\\_cython_magic_f7fe038c6e3ec3797e41dfb145a026ac4a387f92.c(1470): warning C4005: '__pyx_nonatomic_int_type': macro redefinition\n",
      "C:\\Users\\David\\.ipython\\cython\\_cython_magic_f7fe038c6e3ec3797e41dfb145a026ac4a387f92.c(1421): note: see previous definition of '__pyx_nonatomic_int_type'\n",
      "   Creating library C:\\Users\\David\\.ipython\\cython\\Users\\David\\.ipython\\cython\\_cython_magic_f7fe038c6e3ec3797e41dfb145a026ac4a387f92.cp310-win_amd64.lib and object C:\\Users\\David\\.ipython\\cython\\Users\\David\\.ipython\\cython\\_cython_magic_f7fe038c6e3ec3797e41dfb145a026ac4a387f92.cp310-win_amd64.exp\n",
      "Generating code\n",
      "Finished generating code"
     ]
    }
   ],
   "source": [
    "%%cython\n",
    "import numpy as np\n",
    "import math\n",
    "from scipy.stats.distributions import chi2\n",
    "from libc.math cimport sqrt\n",
    "cimport cython\n",
    "\n",
    "@cython.boundscheck(False)  # Doesn't check array bounds\n",
    "@cython.wraparound(False)  # Doesn't allow negative indexing\n",
    "@cython.cdivision(True)  # Doesn't spend time checking for zero divisors\n",
    "def runSim(int numShots, Py_ssize_t numSims, double sigma = 1.0, double confidenceInterval = 0.9):\n",
    "    cdef double[:] sigmaEstimate = np.zeros(numSims, np.double)\n",
    "    cdef double[:] sigmaUpperConfidence = np.zeros(numSims, np.double)\n",
    "\n",
    "    # Index: [Simulation#, Shot#, Axis]\n",
    "    cdef double[:,:,:] shots = np.random.normal(scale=sigma, size=(numSims, numShots, 2)).astype(np.double)\n",
    "\n",
    "    cdef int degrees = 2*(numShots-1)  # Degrees of freedom (for estimators)\n",
    "    cdef double d = degrees+1\n",
    "    cdef double cG = 1/math.exp(math.log(math.sqrt(2/(d-1))) + math.lgamma(d/2) - math.lgamma((d-1)/2))\n",
    "    cdef double chiNorm = 1/chi2.ppf((1-confidenceInterval)/2, degrees)\n",
    "\n",
    "    cdef double sumR2                   # Sum of radii squared\n",
    "    cdef double xbar, ybar\n",
    "    cdef Py_ssize_t i, s\n",
    "    for s in range(numSims):\n",
    "        # Compute sampleCenter = [xbar, ybar]\n",
    "        xbar = ybar = 0\n",
    "        for i in range(numShots):\n",
    "            xbar += shots[s, i, 0]\n",
    "            ybar += shots[s, i, 1]\n",
    "        xbar /= numShots\n",
    "        ybar /= numShots\n",
    "        sumR2 = 0\n",
    "        for i in range(numShots):\n",
    "            sumR2 += (shots[s, i, 0] - xbar)**2 + (shots[s, i, 1] - ybar)**2\n",
    "        sigmaEstimate[s] = cG * sqrt(sumR2 / degrees)    # Unbiased Rayleigh parameter estimate\n",
    "        sigmaUpperConfidence[s] = sqrt(sumR2 * chiNorm)  # Upper bound of confidence interval on estimate\n",
    "        \n",
    "    return sigmaEstimate, sigmaUpperConfidence\n"
   ]
  },
  {
   "cell_type": "code",
   "execution_count": 31,
   "metadata": {},
   "outputs": [
    {
     "name": "stdout",
     "output_type": "stream",
     "text": [
      " *** Based on 10,000,000 simulated 5-shot groups: ***\n",
      "Mean estimated sigma = 1.0001 vs true sigma = 1.0   <-- Mean estimate should converge to true as #simulations increases\n",
      "True sigma was above the upper 5% Confidence Interval on estimated sigma 5.0% of the time.\t<-- Should match\n"
     ]
    }
   ],
   "source": [
    "groupSize = 5           # Number of shots per group\n",
    "simulations = 10_000_000    # Number of groups to simulate\n",
    "simulationSigma = 1.0   # Sigma to use when generating random shots\n",
    "simConfidence = 0.9\n",
    "\n",
    "sigmaEstimate, sigmaUpperConfidence = runSim(groupSize, simulations,\n",
    "                                              sigma=simulationSigma, confidenceInterval=simConfidence)\n",
    "\n",
    "print(f\" *** Based on {simulations:,} simulated {groupSize}-shot groups: ***\"\n",
    "    f\"\\nMean estimated sigma = {np.mean(sigmaEstimate):.4f} vs true sigma = {simulationSigma}   <-- Mean estimate should converge to true as #simulations increases\"\n",
    "    f\"\\nTrue sigma was above the upper {(1-simConfidence)/2:.0%} Confidence Interval on estimated sigma \"\n",
    "    f\"{sum(1 for s in sigmaUpperConfidence if s < simulationSigma)/simulations:.1%} of the time.\\t<-- Should match\")"
   ]
  },
  {
   "cell_type": "markdown",
   "metadata": {},
   "source": [
    "## Faster Multi-threaded Cython"
   ]
  },
  {
   "cell_type": "code",
   "execution_count": null,
   "metadata": {},
   "outputs": [],
   "source": [
    "%%cython\n",
    "# distutils: extra_compile_args=/openmp\n",
    "import numpy as np\n",
    "import math\n",
    "from scipy.stats.distributions import chi2\n",
    "from libc.math cimport sqrt\n",
    "cimport cython\n",
    "from cython.parallel import prange\n",
    "\n",
    "@cython.boundscheck(False)  # Doesn't check array bounds\n",
    "@cython.wraparound(False)\n",
    "@cython.cdivision(True)  # Doesn't spend time checking for zero divisors\n",
    "def runSimMP(int numShots, Py_ssize_t numSims, double sigma = 1.0, double confidenceInterval = 0.9):\n",
    "    cdef double[:] sigmaEstimate = np.zeros(numSims, np.double)\n",
    "    cdef double[:] sigmaUpperConfidence = np.zeros(numSims, np.double)\n",
    "\n",
    "    cdef double[:,:,:] shots = np.random.normal(scale=sigma, size=(numSims, numShots, 2)).astype(np.double)\n",
    "\n",
    "    cdef int degrees = 2*(numShots-1)  # Degrees of freedom (for estimators)\n",
    "    cdef double d = degrees+1\n",
    "    cdef double cG = 1/math.exp(math.log(math.sqrt(2/(d-1))) + math.lgamma(d/2) - math.lgamma((d-1)/2))\n",
    "    cdef double chiNorm = 1/chi2.ppf((1-confidenceInterval)/2, degrees)\n",
    "\n",
    "    cdef double [:, :] centeredShots    # Shots shifted so that their centroid coordinates = (0,0)\n",
    "    cdef double [:] radii = np.zeros(numShots, np.double)  # Radius (distance) of each shot from centroid\n",
    "    cdef double sumR2                   # Sum of radii squared\n",
    "    cdef double xbar, ybar\n",
    "    cdef Py_ssize_t s, i\n",
    "    for s in prange(numSims, nogil=True):#, schedule='static'):#, num_threads=4):\n",
    "        # Compute sampleCenter = [xbar, ybar]\n",
    "        xbar = ybar = 0\n",
    "        for i in range(numShots):\n",
    "            xbar = xbar+ shots[s, i, 0]\n",
    "            ybar = ybar+ shots[s, i, 1]\n",
    "        xbar = xbar/numShots\n",
    "        ybar = ybar/numShots\n",
    "        sumR2 = 0\n",
    "        for i in range(numShots):\n",
    "            sumR2 = sumR2+ (shots[s, i, 0] - xbar)**2 + (shots[s, i, 1] - ybar)**2\n",
    "        sigmaEstimate[s] = cG * sqrt(sumR2 / degrees)    # Unbiased Rayleigh parameter estimate\n",
    "        sigmaUpperConfidence[s] = sqrt(sumR2 * chiNorm)  # Upper bound of confidence interval on estimate\n",
    "        \n",
    "    return sigmaEstimate, sigmaUpperConfidence\n"
   ]
  },
  {
   "cell_type": "code",
   "execution_count": null,
   "metadata": {},
   "outputs": [
    {
     "name": "stdout",
     "output_type": "stream",
     "text": [
      " *** Based on 10,000,000 simulated 5-shot groups: ***\n",
      "Mean estimated sigma = 1.0001 vs true sigma = 1.0   <-- Mean estimate should converge to true as #simulations increases\n",
      "True sigma was above the upper 5% Confidence Interval on estimated sigma 5.0% of the time.\t<-- Should match\n"
     ]
    }
   ],
   "source": [
    "groupSize = 5           # Number of shots per group\n",
    "simulations = 10_000_000    # Number of groups to simulate\n",
    "simulationSigma = 1.0   # Sigma to use when generating random shots\n",
    "simConfidence = 0.9\n",
    "\n",
    "sigmaEstimate, sigmaUpperConfidence = runSimMP(groupSize, simulations,\n",
    "                                              sigma=simulationSigma, confidenceInterval=simConfidence)\n",
    "\n",
    "print(f\" *** Based on {simulations:,} simulated {groupSize}-shot groups: ***\"\n",
    "    f\"\\nMean estimated sigma = {np.mean(sigmaEstimate):.4f} vs true sigma = {simulationSigma}   <-- Mean estimate should converge to true as #simulations increases\"\n",
    "    f\"\\nTrue sigma was above the upper {(1-simConfidence)/2:.0%} Confidence Interval on estimated sigma \"\n",
    "    f\"{sum(1 for s in sigmaUpperConfidence if s < simulationSigma)/simulations:.1%} of the time.\\t<-- Should match\")"
   ]
  },
  {
   "cell_type": "markdown",
   "metadata": {},
   "source": [
    "# Simulations to Validate CEP\n",
    "\n",
    "Given sigma ($\\sigma$), CEP(p) = $\\sigma \\sqrt{-2 \\ln(1-p)}$ is the radius of circle that should cover proportion *p* of shots (when centered at the true center of the distribution)."
   ]
  },
  {
   "cell_type": "code",
   "execution_count": 23,
   "metadata": {},
   "outputs": [
    {
     "name": "stdout",
     "output_type": "stream",
     "text": [
      "CEP(30%) formula for sigma 2.0 gives covering circle radius 1.689.\n",
      "Simulation confirms that circle covers 30.0% of 100,000 sample shots.\n"
     ]
    }
   ],
   "source": [
    "# Simulation, known sigma and known center, to check circular CEP(p) formula\n",
    "numShots = 100_000\n",
    "sigma = 2.0 # Sigma to use to generate random shots\n",
    "p = 0.3     # Proportion of shots to cover with circle\n",
    "CEPradius = sigma * math.sqrt(-2 * math.log(1-p))\n",
    "shots = [np.random.normal(scale=sigma, size=2) for i in range(0, numShots)]\n",
    "print(f'CEP({p:.0%}) formula for sigma {sigma} gives covering circle radius {CEPradius:.3f}.\\n'\n",
    "      f'Simulation confirms that circle covers {sum(1 for s in shots if (s[0]**2/(CEPradius**2) + s[1]**2/(CEPradius**2) < 1)) / numShots:.1%} of {numShots:,} sample shots.')"
   ]
  },
  {
   "cell_type": "markdown",
   "metadata": {},
   "source": [
    "## Elliptical Groups\n",
    "\n",
    "This formula also works for elliptical shot groups (i.e., $\\sigma_X \\neq \\sigma_Y$) if we calculate the ellipse radii (*a, b*) as:\n",
    "* $a = \\sigma_X \\sqrt{-2 \\ln(1-p)}$\n",
    "* $b = \\sigma_Y \\sqrt{-2 \\ln(1-p)}$"
   ]
  },
  {
   "cell_type": "code",
   "execution_count": 2,
   "metadata": {},
   "outputs": [
    {
     "name": "stdout",
     "output_type": "stream",
     "text": [
      "CEP(70%) for elliptical sigma (10.0, 1.0) gives covering ellipse radii (15.518, 1.552).\n",
      "Simulation confirms that ellipse covers 70.0% of 100,000 sample shots.\n"
     ]
    }
   ],
   "source": [
    "# Simulation to check elliptical CEP(p) formula, known sigmas and known center\n",
    "numShots = 100_000\n",
    "sigmaX = 10.0\n",
    "sigmaY = 1.0\n",
    "p = 0.7     # Proportion of shots to cover with circle\n",
    "CEPradiusX = sigmaX * math.sqrt(-2 * math.log(1-p))\n",
    "CEPradiusY = sigmaY * math.sqrt(-2 * math.log(1-p))\n",
    "shotsX = [np.random.normal(scale=sigmaX) for i in range(0, numShots)]\n",
    "shotsY = [np.random.normal(scale=sigmaY) for i in range(0, numShots)]\n",
    "print(f'CEP({p:.0%}) for elliptical sigma ({sigmaX}, {sigmaY}) gives covering ellipse radii ({CEPradiusX:.3f}, {CEPradiusY:.3f}).\\n'\n",
    "      f'Simulation confirms that ellipse covers {sum(1 for s in range(numShots) if (shotsX[s]**2/(CEPradiusX**2) + shotsY[s]**2/(CEPradiusY**2) < 1)) / numShots:.1%} of {numShots:,} sample shots.')"
   ]
  },
  {
   "cell_type": "markdown",
   "metadata": {},
   "source": [
    "## Covering Circle for Elliptical Groups\n",
    "\n",
    "If we want to find a circle to cover an elliptical group, we might start by looking at a circle with radius based on the mean variance:\n",
    "$$r^2 = \\frac{\\sigma_X^2+\\sigma_Y^2}{2}$$\n",
    "\n",
    "It turns out that this overestimates the size of the covering circle for p < 80%, and underestimates it for p > 80%, with the error increasing both (1) with the eccentricity of the ellipse, and (2) with the distance of the probability from 80%.  (Why 80%?  I haven't worked out the math, but I suspect that inflection point is actually $\\sqrt{2/\\pi}$, which is the mean of the half normal distribution.)"
   ]
  },
  {
   "cell_type": "code",
   "execution_count": 39,
   "metadata": {},
   "outputs": [
    {
     "name": "stdout",
     "output_type": "stream",
     "text": [
      "CEP(30%) for root mean variance 7.106 suggests covering circle radius 6.002.\n",
      "Simulation shows that circle covers 44.6% of 100,000 sample shots.\n"
     ]
    }
   ],
   "source": [
    "# Can we circularize the covering ellipse using the mean of varianceX and varianceY?\n",
    "p = 0.3     # Proportion of shots to cover with circle\n",
    "sigmaMean = math.sqrt((sigmaX**2 + sigmaY**2)/2.0)  # Root mean variance\n",
    "CEPradius = sigmaMean * math.sqrt(-2 * math.log(1-p))\n",
    "print(f'CEP({p:.0%}) for root mean variance {sigmaMean:.3f} suggests covering circle radius {CEPradius:.3f}.\\n'\n",
    "      f'Simulation shows that circle covers {sum(1 for s in range(numShots) if (shotsX[s]**2/(CEPradius**2) + shotsY[s]**2/(CEPradius**2) < 1)) / numShots:.1%} of {numShots:,} sample shots.')"
   ]
  },
  {
   "cell_type": "markdown",
   "metadata": {},
   "source": [
    "To get the covering circle radius exactly, we have to model the random variable $S = R^2 = X^2 + Y^2$.  In this case, $X^2 \\sim \\mathrm{Gamma}(1/2,\\frac{1}{2\\sigma^2_X})$, similarly for $Y^2$, and it turns out that to get the cumulative distribution we have to resort to numerical integration.  The derivation of this is esoteric, but here is the code:"
   ]
  },
  {
   "cell_type": "code",
   "execution_count": 4,
   "metadata": {},
   "outputs": [
    {
     "name": "stdout",
     "output_type": "stream",
     "text": [
      "95% covering circle for sigmas (10.0, 1.0) has radius 20.163.\n",
      "Simulation confirms that circle covers 95.5% of 100,000 sample shots.\n"
     ]
    }
   ],
   "source": [
    "from scipy.special import hyp1f1\n",
    "\n",
    "def radius_squared_pdf(sigmaX, sigmaY, S):\n",
    "    \"\"\"PDF for sum of squared normal variables\"\"\"\n",
    "    a = 1/(2*(sigmaX**2))\n",
    "    b = 1/(2*(sigmaY**2))\n",
    "    hyp1f1Res = hyp1f1(0.5, 1, (a-b)*S)  # Confluent hypergeometric function\n",
    "    pdf = (a**(0.5)) * (b**(0.5)) * np.exp(-S*a) * hyp1f1Res\n",
    "    return pdf\n",
    "\n",
    "def elliptical_covering_radius(sigmaX, sigmaY, p):\n",
    "    \"\"\"Use numerical integration of PDF to find radius of circle that should cover proportion p of samples.\"\"\"\n",
    "    Smax = 3 * max(sigmaX, sigmaY)  # We'll start looking out 3 sigmas\n",
    "    # The PDF here is monotonically decreasing, so we'll set Smax large enough to get density < 1e-6\n",
    "    while radius_squared_pdf(sigmaX, sigmaY, Smax) > 1e-6:\n",
    "        Smax = 3 * Smax\n",
    "    integration_steps = 10_000\n",
    "    dS = Smax / integration_steps\n",
    "    S = np.linspace(start=dS, stop=Smax, num=integration_steps) # squared radius to evaluate\n",
    "    pdf = radius_squared_pdf(sigmaX, sigmaY, S)     \n",
    "    cdf = np.cumsum(pdf*dS)  # Integrate PDF\n",
    "\n",
    "    idx = np.argmin(np.abs(cdf-p))\n",
    "    return np.sqrt(S[idx])\n",
    "p = 0.95\n",
    "CEPradius = elliptical_covering_radius(sigmaX, sigmaY, p)\n",
    "print(f'{p:.0%} covering circle for sigmas ({sigmaX}, {sigmaY}) has radius {CEPradius:.3f}.\\n'\n",
    "      f'Simulation confirms that circle covers {sum(1 for s in range(numShots) if (shotsX[s]**2/(CEPradius**2) + shotsY[s]**2/(CEPradius**2) < 1)) / numShots:.1%} of {numShots:,} sample shots.')"
   ]
  },
  {
   "cell_type": "code",
   "execution_count": 6,
   "metadata": {},
   "outputs": [
    {
     "data": {
      "image/png": "[encoded data removed]",
      "text/plain": [
       "<Figure size 640x480 with 1 Axes>"
      ]
     },
     "metadata": {},
     "output_type": "display_data"
    }
   ],
   "source": [
    "# Visualize PDF\n",
    "import matplotlib.pyplot as plt\n",
    "Smax = 100\n",
    "steps = 1_000\n",
    "dS = Smax / steps\n",
    "S = np.linspace(start=dS, stop=Smax, num=steps) # squared radius to evaluate\n",
    "pdf = radius_squared_pdf(sigmaX, sigmaY, S)\n",
    "plt.plot(S, pdf)\n",
    "plt.show()"
   ]
  },
  {
   "cell_type": "markdown",
   "metadata": {},
   "source": [
    "### Illustration"
   ]
  },
  {
   "cell_type": "code",
   "execution_count": 29,
   "metadata": {},
   "outputs": [
    {
     "data": {
      "image/png": "[encoded data removed]",
      "text/plain": [
       "<Figure size 640x480 with 1 Axes>"
      ]
     },
     "metadata": {},
     "output_type": "display_data"
    }
   ],
   "source": [
    "# Create an illustration\n",
    "from matplotlib.patches import Ellipse\n",
    "numShots = 1800\n",
    "sigmaX = 3.0\n",
    "sigmaY = 1.0\n",
    "p = 0.66     # Proportion of shots to cover with circle\n",
    "CEPradiusX = sigmaX * math.sqrt(-2 * math.log(1-p))\n",
    "CEPradiusY = sigmaY * math.sqrt(-2 * math.log(1-p))\n",
    "sigmaMean = math.sqrt((sigmaX**2 + sigmaY**2)/2.0)\n",
    "CEPradius = elliptical_covering_radius(sigmaX, sigmaY, p)\n",
    "shotsX = [np.random.normal(scale=sigmaX) for i in range(0, numShots)]\n",
    "shotsY = [np.random.normal(scale=sigmaY) for i in range(0, numShots)]\n",
    "\n",
    "ax = plt.gca()\n",
    "ax.set_aspect('equal')\n",
    "ax.scatter(shotsX, shotsY, s=0.4, color=[0,0,.5,.5])\n",
    "ax.add_patch(Ellipse([0,0], 2*CEPradiusX, 2*CEPradiusY, facecolor=[0,0,0,0], edgecolor=[0,0,0,1], lw=2))\n",
    "ax.add_patch(plt.Circle([0,0], CEPradius, facecolor=[0,0,0,0], edgecolor=[0.5,0,0,.8], zorder=3))\n",
    "plt.show()\n",
    "#plt.savefig('Ellipse', dpi=500, bbox_inches='tight')"
   ]
  },
  {
   "cell_type": "markdown",
   "metadata": {},
   "source": [
    "### Error from single sigma estimate\n",
    "\n",
    "If we have a truly asymmetric process (i.e., $\\sigma_x \\neq \\sigma_y$), but we estimate a single sigma using the Rayleigh estimator (which assumes that $\\sigma_x = \\sigma_y$), how far off will our CEP measures be?"
   ]
  },
  {
   "cell_type": "code",
   "execution_count": 7,
   "metadata": {},
   "outputs": [
    {
     "data": {
      "text/html": [
       "<div>\n",
       "<style scoped>\n",
       "    .dataframe tbody tr th:only-of-type {\n",
       "        vertical-align: middle;\n",
       "    }\n",
       "\n",
       "    .dataframe tbody tr th {\n",
       "        vertical-align: top;\n",
       "    }\n",
       "\n",
       "    .dataframe thead th {\n",
       "        text-align: right;\n",
       "    }\n",
       "</style>\n",
       "<table border=\"1\" class=\"dataframe\">\n",
       "  <thead>\n",
       "    <tr style=\"text-align: right;\">\n",
       "      <th></th>\n",
       "      <th>VarianceRatio</th>\n",
       "      <th>sigmaMean</th>\n",
       "      <th>p</th>\n",
       "      <th>correctRadius</th>\n",
       "      <th>correctCoverage</th>\n",
       "      <th>meanRadius</th>\n",
       "      <th>meanCoverage</th>\n",
       "    </tr>\n",
       "  </thead>\n",
       "  <tbody>\n",
       "    <tr>\n",
       "      <th>0</th>\n",
       "      <td>1</td>\n",
       "      <td>1.000000</td>\n",
       "      <td>0.2</td>\n",
       "      <td>0.667458</td>\n",
       "      <td>0.19820</td>\n",
       "      <td>0.668047</td>\n",
       "      <td>0.19860</td>\n",
       "    </tr>\n",
       "    <tr>\n",
       "      <th>1</th>\n",
       "      <td>1</td>\n",
       "      <td>1.000000</td>\n",
       "      <td>0.3</td>\n",
       "      <td>0.844275</td>\n",
       "      <td>0.29730</td>\n",
       "      <td>0.844600</td>\n",
       "      <td>0.29753</td>\n",
       "    </tr>\n",
       "    <tr>\n",
       "      <th>2</th>\n",
       "      <td>1</td>\n",
       "      <td>1.000000</td>\n",
       "      <td>0.4</td>\n",
       "      <td>1.011583</td>\n",
       "      <td>0.39790</td>\n",
       "      <td>1.010768</td>\n",
       "      <td>0.39737</td>\n",
       "    </tr>\n",
       "    <tr>\n",
       "      <th>3</th>\n",
       "      <td>1</td>\n",
       "      <td>1.000000</td>\n",
       "      <td>0.5</td>\n",
       "      <td>1.178049</td>\n",
       "      <td>0.49738</td>\n",
       "      <td>1.177410</td>\n",
       "      <td>0.49706</td>\n",
       "    </tr>\n",
       "    <tr>\n",
       "      <th>4</th>\n",
       "      <td>1</td>\n",
       "      <td>1.000000</td>\n",
       "      <td>0.6</td>\n",
       "      <td>1.353994</td>\n",
       "      <td>0.59632</td>\n",
       "      <td>1.353729</td>\n",
       "      <td>0.59616</td>\n",
       "    </tr>\n",
       "    <tr>\n",
       "      <th>5</th>\n",
       "      <td>1</td>\n",
       "      <td>1.000000</td>\n",
       "      <td>0.7</td>\n",
       "      <td>1.552772</td>\n",
       "      <td>0.69656</td>\n",
       "      <td>1.551756</td>\n",
       "      <td>0.69617</td>\n",
       "    </tr>\n",
       "    <tr>\n",
       "      <th>6</th>\n",
       "      <td>1</td>\n",
       "      <td>1.000000</td>\n",
       "      <td>0.8</td>\n",
       "      <td>1.795494</td>\n",
       "      <td>0.79808</td>\n",
       "      <td>1.794123</td>\n",
       "      <td>0.79759</td>\n",
       "    </tr>\n",
       "    <tr>\n",
       "      <th>7</th>\n",
       "      <td>1</td>\n",
       "      <td>1.000000</td>\n",
       "      <td>0.9</td>\n",
       "      <td>2.148721</td>\n",
       "      <td>0.89836</td>\n",
       "      <td>2.145966</td>\n",
       "      <td>0.89777</td>\n",
       "    </tr>\n",
       "    <tr>\n",
       "      <th>8</th>\n",
       "      <td>4</td>\n",
       "      <td>2.915476</td>\n",
       "      <td>0.2</td>\n",
       "      <td>1.428706</td>\n",
       "      <td>0.20062</td>\n",
       "      <td>1.947676</td>\n",
       "      <td>0.31177</td>\n",
       "    </tr>\n",
       "    <tr>\n",
       "      <th>9</th>\n",
       "      <td>4</td>\n",
       "      <td>2.915476</td>\n",
       "      <td>0.3</td>\n",
       "      <td>1.887856</td>\n",
       "      <td>0.29906</td>\n",
       "      <td>2.462412</td>\n",
       "      <td>0.41665</td>\n",
       "    </tr>\n",
       "    <tr>\n",
       "      <th>10</th>\n",
       "      <td>4</td>\n",
       "      <td>2.915476</td>\n",
       "      <td>0.4</td>\n",
       "      <td>2.367530</td>\n",
       "      <td>0.39842</td>\n",
       "      <td>2.946869</td>\n",
       "      <td>0.50514</td>\n",
       "    </tr>\n",
       "    <tr>\n",
       "      <th>11</th>\n",
       "      <td>4</td>\n",
       "      <td>2.915476</td>\n",
       "      <td>0.5</td>\n",
       "      <td>2.907989</td>\n",
       "      <td>0.49858</td>\n",
       "      <td>3.432711</td>\n",
       "      <td>0.58401</td>\n",
       "    </tr>\n",
       "    <tr>\n",
       "      <th>12</th>\n",
       "      <td>4</td>\n",
       "      <td>2.915476</td>\n",
       "      <td>0.6</td>\n",
       "      <td>3.536439</td>\n",
       "      <td>0.59896</td>\n",
       "      <td>3.946764</td>\n",
       "      <td>0.65689</td>\n",
       "    </tr>\n",
       "    <tr>\n",
       "      <th>13</th>\n",
       "      <td>4</td>\n",
       "      <td>2.915476</td>\n",
       "      <td>0.7</td>\n",
       "      <td>4.286117</td>\n",
       "      <td>0.70065</td>\n",
       "      <td>4.524106</td>\n",
       "      <td>0.72912</td>\n",
       "    </tr>\n",
       "    <tr>\n",
       "      <th>14</th>\n",
       "      <td>4</td>\n",
       "      <td>2.915476</td>\n",
       "      <td>0.8</td>\n",
       "      <td>5.247857</td>\n",
       "      <td>0.80167</td>\n",
       "      <td>5.230721</td>\n",
       "      <td>0.80041</td>\n",
       "    </tr>\n",
       "    <tr>\n",
       "      <th>15</th>\n",
       "      <td>4</td>\n",
       "      <td>2.915476</td>\n",
       "      <td>0.9</td>\n",
       "      <td>6.696387</td>\n",
       "      <td>0.90128</td>\n",
       "      <td>6.256512</td>\n",
       "      <td>0.87670</td>\n",
       "    </tr>\n",
       "    <tr>\n",
       "      <th>16</th>\n",
       "      <td>7</td>\n",
       "      <td>5.000000</td>\n",
       "      <td>0.2</td>\n",
       "      <td>2.102998</td>\n",
       "      <td>0.20243</td>\n",
       "      <td>3.340236</td>\n",
       "      <td>0.34967</td>\n",
       "    </tr>\n",
       "    <tr>\n",
       "      <th>17</th>\n",
       "      <td>7</td>\n",
       "      <td>5.000000</td>\n",
       "      <td>0.3</td>\n",
       "      <td>2.945352</td>\n",
       "      <td>0.30536</td>\n",
       "      <td>4.223002</td>\n",
       "      <td>0.44170</td>\n",
       "    </tr>\n",
       "    <tr>\n",
       "      <th>18</th>\n",
       "      <td>7</td>\n",
       "      <td>5.000000</td>\n",
       "      <td>0.4</td>\n",
       "      <td>3.868953</td>\n",
       "      <td>0.40596</td>\n",
       "      <td>5.053838</td>\n",
       "      <td>0.52185</td>\n",
       "    </tr>\n",
       "    <tr>\n",
       "      <th>19</th>\n",
       "      <td>7</td>\n",
       "      <td>5.000000</td>\n",
       "      <td>0.5</td>\n",
       "      <td>4.879959</td>\n",
       "      <td>0.50499</td>\n",
       "      <td>5.887050</td>\n",
       "      <td>0.59539</td>\n",
       "    </tr>\n",
       "    <tr>\n",
       "      <th>20</th>\n",
       "      <td>7</td>\n",
       "      <td>5.000000</td>\n",
       "      <td>0.6</td>\n",
       "      <td>6.047437</td>\n",
       "      <td>0.60856</td>\n",
       "      <td>6.768644</td>\n",
       "      <td>0.66375</td>\n",
       "    </tr>\n",
       "    <tr>\n",
       "      <th>21</th>\n",
       "      <td>7</td>\n",
       "      <td>5.000000</td>\n",
       "      <td>0.7</td>\n",
       "      <td>7.412307</td>\n",
       "      <td>0.70877</td>\n",
       "      <td>7.758778</td>\n",
       "      <td>0.73034</td>\n",
       "    </tr>\n",
       "    <tr>\n",
       "      <th>22</th>\n",
       "      <td>7</td>\n",
       "      <td>5.000000</td>\n",
       "      <td>0.8</td>\n",
       "      <td>9.148180</td>\n",
       "      <td>0.80644</td>\n",
       "      <td>8.970613</td>\n",
       "      <td>0.79795</td>\n",
       "    </tr>\n",
       "    <tr>\n",
       "      <th>23</th>\n",
       "      <td>7</td>\n",
       "      <td>5.000000</td>\n",
       "      <td>0.9</td>\n",
       "      <td>11.759732</td>\n",
       "      <td>0.90499</td>\n",
       "      <td>10.729830</td>\n",
       "      <td>0.87301</td>\n",
       "    </tr>\n",
       "    <tr>\n",
       "      <th>24</th>\n",
       "      <td>10</td>\n",
       "      <td>7.106335</td>\n",
       "      <td>0.2</td>\n",
       "      <td>2.788548</td>\n",
       "      <td>0.20088</td>\n",
       "      <td>4.747368</td>\n",
       "      <td>0.35352</td>\n",
       "    </tr>\n",
       "    <tr>\n",
       "      <th>25</th>\n",
       "      <td>10</td>\n",
       "      <td>7.106335</td>\n",
       "      <td>0.3</td>\n",
       "      <td>4.064972</td>\n",
       "      <td>0.30284</td>\n",
       "      <td>6.002014</td>\n",
       "      <td>0.44268</td>\n",
       "    </tr>\n",
       "    <tr>\n",
       "      <th>26</th>\n",
       "      <td>10</td>\n",
       "      <td>7.106335</td>\n",
       "      <td>0.4</td>\n",
       "      <td>5.422453</td>\n",
       "      <td>0.40309</td>\n",
       "      <td>7.182854</td>\n",
       "      <td>0.51886</td>\n",
       "    </tr>\n",
       "    <tr>\n",
       "      <th>27</th>\n",
       "      <td>10</td>\n",
       "      <td>7.106335</td>\n",
       "      <td>0.5</td>\n",
       "      <td>6.901304</td>\n",
       "      <td>0.50149</td>\n",
       "      <td>8.367070</td>\n",
       "      <td>0.58922</td>\n",
       "    </tr>\n",
       "    <tr>\n",
       "      <th>28</th>\n",
       "      <td>10</td>\n",
       "      <td>7.106335</td>\n",
       "      <td>0.6</td>\n",
       "      <td>8.580734</td>\n",
       "      <td>0.60166</td>\n",
       "      <td>9.620050</td>\n",
       "      <td>0.65694</td>\n",
       "    </tr>\n",
       "    <tr>\n",
       "      <th>29</th>\n",
       "      <td>10</td>\n",
       "      <td>7.106335</td>\n",
       "      <td>0.7</td>\n",
       "      <td>10.538074</td>\n",
       "      <td>0.70185</td>\n",
       "      <td>11.027296</td>\n",
       "      <td>0.72426</td>\n",
       "    </tr>\n",
       "    <tr>\n",
       "      <th>30</th>\n",
       "      <td>10</td>\n",
       "      <td>7.106335</td>\n",
       "      <td>0.8</td>\n",
       "      <td>13.023594</td>\n",
       "      <td>0.80349</td>\n",
       "      <td>12.749636</td>\n",
       "      <td>0.79334</td>\n",
       "    </tr>\n",
       "    <tr>\n",
       "      <th>31</th>\n",
       "      <td>10</td>\n",
       "      <td>7.106335</td>\n",
       "      <td>0.9</td>\n",
       "      <td>16.774803</td>\n",
       "      <td>0.90557</td>\n",
       "      <td>15.249954</td>\n",
       "      <td>0.87181</td>\n",
       "    </tr>\n",
       "  </tbody>\n",
       "</table>\n",
       "</div>"
      ],
      "text/plain": [
       "    VarianceRatio  sigmaMean    p  correctRadius  correctCoverage  meanRadius  \\\n",
       "0               1   1.000000  0.2       0.667458          0.19820    0.668047   \n",
       "1               1   1.000000  0.3       0.844275          0.29730    0.844600   \n",
       "2               1   1.000000  0.4       1.011583          0.39790    1.010768   \n",
       "3               1   1.000000  0.5       1.178049          0.49738    1.177410   \n",
       "4               1   1.000000  0.6       1.353994          0.59632    1.353729   \n",
       "5               1   1.000000  0.7       1.552772          0.69656    1.551756   \n",
       "6               1   1.000000  0.8       1.795494          0.79808    1.794123   \n",
       "7               1   1.000000  0.9       2.148721          0.89836    2.145966   \n",
       "8               4   2.915476  0.2       1.428706          0.20062    1.947676   \n",
       "9               4   2.915476  0.3       1.887856          0.29906    2.462412   \n",
       "10              4   2.915476  0.4       2.367530          0.39842    2.946869   \n",
       "11              4   2.915476  0.5       2.907989          0.49858    3.432711   \n",
       "12              4   2.915476  0.6       3.536439          0.59896    3.946764   \n",
       "13              4   2.915476  0.7       4.286117          0.70065    4.524106   \n",
       "14              4   2.915476  0.8       5.247857          0.80167    5.230721   \n",
       "15              4   2.915476  0.9       6.696387          0.90128    6.256512   \n",
       "16              7   5.000000  0.2       2.102998          0.20243    3.340236   \n",
       "17              7   5.000000  0.3       2.945352          0.30536    4.223002   \n",
       "18              7   5.000000  0.4       3.868953          0.40596    5.053838   \n",
       "19              7   5.000000  0.5       4.879959          0.50499    5.887050   \n",
       "20              7   5.000000  0.6       6.047437          0.60856    6.768644   \n",
       "21              7   5.000000  0.7       7.412307          0.70877    7.758778   \n",
       "22              7   5.000000  0.8       9.148180          0.80644    8.970613   \n",
       "23              7   5.000000  0.9      11.759732          0.90499   10.729830   \n",
       "24             10   7.106335  0.2       2.788548          0.20088    4.747368   \n",
       "25             10   7.106335  0.3       4.064972          0.30284    6.002014   \n",
       "26             10   7.106335  0.4       5.422453          0.40309    7.182854   \n",
       "27             10   7.106335  0.5       6.901304          0.50149    8.367070   \n",
       "28             10   7.106335  0.6       8.580734          0.60166    9.620050   \n",
       "29             10   7.106335  0.7      10.538074          0.70185   11.027296   \n",
       "30             10   7.106335  0.8      13.023594          0.80349   12.749636   \n",
       "31             10   7.106335  0.9      16.774803          0.90557   15.249954   \n",
       "\n",
       "    meanCoverage  \n",
       "0        0.19860  \n",
       "1        0.29753  \n",
       "2        0.39737  \n",
       "3        0.49706  \n",
       "4        0.59616  \n",
       "5        0.69617  \n",
       "6        0.79759  \n",
       "7        0.89777  \n",
       "8        0.31177  \n",
       "9        0.41665  \n",
       "10       0.50514  \n",
       "11       0.58401  \n",
       "12       0.65689  \n",
       "13       0.72912  \n",
       "14       0.80041  \n",
       "15       0.87670  \n",
       "16       0.34967  \n",
       "17       0.44170  \n",
       "18       0.52185  \n",
       "19       0.59539  \n",
       "20       0.66375  \n",
       "21       0.73034  \n",
       "22       0.79795  \n",
       "23       0.87301  \n",
       "24       0.35352  \n",
       "25       0.44268  \n",
       "26       0.51886  \n",
       "27       0.58922  \n",
       "28       0.65694  \n",
       "29       0.72426  \n",
       "30       0.79334  \n",
       "31       0.87181  "
      ]
     },
     "execution_count": 7,
     "metadata": {},
     "output_type": "execute_result"
    }
   ],
   "source": [
    "import pandas as pd\n",
    "numSims = 100_000\n",
    "ratios = []\n",
    "for varianceRatio in range(1, 12,3):\n",
    "    sigmaX = varianceRatio\n",
    "    sigmaY = 1.0\n",
    "    # Generate simulated shots\n",
    "    shotsX = [np.random.normal(scale=sigmaX) for i in range(0, numSims)]\n",
    "    shotsY = [np.random.normal(scale=sigmaY) for i in range(0, numSims)]\n",
    "    sigmaMean = math.sqrt((sigmaX**2 + sigmaY**2)/2.0)\n",
    "    #sampleSigma = math.sqrt((np.sum(np.square(shotsX))+np.sum(np.square(shotsY)))/(2*numSims))  # Approx Equal to sigmaMean\n",
    "    for p in np.arange(.2, 1, .1):\n",
    "        r = [varianceRatio, sigmaMean, p]\n",
    "        CEPradius = elliptical_covering_radius(sigmaX, sigmaY, p)  # Correct covering radius\n",
    "        r.append(CEPradius)\n",
    "        r.append(sum(1 for s in range(numSims) if (shotsX[s]**2/(CEPradius**2) + shotsY[s]**2/(CEPradius**2) < 1)) / numSims)  # Coverage\n",
    "        CEPradius = sigmaMean * math.sqrt(-2 * math.log(1-p))  # Covering radius assuming sigmaMean\n",
    "        r.append(CEPradius)\n",
    "        r.append(sum(1 for s in range(numSims) if (shotsX[s]**2/(CEPradius**2) + shotsY[s]**2/(CEPradius**2) < 1)) / numSims)  # Coverage\n",
    "        ratios.append(r)\n",
    "df = pd.DataFrame(ratios, columns=['VarianceRatio', 'sigmaMean', 'p', 'correctRadius', 'correctCoverage', 'meanRadius', 'meanCoverage'])\n",
    "df.to_clipboard()"
   ]
  },
  {
   "cell_type": "markdown",
   "metadata": {},
   "source": [
    "### Covering interval in one dimension"
   ]
  },
  {
   "cell_type": "code",
   "execution_count": 5,
   "metadata": {},
   "outputs": [
    {
     "name": "stdout",
     "output_type": "stream",
     "text": [
      "To cover 60% of variable with sigma 2.0: Centered interval 1.683 covers 60.0%\n"
     ]
    }
   ],
   "source": [
    "# Covering interval in one dimension has a different functional form:\n",
    "from scipy.special import erfinv\n",
    "numShots = 200_000\n",
    "sigmaX = 2.0\n",
    "p = 0.6     # Proportion of shots to cover with interval\n",
    "normInterval = sigmaX * math.sqrt(2) * erfinv(p)\n",
    "shotsX = [np.random.normal(scale=sigmaX) for i in range(0, numShots)]\n",
    "print(f'To cover {p:.0%} of variable with sigma {sigmaX}: Centered interval {normInterval:.3f} covers {sum(1 for s in range(numShots) if abs(shotsX[s]) < normInterval)/numShots:.1%}')"
   ]
  },
  {
   "cell_type": "markdown",
   "metadata": {},
   "source": [
    "# Order Statistics"
   ]
  },
  {
   "cell_type": "code",
   "execution_count": 38,
   "metadata": {},
   "outputs": [],
   "source": [
    "class OrderStatistics(Group):\n",
    "    \"\"\"\n",
    "    Order statistics are an alternate way of estimating sigma.\n",
    "    This subclass implements the calculations so that we can validate them.\n",
    "    \"\"\"\n",
    "    sortedShots: list[int]                  # Index of shot by radius, small to large\n",
    "    orderSampleR2: float                    # Estimate of sum radii squared\n",
    "    sigmaOrderStatEstimate: float           # Rayleigh parameter estimate\n",
    "    sigmaOrderStatUpperConfidence: float    # Upper bound of confidenceInterval on sigmaOrderStatEstimate\n",
    "\n",
    "    def computeOrderStatistics(self) -> float:\n",
    "        \"\"\"\n",
    "        Compute sigma using Order Statistics approach.\n",
    "        Only defined here for n = 3, 5, or 10.\n",
    "        \"\"\"\n",
    "        def Rstat(m: int):\n",
    "            \"\"\"Return mth smallest radii -- i.e., order statistic R(m)\"\"\"\n",
    "            if m > self.n:\n",
    "                raise Exception(f\"Tried to access order statistic {m} on group size {self.n}\")\n",
    "            return self.radii[self.sortedShots][m-1]\n",
    "        \n",
    "        self.sortedShots = np.argsort(self.radii)  # Index of shot by radius, small to large\n",
    "        if self.n == 3:\n",
    "            self.orderSampleR2 = 0.66 * Rstat(3)**2\n",
    "        elif self.n == 5:\n",
    "            self.orderSampleR2 = 0.7792 * Rstat(4)**2\n",
    "        elif self.n == 10:\n",
    "            self.orderSampleR2 = 0.4913 * Rstat(6)**2 + 0.3030 * Rstat(9)**2\n",
    "        else:\n",
    "            raise Exception(f\"No order statistics defined for group size n={self.n}\\nOnly for n = 3, 5, or 10.\")\n",
    "        self.orderSampleSumR2 = self.n * self.orderSampleR2\n",
    "        self.sigmaOrderStatEstimate = Group.cGauss(self.degrees+1) * math.sqrt(self.orderSampleSumR2 / self.degrees)\n",
    "        self.sigmaOrderStatUpperConfidence = math.sqrt(self.orderSampleSumR2 / (chi2.ppf(0.05, self.degrees)))\n",
    "        return self.sigmaOrderStatEstimate"
   ]
  },
  {
   "cell_type": "code",
   "execution_count": 33,
   "metadata": {},
   "outputs": [
    {
     "name": "stdout",
     "output_type": "stream",
     "text": [
      "Sigma estimate using Rayleigh estimator: 1.0948265273926074\n",
      "Sigma estimate using Order Statistics:  1.1008539269973991\n"
     ]
    }
   ],
   "source": [
    "# Example estimating sigma using order statistics:\n",
    "gOS = OrderStatistics(10)\n",
    "print(f'Sigma estimate using Rayleigh estimator: {gOS.sigmaEstimate}\\n'\n",
    "      f'Sigma estimate using Order Statistics:  {gOS.computeOrderStatistics()}')"
   ]
  },
  {
   "cell_type": "markdown",
   "metadata": {},
   "source": [
    "## Simulations of Order Statistics"
   ]
  },
  {
   "cell_type": "markdown",
   "metadata": {},
   "source": [
    "### 10-shot groups"
   ]
  },
  {
   "cell_type": "code",
   "execution_count": 54,
   "metadata": {},
   "outputs": [
    {
     "name": "stdout",
     "output_type": "stream",
     "text": [
      " *** Based on 100,000 simulated 10-shot groups, with true sigma 1.0: ***\n",
      "Max. Efficiency Estimator gives mean sigma = 1.000  with variance = 0.0281\tUpper 5% Confidence < Sigma 4.99%\n",
      "Order Statistic Estimator gives mean sigma = 1.000  with variance = 0.0324\tUpper 5% Confidence < Sigma 6.16%\n",
      "\tOrder Stat Efficiency is ratio of variances = 86.9%\n"
     ]
    }
   ],
   "source": [
    "# Simulation to validate OrderStatistics\n",
    "groupSize = 10          # Number of shots per group\n",
    "simulations = 100_000   # Number of groups to simulate\n",
    "simulationSigma = 1.0   # Sigma to use when generating random shots\n",
    "simConfidence = 0.9     # Confidence interval to compute\n",
    "\n",
    "simOrderStats = [OrderStatistics(groupSize, sigma=simulationSigma, confidenceInterval=simConfidence) for i in range(0, simulations)]  # Run simulations\n",
    "efficientEstimates = [s.sigmaEstimate for s in simOrderStats]\n",
    "efficientEstimateVariance = np.var(efficientEstimates)\n",
    "orderStatEstimates = [s.computeOrderStatistics() for s in simOrderStats]  # This causes each simulation to run orderStatistics\n",
    "orderStatEstimateVariance = np.var(orderStatEstimates)\n",
    "print(f\" *** Based on {simulations:,} simulated {groupSize}-shot groups, with true sigma {simulationSigma}: ***\"\n",
    "    f\"\\nMax. Efficiency Estimator gives mean sigma = {np.mean(efficientEstimates):.3f}  with variance = {efficientEstimateVariance:.4f}\"\n",
    "        f\"\\tUpper {(1-simConfidence)/2:.0%} Confidence < Sigma {sum(1 for s in simOrderStats if s.sigmaUpperConfidence < simulationSigma)/simulations:.2%}\"\n",
    "    f\"\\nOrder Statistic Estimator gives mean sigma = {np.mean(orderStatEstimates):.3f}  with variance = {orderStatEstimateVariance:.4f}\"\n",
    "        f\"\\tUpper {(1-simConfidence)/2:.0%} Confidence < Sigma {sum(1 for s in simOrderStats if s.sigmaOrderStatUpperConfidence < simulationSigma)/simulations:.2%}\"\n",
    "    f\"\\n\\tOrder Stat Efficiency is ratio of variances = {(efficientEstimateVariance/orderStatEstimateVariance):.1%}\")"
   ]
  },
  {
   "cell_type": "markdown",
   "metadata": {},
   "source": [
    "### 5-shot groups"
   ]
  },
  {
   "cell_type": "code",
   "execution_count": 53,
   "metadata": {},
   "outputs": [
    {
     "name": "stdout",
     "output_type": "stream",
     "text": [
      " *** Based on 100,000 simulated 5-shot groups, with true sigma 1.0: ***\n",
      "Max. Efficiency Estimator gives mean sigma = 0.998  with variance = 0.0645\tUpper 5% Confidence < Sigma 5.11%\n",
      "Order Statistic Estimator gives mean sigma = 1.008  with variance = 0.0815\tUpper 5% Confidence < Sigma 6.43%\n",
      "\tOrder Stat Efficiency is ratio of variances = 79.1%\n"
     ]
    }
   ],
   "source": [
    "# Simulation to validate OrderStatistics\n",
    "groupSize = 5           # Number of shots per group\n",
    "simulations = 100_000   # Number of groups to simulate\n",
    "simulationSigma = 1.0   # Sigma to use when generating random shots\n",
    "simConfidence = 0.9     # Confidence interval to compute\n",
    "\n",
    "simOrderStats = [OrderStatistics(groupSize, sigma=simulationSigma, confidenceInterval=simConfidence) for i in range(0, simulations)]  # Run simulations\n",
    "efficientEstimates = [s.sigmaEstimate for s in simOrderStats]\n",
    "efficientEstimateVariance = np.var(efficientEstimates)\n",
    "orderStatEstimates = [s.computeOrderStatistics() for s in simOrderStats]  # This causes each simulation to run orderStatistics\n",
    "orderStatEstimateVariance = np.var(orderStatEstimates)\n",
    "print(f\" *** Based on {simulations:,} simulated {groupSize}-shot groups, with true sigma {simulationSigma}: ***\"\n",
    "    f\"\\nMax. Efficiency Estimator gives mean sigma = {np.mean(efficientEstimates):.3f}  with variance = {efficientEstimateVariance:.4f}\"\n",
    "        f\"\\tUpper {(1-simConfidence)/2:.0%} Confidence < Sigma {sum(1 for s in simOrderStats if s.sigmaUpperConfidence < simulationSigma)/simulations:.2%}\"\n",
    "    f\"\\nOrder Statistic Estimator gives mean sigma = {np.mean(orderStatEstimates):.3f}  with variance = {orderStatEstimateVariance:.4f}\"\n",
    "        f\"\\tUpper {(1-simConfidence)/2:.0%} Confidence < Sigma {sum(1 for s in simOrderStats if s.sigmaOrderStatUpperConfidence < simulationSigma)/simulations:.2%}\"\n",
    "    f\"\\n\\tOrder Stat Efficiency is ratio of variances = {(efficientEstimateVariance/orderStatEstimateVariance):.1%}\")"
   ]
  },
  {
   "cell_type": "markdown",
   "metadata": {},
   "source": [
    "### 3-shot groups"
   ]
  },
  {
   "cell_type": "code",
   "execution_count": 52,
   "metadata": {},
   "outputs": [
    {
     "name": "stdout",
     "output_type": "stream",
     "text": [
      " *** Based on 100,000 simulated 3-shot groups, with true sigma 1.0: ***\n",
      "Max. Efficiency Estimator gives mean sigma = 1.000  with variance = 0.1322\tUpper 5% Confidence < Sigma 5.01%\n",
      "Order Statistic Estimator gives mean sigma = 1.040  with variance = 0.1490\tUpper 5% Confidence < Sigma 4.59%\n",
      "\tOrder Stat Efficiency is ratio of variances = 88.7%\n"
     ]
    }
   ],
   "source": [
    "# n = 3 ... at this size a single order statistic is a very coarse estimator\n",
    "groupSize = 3           # Number of shots per group\n",
    "simulations = 100_000   # Number of groups to simulate\n",
    "simulationSigma = 1.0   # Sigma to use when generating random shots\n",
    "simConfidence = 0.9     # Confidence interval to compute\n",
    "\n",
    "simOrderStats = [OrderStatistics(groupSize, sigma=simulationSigma, confidenceInterval=simConfidence) for i in range(0, simulations)]  # Run simulations\n",
    "efficientEstimates = [s.sigmaEstimate for s in simOrderStats]\n",
    "efficientEstimateVariance = np.var(efficientEstimates)\n",
    "orderStatEstimates = [s.computeOrderStatistics() for s in simOrderStats]  # This causes each simulation to run orderStatistics\n",
    "orderStatEstimateVariance = np.var(orderStatEstimates)\n",
    "print(f\" *** Based on {simulations:,} simulated {groupSize}-shot groups, with true sigma {simulationSigma}: ***\"\n",
    "    f\"\\nMax. Efficiency Estimator gives mean sigma = {np.mean(efficientEstimates):.3f}  with variance = {efficientEstimateVariance:.4f}\"\n",
    "        f\"\\tUpper {(1-simConfidence)/2:.0%} Confidence < Sigma {sum(1 for s in simOrderStats if s.sigmaUpperConfidence < simulationSigma)/simulations:.2%}\"\n",
    "    f\"\\nOrder Statistic Estimator gives mean sigma = {np.mean(orderStatEstimates):.3f}  with variance = {orderStatEstimateVariance:.4f}\"\n",
    "        f\"\\tUpper {(1-simConfidence)/2:.0%} Confidence < Sigma {sum(1 for s in simOrderStats if s.sigmaOrderStatUpperConfidence < simulationSigma)/simulations:.2%}\"\n",
    "    f\"\\n\\tOrder Stat Efficiency is ratio of variances = {(efficientEstimateVariance/orderStatEstimateVariance):.1%}\")"
   ]
  },
  {
   "cell_type": "markdown",
   "metadata": {},
   "source": [
    "## Cython order statistic simulations"
   ]
  },
  {
   "cell_type": "code",
   "execution_count": 16,
   "metadata": {},
   "outputs": [],
   "source": [
    "%load_ext cython"
   ]
  },
  {
   "cell_type": "code",
   "execution_count": 45,
   "metadata": {},
   "outputs": [],
   "source": [
    "%%cython --cplus\n",
    "import numpy as np\n",
    "import math\n",
    "from scipy.stats.distributions import chi2\n",
    "from libcpp.algorithm cimport sort  # C++ sort seems to be fastest\n",
    "from libc.math cimport sqrt\n",
    "cimport cython\n",
    "\n",
    "@cython.boundscheck(False)  # Doesn't check array bounds\n",
    "@cython.wraparound(False)  # Doesn't allow negative indexing\n",
    "@cython.cdivision(True)  # Doesn't spend time checking for zero divisors\n",
    "def runSimOrderStats(int numShots, Py_ssize_t numSims, double sigma = 1.0, double confidenceInterval = 0.9):\n",
    "    if numShots not in [3, 5, 10]:\n",
    "        raise NotImplementedError(f\"No order statistics defined for group size n={numShots}\"\n",
    "                                  f\"\\nOnly for n = 3, 5, or 10.\")\n",
    "\n",
    "    cdef double[:] sigmaEstimate = np.zeros(numSims, np.double)\n",
    "    cdef double[:] sigmaUpperConfidence = np.zeros(numSims, np.double)\n",
    "\n",
    "    # Index: [Simulation#, Shot#, Axis]\n",
    "    cdef double[:,:,:] shots = np.random.normal(scale=sigma, size=(numSims, numShots, 2)).astype(np.double)\n",
    "\n",
    "    cdef int degrees = 2*(numShots-1)  # Degrees of freedom (for estimators)\n",
    "    cdef double d = degrees+1\n",
    "    cdef double cG = 1/math.exp(math.log(math.sqrt(2/(d-1))) + math.lgamma(d/2) - math.lgamma((d-1)/2))\n",
    "    cdef double chiNorm = 1/chi2.ppf((1-confidenceInterval)/2, degrees)\n",
    "\n",
    "    cdef double sumR2                  # Sample sum R^2 based on order statistics\n",
    "    cdef double xbar, ybar\n",
    "    cdef Py_ssize_t i, s\n",
    "    cdef double[:] radii2 = np.zeros(numShots, np.double)  # Radius squared of each shot\n",
    "    for s in range(numSims):\n",
    "        # Compute sampleCenter = [xbar, ybar]\n",
    "        xbar = ybar = 0\n",
    "        for i in range(numShots):\n",
    "            xbar += shots[s, i, 0]\n",
    "            ybar += shots[s, i, 1]\n",
    "        xbar /= numShots\n",
    "        ybar /= numShots\n",
    "        # Compute radius for each shot\n",
    "        for i in range(numShots):\n",
    "            radii2[i] = (shots[s, i, 0] - xbar)**2 + (shots[s, i, 1] - ybar)**2\n",
    "            sumR2 += radii2[i]\n",
    "        # Sort radii\n",
    "        sort(&radii2[0], (&radii2[0])+radii2.shape[0])\n",
    "        if numShots == 3:\n",
    "            sumR2 = 0.66 * radii2[3-1]\n",
    "        elif numShots == 5:\n",
    "            sumR2 = 0.7792 * radii2[4-1]\n",
    "        else: # numShots == 10:\n",
    "            sumR2 = 0.4913 * radii2[6-1] + 0.3030 * radii2[9-1]\n",
    "        sumR2 = sumR2 * numShots\n",
    "        sigmaEstimate[s] = cG * sqrt(sumR2 / degrees)\n",
    "\n",
    "    return sigmaEstimate"
   ]
  },
  {
   "cell_type": "code",
   "execution_count": 55,
   "metadata": {},
   "outputs": [
    {
     "name": "stdout",
     "output_type": "stream",
     "text": [
      " *** Based on 1,000,000 simulated 10-shot groups: ***\n",
      "Mean estimated sigma = 0.9995 vs true sigma = 1.0   <-- Mean estimate should converge to true as #simulations increases\n"
     ]
    }
   ],
   "source": [
    "groupSize = 10             # Number of shots per group\n",
    "simulations = 1_000_000    # Number of groups to simulate\n",
    "simulationSigma = 1.0      # Sigma to use when generating random shots\n",
    "\n",
    "sigmaEstimate = runSimOrderStats(groupSize, simulations, sigma=simulationSigma, confidenceInterval=simConfidence)\n",
    "\n",
    "print(f\" *** Based on {simulations:,} simulated {groupSize}-shot groups: ***\"\n",
    "    f\"\\nMean estimated sigma = {np.mean(sigmaEstimate):.4f} vs true sigma = {simulationSigma}   <-- Mean estimate should converge to true as #simulations increases\")"
   ]
  }
 ],
 "metadata": {
  "kernelspec": {
   "display_name": "Python 3",
   "language": "python",
   "name": "python3"
  },
  "language_info": {
   "codemirror_mode": {
    "name": "ipython",
    "version": 3
   },
   "file_extension": ".py",
   "mimetype": "text/x-python",
   "name": "python",
   "nbconvert_exporter": "python",
   "pygments_lexer": "ipython3",
   "version": "3.10.9"
  },
  "orig_nbformat": 4
 },
 "nbformat": 4,
 "nbformat_minor": 2
}
